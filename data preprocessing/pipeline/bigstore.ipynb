{
 "cells": [
  {
   "cell_type": "markdown",
   "metadata": {},
   "source": [
    "# BigStore Problem"
   ]
  },
  {
   "cell_type": "code",
   "execution_count": 1,
   "metadata": {},
   "outputs": [],
   "source": [
    "import pandas as pd\n",
    "import numpy as np\n",
    "from sklearn.compose import ColumnTransformer \n",
    "from sklearn.impute import SimpleImputer\n",
    "#import category_encoders as ce\n",
    "from sklearn.preprocessing import StandardScaler\n",
    "from sklearn.ensemble import RandomForestRegressor\n",
    "from sklearn.pipeline import Pipeline\n",
    "from sklearn.metrics import mean_squared_error\n",
    "import matplotlib.pyplot as plt\n",
    "%matplotlib inline"
   ]
  },
  {
   "cell_type": "markdown",
   "metadata": {},
   "source": [
    "## Read Data"
   ]
  },
  {
   "cell_type": "code",
   "execution_count": 2,
   "metadata": {},
   "outputs": [
    {
     "data": {
      "text/plain": [
       "Item_Identifier                 0\n",
       "Item_Weight                  1463\n",
       "Item_Fat_Content                0\n",
       "Item_Visibility                 0\n",
       "Item_Type                       0\n",
       "Item_MRP                        0\n",
       "Outlet_Identifier               0\n",
       "Outlet_Establishment_Year       0\n",
       "Outlet_Size                  2410\n",
       "Outlet_Location_Type            0\n",
       "Outlet_Type                     0\n",
       "Item_Outlet_Sales               0\n",
       "dtype: int64"
      ]
     },
     "execution_count": 2,
     "metadata": {},
     "output_type": "execute_result"
    }
   ],
   "source": [
    "# read the train data\n",
    "train_data = pd.read_csv('https://goz39a.s3.eu-central-1.amazonaws.com/bigstore_train.csv')\n",
    "\n",
    "# check for the null values\n",
    "train_data.isna().sum()"
   ]
  },
  {
   "cell_type": "code",
   "execution_count": 3,
   "metadata": {},
   "outputs": [],
   "source": [
    "train_x = train_data.drop(columns=['Item_Outlet_Sales'])\n",
    "train_y = train_data['Item_Outlet_Sales']"
   ]
  },
  {
   "cell_type": "markdown",
   "metadata": {},
   "source": [
    "## Create a custom Encoder for binary columns\n",
    "We will add three binary variable to the dataset (1 or 0 as value)\n",
    "- outlet_grocery_store\n",
    "- outlet_supermarket_3\n",
    "- outlet_supermarket_3\n",
    "\n",
    "Note that this class enherits from the BaseEstimator class since we need the functions `fit` and `transform`"
   ]
  },
  {
   "cell_type": "code",
   "execution_count": 6,
   "metadata": {},
   "outputs": [],
   "source": [
    "# import the BaseEstimator\n",
    "from sklearn.base import BaseEstimator\n",
    "\n",
    "class OutletTypeEncoder(BaseEstimator):\n",
    "\n",
    "    def __init__(self):\n",
    "        pass\n",
    "\n",
    "    def fit(self, documents, y=None):\n",
    "        return self\n",
    "\n",
    "    def transform(self, x_dataset):\n",
    "        x_dataset['outlet_grocery_store'] = (x_dataset['Outlet_Type'] == 'Grocery Store')*1\n",
    "        x_dataset['outlet_supermarket_3'] = (x_dataset['Outlet_Type'] == 'Supermarket Type3')*1\n",
    "        x_dataset['outlet_supermarket_3'] = (x_dataset['Outlet_Identifier'] == 'OUT027')*1\n",
    "        \n",
    "        return x_dataset"
   ]
  },
  {
   "cell_type": "markdown",
   "metadata": {},
   "source": [
    "## Construct Column transformer with the following tasks\n",
    "- drop unneeded columns\n",
    "- fill the missing values using an Imputer\n",
    "- scale the numerical values in the feature matrix\n"
   ]
  },
  {
   "cell_type": "code",
   "execution_count": 4,
   "metadata": {},
   "outputs": [],
   "source": [
    "pre_process = ColumnTransformer(remainder='passthrough',\n",
    "                                transformers=[('drop_columns', 'drop', ['Item_Identifier',\n",
    "                                                                        'Outlet_Identifier',\n",
    "                                                                        'Item_Fat_Content',\n",
    "                                                                        'Item_Type',\n",
    "                                                                        'Outlet_Identifier',\n",
    "                                                                        'Outlet_Size',\n",
    "                                                                        'Outlet_Location_Type',\n",
    "                                                                        'Outlet_Type'\n",
    "                                                                       ]),\n",
    "                                              ('impute_item_weight', SimpleImputer(strategy='mean'), ['Item_Weight']),\n",
    "                                              ('scale_data', StandardScaler(),['Item_MRP'])])"
   ]
  },
  {
   "cell_type": "markdown",
   "metadata": {},
   "source": [
    "## Assemble the Pipeline\n",
    "Add the forecasting model at the end of the pipeline (RandomForest) with depth 10"
   ]
  },
  {
   "cell_type": "code",
   "execution_count": 7,
   "metadata": {},
   "outputs": [],
   "source": [
    "model_pipeline = Pipeline(steps=[('get_outlet_binary_columns', OutletTypeEncoder()), \n",
    "                                 ('pre_processing',pre_process),\n",
    "                                 ('random_forest', RandomForestRegressor(max_depth=10,random_state=0))\n",
    "                                 ])"
   ]
  },
  {
   "cell_type": "markdown",
   "metadata": {},
   "source": [
    "## Testing a Suite of Models"
   ]
  },
  {
   "cell_type": "code",
   "execution_count": 8,
   "metadata": {},
   "outputs": [
    {
     "name": "stdout",
     "output_type": "stream",
     "text": [
      "[ 930.17 1133.15 1133.16 1134.06]\n"
     ]
    }
   ],
   "source": [
    "from sklearn.linear_model import LinearRegression\n",
    "from sklearn.linear_model import Ridge\n",
    "from sklearn.linear_model import Lasso\n",
    "\n",
    "model_1 = RandomForestRegressor(max_depth=10,random_state=0)\n",
    "model_2 = LinearRegression(fit_intercept=True)\n",
    "model_3 = Ridge(alpha=5)\n",
    "model_4 = Lasso(alpha=10)\n",
    "MSE = []\n",
    "for mymodels in [model_1,model_2,model_3,model_4]:\n",
    "    model_pipeline = Pipeline(steps=[('get_outlet_binary_columns', OutletTypeEncoder()), \n",
    "                                 ('pre_processing',pre_process),\n",
    "                                 ('model', mymodels)\n",
    "                                 ])\n",
    "    model_pipeline.fit(train_x,train_y)\n",
    "    MSE.append(mean_squared_error(train_y,model_pipeline.predict(train_x))**0.5)\n",
    "    \n",
    "print(np.round(MSE,2))   "
   ]
  },
  {
   "cell_type": "code",
   "execution_count": 9,
   "metadata": {},
   "outputs": [
    {
     "data": {
      "text/plain": [
       "{'memory': None,\n",
       " 'steps': [('get_outlet_binary_columns', OutletTypeEncoder()),\n",
       "  ('pre_processing',\n",
       "   ColumnTransformer(remainder='passthrough',\n",
       "                     transformers=[('drop_columns', 'drop',\n",
       "                                    ['Item_Identifier', 'Outlet_Identifier',\n",
       "                                     'Item_Fat_Content', 'Item_Type',\n",
       "                                     'Outlet_Identifier', 'Outlet_Size',\n",
       "                                     'Outlet_Location_Type', 'Outlet_Type']),\n",
       "                                   ('impute_item_weight', SimpleImputer(),\n",
       "                                    ['Item_Weight']),\n",
       "                                   ('scale_data', StandardScaler(), ['Item_MRP'])])),\n",
       "  ('model', Lasso(alpha=10))],\n",
       " 'verbose': False,\n",
       " 'get_outlet_binary_columns': OutletTypeEncoder(),\n",
       " 'pre_processing': ColumnTransformer(remainder='passthrough',\n",
       "                   transformers=[('drop_columns', 'drop',\n",
       "                                  ['Item_Identifier', 'Outlet_Identifier',\n",
       "                                   'Item_Fat_Content', 'Item_Type',\n",
       "                                   'Outlet_Identifier', 'Outlet_Size',\n",
       "                                   'Outlet_Location_Type', 'Outlet_Type']),\n",
       "                                 ('impute_item_weight', SimpleImputer(),\n",
       "                                  ['Item_Weight']),\n",
       "                                 ('scale_data', StandardScaler(), ['Item_MRP'])]),\n",
       " 'model': Lasso(alpha=10),\n",
       " 'pre_processing__n_jobs': None,\n",
       " 'pre_processing__remainder': 'passthrough',\n",
       " 'pre_processing__sparse_threshold': 0.3,\n",
       " 'pre_processing__transformer_weights': None,\n",
       " 'pre_processing__transformers': [('drop_columns',\n",
       "   'drop',\n",
       "   ['Item_Identifier',\n",
       "    'Outlet_Identifier',\n",
       "    'Item_Fat_Content',\n",
       "    'Item_Type',\n",
       "    'Outlet_Identifier',\n",
       "    'Outlet_Size',\n",
       "    'Outlet_Location_Type',\n",
       "    'Outlet_Type']),\n",
       "  ('impute_item_weight', SimpleImputer(), ['Item_Weight']),\n",
       "  ('scale_data', StandardScaler(), ['Item_MRP'])],\n",
       " 'pre_processing__verbose': False,\n",
       " 'pre_processing__drop_columns': 'drop',\n",
       " 'pre_processing__impute_item_weight': SimpleImputer(),\n",
       " 'pre_processing__scale_data': StandardScaler(),\n",
       " 'pre_processing__impute_item_weight__add_indicator': False,\n",
       " 'pre_processing__impute_item_weight__copy': True,\n",
       " 'pre_processing__impute_item_weight__fill_value': None,\n",
       " 'pre_processing__impute_item_weight__missing_values': nan,\n",
       " 'pre_processing__impute_item_weight__strategy': 'mean',\n",
       " 'pre_processing__impute_item_weight__verbose': 0,\n",
       " 'pre_processing__scale_data__copy': True,\n",
       " 'pre_processing__scale_data__with_mean': True,\n",
       " 'pre_processing__scale_data__with_std': True,\n",
       " 'model__alpha': 10,\n",
       " 'model__copy_X': True,\n",
       " 'model__fit_intercept': True,\n",
       " 'model__max_iter': 1000,\n",
       " 'model__normalize': False,\n",
       " 'model__positive': False,\n",
       " 'model__precompute': False,\n",
       " 'model__random_state': None,\n",
       " 'model__selection': 'cyclic',\n",
       " 'model__tol': 0.0001,\n",
       " 'model__warm_start': False}"
      ]
     },
     "execution_count": 9,
     "metadata": {},
     "output_type": "execute_result"
    }
   ],
   "source": [
    "model_pipeline.get_params()"
   ]
  },
  {
   "cell_type": "code",
   "execution_count": 10,
   "metadata": {},
   "outputs": [],
   "source": [
    "transformer = model_pipeline.get_params()['steps'][1][1]"
   ]
  },
  {
   "cell_type": "code",
   "execution_count": 11,
   "metadata": {},
   "outputs": [],
   "source": [
    "my_scaler = transformer.get_params()['transformers'][2][1]"
   ]
  },
  {
   "cell_type": "code",
   "execution_count": 12,
   "metadata": {},
   "outputs": [
    {
     "data": {
      "text/plain": [
       "{'copy': True, 'with_mean': True, 'with_std': True}"
      ]
     },
     "execution_count": 12,
     "metadata": {},
     "output_type": "execute_result"
    }
   ],
   "source": [
    "my_scaler.get_params()"
   ]
  },
  {
   "cell_type": "code",
   "execution_count": null,
   "metadata": {},
   "outputs": [],
   "source": []
  }
 ],
 "metadata": {
  "kernelspec": {
   "display_name": "Python 3 (ipykernel)",
   "language": "python",
   "name": "python3"
  },
  "language_info": {
   "codemirror_mode": {
    "name": "ipython",
    "version": 3
   },
   "file_extension": ".py",
   "mimetype": "text/x-python",
   "name": "python",
   "nbconvert_exporter": "python",
   "pygments_lexer": "ipython3",
   "version": "3.9.7"
  },
  "toc": {
   "base_numbering": 1,
   "nav_menu": {},
   "number_sections": true,
   "sideBar": true,
   "skip_h1_title": false,
   "title_cell": "Table of Contents",
   "title_sidebar": "Contents",
   "toc_cell": false,
   "toc_position": {},
   "toc_section_display": true,
   "toc_window_display": false
  },
  "varInspector": {
   "cols": {
    "lenName": 16,
    "lenType": 16,
    "lenVar": 40
   },
   "kernels_config": {
    "python": {
     "delete_cmd_postfix": "",
     "delete_cmd_prefix": "del ",
     "library": "var_list.py",
     "varRefreshCmd": "print(var_dic_list())"
    },
    "r": {
     "delete_cmd_postfix": ") ",
     "delete_cmd_prefix": "rm(",
     "library": "var_list.r",
     "varRefreshCmd": "cat(var_dic_list()) "
    }
   },
   "types_to_exclude": [
    "module",
    "function",
    "builtin_function_or_method",
    "instance",
    "_Feature"
   ],
   "window_display": false
  }
 },
 "nbformat": 4,
 "nbformat_minor": 4
}
