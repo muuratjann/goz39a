{
  "nbformat": 4,
  "nbformat_minor": 0,
  "metadata": {
    "colab": {
      "name": "Data Preprocessing with Pandas",
      "provenance": [],
      "authorship_tag": "ABX9TyMKcovO/nIbZSeTPOtnoExQ",
      "include_colab_link": true
    },
    "kernelspec": {
      "name": "python3",
      "display_name": "Python 3"
    }
  },
  "cells": [
    {
      "cell_type": "markdown",
      "metadata": {
        "id": "view-in-github",
        "colab_type": "text"
      },
      "source": [
        "<a href=\"https://colab.research.google.com/github/despiegj/goz39a/blob/main/Data_Preprocessing_with_Pandas.ipynb\" target=\"_parent\"><img src=\"https://colab.research.google.com/assets/colab-badge.svg\" alt=\"Open In Colab\"/></a>"
      ]
    },
    {
      "cell_type": "markdown",
      "metadata": {
        "id": "0ms_l2l5x-pO"
      },
      "source": [
        "# Data Preprocessing with Pandas\n",
        "Preprocessing is the process of doing a pre-analysis of data, in order to transform them into a standard and normalized format.\n",
        "Preprocessing involves the following aspects:\n",
        "- missing values\n",
        "- data formatting\n",
        "- data standardization\n",
        "- data normalization\n",
        "- data binning\n",
        "\n",
        "References : \n",
        "- https://towardsdatascience.com/data-preprocessing-with-python-pandas-part-1-missing-data-45e76b781993\n",
        "- https://towardsdatascience.com/data-processing-with-python-pandas-part-2-data-formatting-710c2eafa426\n"
      ]
    },
    {
      "cell_type": "markdown",
      "metadata": {
        "id": "Q-MkauFayjBk"
      },
      "source": [
        "## Missing Values\n",
        "The `hepatitis` dataset was downloaded from [openML](https://www.openml.org/d/55)\n",
        "\n"
      ]
    },
    {
      "cell_type": "code",
      "metadata": {
        "id": "k4HZUTrHzfBR"
      },
      "source": [
        "import pandas as pd"
      ],
      "execution_count": 2,
      "outputs": []
    },
    {
      "cell_type": "code",
      "metadata": {
        "colab": {
          "base_uri": "https://localhost:8080/",
          "height": 379
        },
        "id": "w1eYiaof0oKW",
        "outputId": "3dda427a-a6b4-4228-b255-22bad85cea82"
      },
      "source": [
        "df = pd.read_csv('https://goz39a.s3.eu-central-1.amazonaws.com/hepatitis_csv.csv')\n",
        "df.head(10)"
      ],
      "execution_count": 3,
      "outputs": [
        {
          "output_type": "execute_result",
          "data": {
            "text/html": [
              "<div>\n",
              "<style scoped>\n",
              "    .dataframe tbody tr th:only-of-type {\n",
              "        vertical-align: middle;\n",
              "    }\n",
              "\n",
              "    .dataframe tbody tr th {\n",
              "        vertical-align: top;\n",
              "    }\n",
              "\n",
              "    .dataframe thead th {\n",
              "        text-align: right;\n",
              "    }\n",
              "</style>\n",
              "<table border=\"1\" class=\"dataframe\">\n",
              "  <thead>\n",
              "    <tr style=\"text-align: right;\">\n",
              "      <th></th>\n",
              "      <th>age</th>\n",
              "      <th>sex</th>\n",
              "      <th>steroid</th>\n",
              "      <th>antivirals</th>\n",
              "      <th>fatigue</th>\n",
              "      <th>malaise</th>\n",
              "      <th>anorexia</th>\n",
              "      <th>liver_big</th>\n",
              "      <th>liver_firm</th>\n",
              "      <th>spleen_palpable</th>\n",
              "      <th>spiders</th>\n",
              "      <th>ascites</th>\n",
              "      <th>varices</th>\n",
              "      <th>bilirubin</th>\n",
              "      <th>alk_phosphate</th>\n",
              "      <th>sgot</th>\n",
              "      <th>albumin</th>\n",
              "      <th>protime</th>\n",
              "      <th>histology</th>\n",
              "      <th>class</th>\n",
              "    </tr>\n",
              "  </thead>\n",
              "  <tbody>\n",
              "    <tr>\n",
              "      <th>0</th>\n",
              "      <td>30</td>\n",
              "      <td>male</td>\n",
              "      <td>False</td>\n",
              "      <td>False</td>\n",
              "      <td>False</td>\n",
              "      <td>False</td>\n",
              "      <td>False</td>\n",
              "      <td>False</td>\n",
              "      <td>False</td>\n",
              "      <td>False</td>\n",
              "      <td>False</td>\n",
              "      <td>False</td>\n",
              "      <td>False</td>\n",
              "      <td>1.0</td>\n",
              "      <td>85.0</td>\n",
              "      <td>18.0</td>\n",
              "      <td>4.0</td>\n",
              "      <td>NaN</td>\n",
              "      <td>False</td>\n",
              "      <td>live</td>\n",
              "    </tr>\n",
              "    <tr>\n",
              "      <th>1</th>\n",
              "      <td>50</td>\n",
              "      <td>female</td>\n",
              "      <td>False</td>\n",
              "      <td>False</td>\n",
              "      <td>True</td>\n",
              "      <td>False</td>\n",
              "      <td>False</td>\n",
              "      <td>False</td>\n",
              "      <td>False</td>\n",
              "      <td>False</td>\n",
              "      <td>False</td>\n",
              "      <td>False</td>\n",
              "      <td>False</td>\n",
              "      <td>0.9</td>\n",
              "      <td>135.0</td>\n",
              "      <td>42.0</td>\n",
              "      <td>3.5</td>\n",
              "      <td>NaN</td>\n",
              "      <td>False</td>\n",
              "      <td>live</td>\n",
              "    </tr>\n",
              "    <tr>\n",
              "      <th>2</th>\n",
              "      <td>78</td>\n",
              "      <td>female</td>\n",
              "      <td>True</td>\n",
              "      <td>False</td>\n",
              "      <td>True</td>\n",
              "      <td>False</td>\n",
              "      <td>False</td>\n",
              "      <td>True</td>\n",
              "      <td>False</td>\n",
              "      <td>False</td>\n",
              "      <td>False</td>\n",
              "      <td>False</td>\n",
              "      <td>False</td>\n",
              "      <td>0.7</td>\n",
              "      <td>96.0</td>\n",
              "      <td>32.0</td>\n",
              "      <td>4.0</td>\n",
              "      <td>NaN</td>\n",
              "      <td>False</td>\n",
              "      <td>live</td>\n",
              "    </tr>\n",
              "    <tr>\n",
              "      <th>3</th>\n",
              "      <td>31</td>\n",
              "      <td>female</td>\n",
              "      <td>NaN</td>\n",
              "      <td>True</td>\n",
              "      <td>False</td>\n",
              "      <td>False</td>\n",
              "      <td>False</td>\n",
              "      <td>True</td>\n",
              "      <td>False</td>\n",
              "      <td>False</td>\n",
              "      <td>False</td>\n",
              "      <td>False</td>\n",
              "      <td>False</td>\n",
              "      <td>0.7</td>\n",
              "      <td>46.0</td>\n",
              "      <td>52.0</td>\n",
              "      <td>4.0</td>\n",
              "      <td>80.0</td>\n",
              "      <td>False</td>\n",
              "      <td>live</td>\n",
              "    </tr>\n",
              "    <tr>\n",
              "      <th>4</th>\n",
              "      <td>34</td>\n",
              "      <td>female</td>\n",
              "      <td>True</td>\n",
              "      <td>False</td>\n",
              "      <td>False</td>\n",
              "      <td>False</td>\n",
              "      <td>False</td>\n",
              "      <td>True</td>\n",
              "      <td>False</td>\n",
              "      <td>False</td>\n",
              "      <td>False</td>\n",
              "      <td>False</td>\n",
              "      <td>False</td>\n",
              "      <td>1.0</td>\n",
              "      <td>NaN</td>\n",
              "      <td>200.0</td>\n",
              "      <td>4.0</td>\n",
              "      <td>NaN</td>\n",
              "      <td>False</td>\n",
              "      <td>live</td>\n",
              "    </tr>\n",
              "    <tr>\n",
              "      <th>5</th>\n",
              "      <td>34</td>\n",
              "      <td>female</td>\n",
              "      <td>True</td>\n",
              "      <td>False</td>\n",
              "      <td>False</td>\n",
              "      <td>False</td>\n",
              "      <td>False</td>\n",
              "      <td>True</td>\n",
              "      <td>False</td>\n",
              "      <td>False</td>\n",
              "      <td>False</td>\n",
              "      <td>False</td>\n",
              "      <td>False</td>\n",
              "      <td>0.9</td>\n",
              "      <td>95.0</td>\n",
              "      <td>28.0</td>\n",
              "      <td>4.0</td>\n",
              "      <td>75.0</td>\n",
              "      <td>False</td>\n",
              "      <td>live</td>\n",
              "    </tr>\n",
              "    <tr>\n",
              "      <th>6</th>\n",
              "      <td>51</td>\n",
              "      <td>female</td>\n",
              "      <td>False</td>\n",
              "      <td>False</td>\n",
              "      <td>True</td>\n",
              "      <td>False</td>\n",
              "      <td>True</td>\n",
              "      <td>True</td>\n",
              "      <td>False</td>\n",
              "      <td>True</td>\n",
              "      <td>True</td>\n",
              "      <td>False</td>\n",
              "      <td>False</td>\n",
              "      <td>NaN</td>\n",
              "      <td>NaN</td>\n",
              "      <td>NaN</td>\n",
              "      <td>NaN</td>\n",
              "      <td>NaN</td>\n",
              "      <td>False</td>\n",
              "      <td>die</td>\n",
              "    </tr>\n",
              "    <tr>\n",
              "      <th>7</th>\n",
              "      <td>23</td>\n",
              "      <td>female</td>\n",
              "      <td>True</td>\n",
              "      <td>False</td>\n",
              "      <td>False</td>\n",
              "      <td>False</td>\n",
              "      <td>False</td>\n",
              "      <td>True</td>\n",
              "      <td>False</td>\n",
              "      <td>False</td>\n",
              "      <td>False</td>\n",
              "      <td>False</td>\n",
              "      <td>False</td>\n",
              "      <td>1.0</td>\n",
              "      <td>NaN</td>\n",
              "      <td>NaN</td>\n",
              "      <td>NaN</td>\n",
              "      <td>NaN</td>\n",
              "      <td>False</td>\n",
              "      <td>live</td>\n",
              "    </tr>\n",
              "    <tr>\n",
              "      <th>8</th>\n",
              "      <td>39</td>\n",
              "      <td>female</td>\n",
              "      <td>True</td>\n",
              "      <td>False</td>\n",
              "      <td>True</td>\n",
              "      <td>False</td>\n",
              "      <td>False</td>\n",
              "      <td>True</td>\n",
              "      <td>True</td>\n",
              "      <td>False</td>\n",
              "      <td>False</td>\n",
              "      <td>False</td>\n",
              "      <td>False</td>\n",
              "      <td>0.7</td>\n",
              "      <td>NaN</td>\n",
              "      <td>48.0</td>\n",
              "      <td>4.4</td>\n",
              "      <td>NaN</td>\n",
              "      <td>False</td>\n",
              "      <td>live</td>\n",
              "    </tr>\n",
              "    <tr>\n",
              "      <th>9</th>\n",
              "      <td>30</td>\n",
              "      <td>female</td>\n",
              "      <td>True</td>\n",
              "      <td>False</td>\n",
              "      <td>False</td>\n",
              "      <td>False</td>\n",
              "      <td>False</td>\n",
              "      <td>True</td>\n",
              "      <td>False</td>\n",
              "      <td>False</td>\n",
              "      <td>False</td>\n",
              "      <td>False</td>\n",
              "      <td>False</td>\n",
              "      <td>1.0</td>\n",
              "      <td>NaN</td>\n",
              "      <td>120.0</td>\n",
              "      <td>3.9</td>\n",
              "      <td>NaN</td>\n",
              "      <td>False</td>\n",
              "      <td>live</td>\n",
              "    </tr>\n",
              "  </tbody>\n",
              "</table>\n",
              "</div>"
            ],
            "text/plain": [
              "   age     sex steroid  antivirals  ... albumin protime histology class\n",
              "0   30    male   False       False  ...     4.0     NaN     False  live\n",
              "1   50  female   False       False  ...     3.5     NaN     False  live\n",
              "2   78  female    True       False  ...     4.0     NaN     False  live\n",
              "3   31  female     NaN        True  ...     4.0    80.0     False  live\n",
              "4   34  female    True       False  ...     4.0     NaN     False  live\n",
              "5   34  female    True       False  ...     4.0    75.0     False  live\n",
              "6   51  female   False       False  ...     NaN     NaN     False   die\n",
              "7   23  female    True       False  ...     NaN     NaN     False  live\n",
              "8   39  female    True       False  ...     4.4     NaN     False  live\n",
              "9   30  female    True       False  ...     3.9     NaN     False  live\n",
              "\n",
              "[10 rows x 20 columns]"
            ]
          },
          "metadata": {
            "tags": []
          },
          "execution_count": 3
        }
      ]
    },
    {
      "cell_type": "markdown",
      "metadata": {
        "id": "xpRVl9c00qYt"
      },
      "source": [
        "We note that the dataset presents some problems. For example, the column email is not available for all the rows. In some cases it presents the `NaN `value, which means that the value is missing.\n",
        "In order to check whether our dataset contains missing values, we can use the function `isna()`, which returns if an cell of the dataset if NaN or not. Then we can count how many missing values there are for each column."
      ]
    },
    {
      "cell_type": "code",
      "metadata": {
        "colab": {
          "base_uri": "https://localhost:8080/"
        },
        "id": "VnQs2wBn1IEx",
        "outputId": "2e98391d-f796-44e8-bf55-fa5ec0b4b6ed"
      },
      "source": [
        "df.isna().sum()"
      ],
      "execution_count": 4,
      "outputs": [
        {
          "output_type": "execute_result",
          "data": {
            "text/plain": [
              "age                 0\n",
              "sex                 0\n",
              "steroid             1\n",
              "antivirals          0\n",
              "fatigue             1\n",
              "malaise             1\n",
              "anorexia            1\n",
              "liver_big          10\n",
              "liver_firm         11\n",
              "spleen_palpable     5\n",
              "spiders             5\n",
              "ascites             5\n",
              "varices             5\n",
              "bilirubin           6\n",
              "alk_phosphate      29\n",
              "sgot                4\n",
              "albumin            16\n",
              "protime            67\n",
              "histology           0\n",
              "class               0\n",
              "dtype: int64"
            ]
          },
          "metadata": {
            "tags": []
          },
          "execution_count": 4
        }
      ]
    },
    {
      "cell_type": "markdown",
      "metadata": {
        "id": "RiCyhNeR1Nmi"
      },
      "source": [
        "When dealing with missing values, different alternatives can be applied:\n",
        "\n",
        "1. drop missing values\n",
        "2. replace the missing value with a value\n",
        "3. leave the missing value as it is.\n",
        "\n",
        "\n"
      ]
    },
    {
      "cell_type": "markdown",
      "metadata": {
        "id": "m_DbW2rj2UUd"
      },
      "source": [
        "### 1. Drop Missing Values\n",
        "\n",
        "Dropping missing values can be one of the following alternatives:\n",
        "- remove rows having missing values\n",
        "- remove the whole column containing missing values\n",
        "\n",
        "We can use the dropna() by specifying the axis to be considered. If we set **axis = 0** we drop the entire **row**, if we set **axis = 1** we drop the whole **column**. \n",
        "\n",
        "If we apply the function `df.dropna(axis=0)` 80 rows of the dataset remain. If we apply the function `df.dropna(axis=1)`, only the columns age, sex, antivirals, histology and class remain. \n",
        "\n",
        "However, removed values are not applied to the original dataframe, but only to the result! We can use the argument inplace=True in order to store changes in the original dataframe df (df.dropna(axis=1,inplace=True))."
      ]
    },
    {
      "cell_type": "code",
      "metadata": {
        "colab": {
          "base_uri": "https://localhost:8080/"
        },
        "id": "YFSwJcs62yQM",
        "outputId": "1dc43185-0bd2-4dcb-8a04-422ca371f95a"
      },
      "source": [
        "print('Dimensions of the dataset:',df.shape)\n",
        "print('Dimensions after removing columns:',df.dropna(axis=1).shape)"
      ],
      "execution_count": 5,
      "outputs": [
        {
          "output_type": "stream",
          "text": [
            "Dimensions of the dataset: (155, 20)\n",
            "Dimensions after removing columns: (155, 5)\n"
          ],
          "name": "stdout"
        }
      ]
    },
    {
      "cell_type": "markdown",
      "metadata": {
        "id": "SZ5fb95Y4O6-"
      },
      "source": [
        "Another alternative involves the dropping of columns where a certain percentage of not-null values is available. This can be achieved through the `thresh` parameter. In the following example we keep only columns where there are at least the 80% of not null values."
      ]
    },
    {
      "cell_type": "code",
      "metadata": {
        "colab": {
          "base_uri": "https://localhost:8080/"
        },
        "id": "Kyr_i27F7Vo5",
        "outputId": "4373d6ff-7b18-477b-a39b-99122e58b4a4"
      },
      "source": [
        "dg = df.dropna(thresh=0.8*len(df),axis=1)\n",
        "dg.shape"
      ],
      "execution_count": 6,
      "outputs": [
        {
          "output_type": "execute_result",
          "data": {
            "text/plain": [
              "(155, 19)"
            ]
          },
          "metadata": {
            "tags": []
          },
          "execution_count": 6
        }
      ]
    },
    {
      "cell_type": "markdown",
      "metadata": {
        "id": "1ct8OJCF7okN"
      },
      "source": [
        "### 2. Replace missing values\n",
        "A good strategy when dealing with missing values involves their replacement with another value. Usually, the following strategies are adopted:\n",
        "- for numerical values replace the missing value with the average value of the column\n",
        "- for categorial values replace the missing value with the most frequent value of the column\n",
        "- use other functions\n",
        "\n",
        "In order to replace missing values, several functions can be used: `fillna()`, `replace()` and `interpolate()`. \n",
        "\n",
        "The fillna() function replaces all the NaN values with the value passed as argument. For example, for numerical values, all the NaN values in the numeric columns could be replaced with the average value. Another possibility is to used the `ffill` and `bfill` method in combination with the fillna()-function.\n",
        "\n",
        "In order to list the type of a column, we can use the attribute dtypes as follows:"
      ]
    },
    {
      "cell_type": "code",
      "metadata": {
        "colab": {
          "base_uri": "https://localhost:8080/"
        },
        "id": "9xsOrRj88qsK",
        "outputId": "8476781e-7d2c-4200-bac9-9e086f49ae1a"
      },
      "source": [
        "df.dtypes"
      ],
      "execution_count": 7,
      "outputs": [
        {
          "output_type": "execute_result",
          "data": {
            "text/plain": [
              "age                  int64\n",
              "sex                 object\n",
              "steroid             object\n",
              "antivirals            bool\n",
              "fatigue             object\n",
              "malaise             object\n",
              "anorexia            object\n",
              "liver_big           object\n",
              "liver_firm          object\n",
              "spleen_palpable     object\n",
              "spiders             object\n",
              "ascites             object\n",
              "varices             object\n",
              "bilirubin          float64\n",
              "alk_phosphate      float64\n",
              "sgot               float64\n",
              "albumin            float64\n",
              "protime            float64\n",
              "histology             bool\n",
              "class               object\n",
              "dtype: object"
            ]
          },
          "metadata": {
            "tags": []
          },
          "execution_count": 7
        }
      ]
    },
    {
      "cell_type": "markdown",
      "metadata": {
        "id": "Jy5c0aj-9Mbd"
      },
      "source": [
        "#### Numerical Columns"
      ]
    },
    {
      "cell_type": "code",
      "metadata": {
        "colab": {
          "base_uri": "https://localhost:8080/"
        },
        "id": "-9SWMjBG8yGe",
        "outputId": "f9f8072a-0df3-4c5e-d09c-7c15773f96f4"
      },
      "source": [
        "import numpy as np\n",
        "numeric = df.select_dtypes(include=np.number)\n",
        "numeric_columns = numeric.columns\n",
        "print(numeric_columns)"
      ],
      "execution_count": 8,
      "outputs": [
        {
          "output_type": "stream",
          "text": [
            "Index(['age', 'bilirubin', 'alk_phosphate', 'sgot', 'albumin', 'protime'], dtype='object')\n"
          ],
          "name": "stdout"
        }
      ]
    },
    {
      "cell_type": "code",
      "metadata": {
        "id": "297jCRte9KYK"
      },
      "source": [
        "df[numeric_columns] = df[numeric_columns].fillna(df.mean())"
      ],
      "execution_count": 9,
      "outputs": []
    },
    {
      "cell_type": "markdown",
      "metadata": {
        "id": "SZyXaSWk90hp"
      },
      "source": [
        "Check the result"
      ]
    },
    {
      "cell_type": "code",
      "metadata": {
        "colab": {
          "base_uri": "https://localhost:8080/"
        },
        "id": "ftx9OfmZ9VL8",
        "outputId": "061a3cc3-8bf2-48e2-9814-1b4210b1c262"
      },
      "source": [
        "df.isna().sum()"
      ],
      "execution_count": 10,
      "outputs": [
        {
          "output_type": "execute_result",
          "data": {
            "text/plain": [
              "age                 0\n",
              "sex                 0\n",
              "steroid             1\n",
              "antivirals          0\n",
              "fatigue             1\n",
              "malaise             1\n",
              "anorexia            1\n",
              "liver_big          10\n",
              "liver_firm         11\n",
              "spleen_palpable     5\n",
              "spiders             5\n",
              "ascites             5\n",
              "varices             5\n",
              "bilirubin           0\n",
              "alk_phosphate       0\n",
              "sgot                0\n",
              "albumin             0\n",
              "protime             0\n",
              "histology           0\n",
              "class               0\n",
              "dtype: int64"
            ]
          },
          "metadata": {
            "tags": []
          },
          "execution_count": 10
        }
      ]
    },
    {
      "cell_type": "markdown",
      "metadata": {
        "id": "9gt13VIQ9gsi"
      },
      "source": [
        "#### Categorical Columns"
      ]
    },
    {
      "cell_type": "markdown",
      "metadata": {
        "id": "6G2kGMIi94vP"
      },
      "source": [
        "We note that in dtypes the categorial columns are described as objects. Thus we can select the object columns. We would like to consider only boolean columns. However the object type includes also the column class, which is a string. We select all the object columns, and then we remove from them the column class. Then we can convert the type of the result to bool.MM"
      ]
    },
    {
      "cell_type": "code",
      "metadata": {
        "colab": {
          "base_uri": "https://localhost:8080/"
        },
        "id": "P924Ox7a-j_7",
        "outputId": "33120783-2628-4888-8b42-19066fa97c17"
      },
      "source": [
        "boolean_columns = df.select_dtypes(include=np.object).columns.tolist()\n",
        "boolean_columns.remove('class')\n",
        "print(boolean_columns)\n",
        "df[boolean_columns] = df[boolean_columns].astype('bool')"
      ],
      "execution_count": 11,
      "outputs": [
        {
          "output_type": "stream",
          "text": [
            "['sex', 'steroid', 'fatigue', 'malaise', 'anorexia', 'liver_big', 'liver_firm', 'spleen_palpable', 'spiders', 'ascites', 'varices']\n"
          ],
          "name": "stdout"
        }
      ]
    },
    {
      "cell_type": "markdown",
      "metadata": {
        "id": "niVce2ZU-tTB"
      },
      "source": [
        "Now we can replace all the missing values for booleans with the most frequent value. We can use the mode() function to calculate the most frequent value. We use the fillna() function to replace missing values, but we could use also the replace(old_value,new_value) function.\n",
        "\n"
      ]
    },
    {
      "cell_type": "code",
      "metadata": {
        "id": "b_xDkEqoAF3l"
      },
      "source": [
        "df[boolean_columns]= df[boolean_columns].fillna(df.mode())"
      ],
      "execution_count": 12,
      "outputs": []
    },
    {
      "cell_type": "code",
      "metadata": {
        "colab": {
          "base_uri": "https://localhost:8080/"
        },
        "id": "eMfQvdaWAJYe",
        "outputId": "1dbee2a0-f607-4784-c06b-068027e861dc"
      },
      "source": [
        "df.isna().sum()"
      ],
      "execution_count": 13,
      "outputs": [
        {
          "output_type": "execute_result",
          "data": {
            "text/plain": [
              "age                0\n",
              "sex                0\n",
              "steroid            0\n",
              "antivirals         0\n",
              "fatigue            0\n",
              "malaise            0\n",
              "anorexia           0\n",
              "liver_big          0\n",
              "liver_firm         0\n",
              "spleen_palpable    0\n",
              "spiders            0\n",
              "ascites            0\n",
              "varices            0\n",
              "bilirubin          0\n",
              "alk_phosphate      0\n",
              "sgot               0\n",
              "albumin            0\n",
              "protime            0\n",
              "histology          0\n",
              "class              0\n",
              "dtype: int64"
            ]
          },
          "metadata": {
            "tags": []
          },
          "execution_count": 13
        }
      ]
    },
    {
      "cell_type": "markdown",
      "metadata": {
        "id": "G8N0ostdAebA"
      },
      "source": [
        "## Data Formatting"
      ]
    },
    {
      "cell_type": "markdown",
      "metadata": {
        "id": "AArCMD8snA7I"
      },
      "source": [
        "Data formatting is the process of transforming data into a common format, which helps users to perform comparisons. An example of not formatted data is the following: the same entity is referred in the same column with different values, such as **New York** and NY.\n",
        "\n",
        "Firstly, import data using the pandas library and convert them into a dataframe. Through the head(10) method we print only the first 10 rows of the dataset.\n"
      ]
    },
    {
      "cell_type": "code",
      "metadata": {
        "colab": {
          "base_uri": "https://localhost:8080/",
          "height": 479
        },
        "id": "KI5gpcgju73c",
        "outputId": "992faed9-624e-4708-86a3-48f6b2ac6203"
      },
      "source": [
        "df = pd.read_csv('https://goz39a.s3.eu-central-1.amazonaws.com/sample_tweets/sample.csv')\n",
        "print('Dimension of the dataframe:',df.shape)\n",
        "df.head()"
      ],
      "execution_count": 17,
      "outputs": [
        {
          "output_type": "stream",
          "text": [
            "Dimension of the dataframe: (386, 21)\n"
          ],
          "name": "stdout"
        },
        {
          "output_type": "execute_result",
          "data": {
            "text/html": [
              "<div>\n",
              "<style scoped>\n",
              "    .dataframe tbody tr th:only-of-type {\n",
              "        vertical-align: middle;\n",
              "    }\n",
              "\n",
              "    .dataframe tbody tr th {\n",
              "        vertical-align: top;\n",
              "    }\n",
              "\n",
              "    .dataframe thead th {\n",
              "        text-align: right;\n",
              "    }\n",
              "</style>\n",
              "<table border=\"1\" class=\"dataframe\">\n",
              "  <thead>\n",
              "    <tr style=\"text-align: right;\">\n",
              "      <th></th>\n",
              "      <th>Tweet Id</th>\n",
              "      <th>Tweet URL</th>\n",
              "      <th>Tweet Posted Time (UTC)</th>\n",
              "      <th>Tweet Content</th>\n",
              "      <th>Tweet Type</th>\n",
              "      <th>Client</th>\n",
              "      <th>Retweets Received</th>\n",
              "      <th>Likes Received</th>\n",
              "      <th>Tweet Location</th>\n",
              "      <th>Tweet Language</th>\n",
              "      <th>User Id</th>\n",
              "      <th>Name</th>\n",
              "      <th>Username</th>\n",
              "      <th>User Bio</th>\n",
              "      <th>Verified or Non-Verified</th>\n",
              "      <th>Profile URL</th>\n",
              "      <th>Protected or Non-protected</th>\n",
              "      <th>User Followers</th>\n",
              "      <th>User Following</th>\n",
              "      <th>User Account Creation Date</th>\n",
              "      <th>Impressions</th>\n",
              "    </tr>\n",
              "  </thead>\n",
              "  <tbody>\n",
              "    <tr>\n",
              "      <th>0</th>\n",
              "      <td>\"1167429261210218497\"</td>\n",
              "      <td>https://twitter.com/animalhealthEU/status/1167...</td>\n",
              "      <td>30 Aug 2019 13:30:00</td>\n",
              "      <td>Pets change our lives &amp;amp; become a part of o...</td>\n",
              "      <td>Tweet</td>\n",
              "      <td>Twitter Ads Composer</td>\n",
              "      <td>0</td>\n",
              "      <td>4</td>\n",
              "      <td>Brussels</td>\n",
              "      <td>English</td>\n",
              "      <td>\"1017044760\"</td>\n",
              "      <td>AnimalhealthEurope</td>\n",
              "      <td>animalhealthEU</td>\n",
              "      <td>AnimalhealthEurope represents manufacturers of...</td>\n",
              "      <td>Non-Verified</td>\n",
              "      <td>https://twitter.com/animalhealthEU</td>\n",
              "      <td>Non-Protected</td>\n",
              "      <td>3697</td>\n",
              "      <td>542</td>\n",
              "      <td>17 Dec 2012 09:14:15</td>\n",
              "      <td>7394</td>\n",
              "    </tr>\n",
              "    <tr>\n",
              "      <th>1</th>\n",
              "      <td>\"1167375334670557185\"</td>\n",
              "      <td>https://twitter.com/PennyBrohnUK/status/116737...</td>\n",
              "      <td>30 Aug 2019 09:55:43</td>\n",
              "      <td>Another spot of our #morethanmedicine bus in #...</td>\n",
              "      <td>Tweet</td>\n",
              "      <td>Twitter Web App</td>\n",
              "      <td>0</td>\n",
              "      <td>5</td>\n",
              "      <td>Pill, Bristol</td>\n",
              "      <td>English</td>\n",
              "      <td>\"190981222\"</td>\n",
              "      <td>Penny Brohn UK</td>\n",
              "      <td>PennyBrohnUK</td>\n",
              "      <td>We help people live well with the impact of ca...</td>\n",
              "      <td>Non-Verified</td>\n",
              "      <td>https://twitter.com/PennyBrohnUK</td>\n",
              "      <td>Non-Protected</td>\n",
              "      <td>3227</td>\n",
              "      <td>1571</td>\n",
              "      <td>15 Sep 2010 09:44:02</td>\n",
              "      <td>6454</td>\n",
              "    </tr>\n",
              "    <tr>\n",
              "      <th>2</th>\n",
              "      <td>\"1167237977615097861\"</td>\n",
              "      <td>https://twitter.com/lordbyronaf/status/1167237...</td>\n",
              "      <td>30 Aug 2019 00:49:54</td>\n",
              "      <td>What a great team ⁦@HealthSourceOH⁩ ⁦@Local12⁩...</td>\n",
              "      <td>ReTweet</td>\n",
              "      <td>Twitter for Android</td>\n",
              "      <td>0</td>\n",
              "      <td>0</td>\n",
              "      <td>Ohio, USA</td>\n",
              "      <td>English</td>\n",
              "      <td>\"716285395\"</td>\n",
              "      <td>Lord ByronAF</td>\n",
              "      <td>lordbyronaf</td>\n",
              "      <td>It's easier to be who you are, than it is to b...</td>\n",
              "      <td>Non-Verified</td>\n",
              "      <td>https://twitter.com/lordbyronaf</td>\n",
              "      <td>Non-Protected</td>\n",
              "      <td>7808</td>\n",
              "      <td>8617</td>\n",
              "      <td>25 Jul 2012 15:43:47</td>\n",
              "      <td>0</td>\n",
              "    </tr>\n",
              "    <tr>\n",
              "      <th>3</th>\n",
              "      <td>\"1167236897078480898\"</td>\n",
              "      <td>https://twitter.com/CountessDavis/status/11672...</td>\n",
              "      <td>30 Aug 2019 00:45:37</td>\n",
              "      <td>What a great team ⁦@HealthSourceOH⁩ ⁦@Local12⁩...</td>\n",
              "      <td>ReTweet</td>\n",
              "      <td>Twitter for Android</td>\n",
              "      <td>0</td>\n",
              "      <td>0</td>\n",
              "      <td>NaN</td>\n",
              "      <td>English</td>\n",
              "      <td>\"824683748964851712\"</td>\n",
              "      <td>Lisa Countess davis</td>\n",
              "      <td>CountessDavis</td>\n",
              "      <td>I am named after @ElvisPresley daughter Lisa M...</td>\n",
              "      <td>Non-Verified</td>\n",
              "      <td>https://twitter.com/CountessDavis</td>\n",
              "      <td>Non-Protected</td>\n",
              "      <td>291</td>\n",
              "      <td>81</td>\n",
              "      <td>26 Jan 2017 18:21:42</td>\n",
              "      <td>0</td>\n",
              "    </tr>\n",
              "    <tr>\n",
              "      <th>4</th>\n",
              "      <td>\"1167228378191204353\"</td>\n",
              "      <td>https://twitter.com/Local12/status/11672283781...</td>\n",
              "      <td>30 Aug 2019 00:11:46</td>\n",
              "      <td>What a great team ⁦@HealthSourceOH⁩ ⁦@Local12⁩...</td>\n",
              "      <td>ReTweet</td>\n",
              "      <td>TweetDeck</td>\n",
              "      <td>0</td>\n",
              "      <td>0</td>\n",
              "      <td>Cincinnati, OH</td>\n",
              "      <td>English</td>\n",
              "      <td>\"16102208\"</td>\n",
              "      <td>Local 12/WKRC-TV</td>\n",
              "      <td>Local12</td>\n",
              "      <td>Local 12 is #Cincinnati's trusted source for b...</td>\n",
              "      <td>Verified</td>\n",
              "      <td>https://twitter.com/Local12</td>\n",
              "      <td>Non-Protected</td>\n",
              "      <td>198675</td>\n",
              "      <td>651</td>\n",
              "      <td>02 Sep 2008 20:09:44</td>\n",
              "      <td>0</td>\n",
              "    </tr>\n",
              "  </tbody>\n",
              "</table>\n",
              "</div>"
            ],
            "text/plain": [
              "                Tweet Id  ... Impressions\n",
              "0  \"1167429261210218497\"  ...        7394\n",
              "1  \"1167375334670557185\"  ...        6454\n",
              "2  \"1167237977615097861\"  ...           0\n",
              "3  \"1167236897078480898\"  ...           0\n",
              "4  \"1167228378191204353\"  ...           0\n",
              "\n",
              "[5 rows x 21 columns]"
            ]
          },
          "metadata": {
            "tags": []
          },
          "execution_count": 17
        }
      ]
    },
    {
      "cell_type": "markdown",
      "metadata": {
        "id": "ILNojFoc0X6e"
      },
      "source": [
        "Drop all the missing values through the dropna() function."
      ]
    },
    {
      "cell_type": "code",
      "metadata": {
        "id": "veRXhidfuUro"
      },
      "source": [
        "df.dropna(how='any',inplace=True)"
      ],
      "execution_count": 18,
      "outputs": []
    },
    {
      "cell_type": "markdown",
      "metadata": {
        "id": "St25s0cvtkhX"
      },
      "source": [
        "Examin the different Data Types"
      ]
    },
    {
      "cell_type": "code",
      "metadata": {
        "colab": {
          "base_uri": "https://localhost:8080/"
        },
        "id": "cAkqAuj42Pf9",
        "outputId": "8aa916e8-ea61-4915-f946-b80159a6cbc9"
      },
      "source": [
        "df.dtypes"
      ],
      "execution_count": 33,
      "outputs": [
        {
          "output_type": "execute_result",
          "data": {
            "text/plain": [
              "Tweet Id                      object\n",
              "Tweet URL                     object\n",
              "Tweet Posted Time (UTC)       object\n",
              "Tweet Content                 object\n",
              "Tweet Type                    object\n",
              "Client                        object\n",
              "Retweets Received              int64\n",
              "Likes Received                 int64\n",
              "Tweet Location                object\n",
              "Tweet Language                object\n",
              "User Id                       object\n",
              "Name                          object\n",
              "Username                      object\n",
              "User Bio                      object\n",
              "Verified or Non-Verified      object\n",
              "Profile URL                   object\n",
              "Protected or Non-protected    object\n",
              "User Followers                 int64\n",
              "User Following                 int64\n",
              "User Account Creation Date    object\n",
              "Impressions                    int64\n",
              "dtype: object"
            ]
          },
          "metadata": {
            "tags": []
          },
          "execution_count": 33
        }
      ]
    },
    {
      "cell_type": "markdown",
      "metadata": {
        "id": "4U6tjFTG2XeE"
      },
      "source": [
        "Quick update on the characteristics of the numerical data"
      ]
    },
    {
      "cell_type": "code",
      "metadata": {
        "id": "J0TEFv4hnzRy",
        "colab": {
          "base_uri": "https://localhost:8080/",
          "height": 297
        },
        "outputId": "fec02c90-a447-4ae8-8a97-615ba7669a3c"
      },
      "source": [
        "df.describe()"
      ],
      "execution_count": 34,
      "outputs": [
        {
          "output_type": "execute_result",
          "data": {
            "text/html": [
              "<div>\n",
              "<style scoped>\n",
              "    .dataframe tbody tr th:only-of-type {\n",
              "        vertical-align: middle;\n",
              "    }\n",
              "\n",
              "    .dataframe tbody tr th {\n",
              "        vertical-align: top;\n",
              "    }\n",
              "\n",
              "    .dataframe thead th {\n",
              "        text-align: right;\n",
              "    }\n",
              "</style>\n",
              "<table border=\"1\" class=\"dataframe\">\n",
              "  <thead>\n",
              "    <tr style=\"text-align: right;\">\n",
              "      <th></th>\n",
              "      <th>Retweets Received</th>\n",
              "      <th>Likes Received</th>\n",
              "      <th>User Followers</th>\n",
              "      <th>User Following</th>\n",
              "      <th>Impressions</th>\n",
              "    </tr>\n",
              "  </thead>\n",
              "  <tbody>\n",
              "    <tr>\n",
              "      <th>count</th>\n",
              "      <td>317.000000</td>\n",
              "      <td>317.000000</td>\n",
              "      <td>317.000000</td>\n",
              "      <td>317.000000</td>\n",
              "      <td>317.000000</td>\n",
              "    </tr>\n",
              "    <tr>\n",
              "      <th>mean</th>\n",
              "      <td>0.794953</td>\n",
              "      <td>3.195584</td>\n",
              "      <td>2748.217666</td>\n",
              "      <td>1086.637224</td>\n",
              "      <td>1222.769716</td>\n",
              "    </tr>\n",
              "    <tr>\n",
              "      <th>std</th>\n",
              "      <td>1.943564</td>\n",
              "      <td>10.137640</td>\n",
              "      <td>11563.933842</td>\n",
              "      <td>1437.933564</td>\n",
              "      <td>2496.502317</td>\n",
              "    </tr>\n",
              "    <tr>\n",
              "      <th>min</th>\n",
              "      <td>0.000000</td>\n",
              "      <td>0.000000</td>\n",
              "      <td>2.000000</td>\n",
              "      <td>4.000000</td>\n",
              "      <td>0.000000</td>\n",
              "    </tr>\n",
              "    <tr>\n",
              "      <th>25%</th>\n",
              "      <td>0.000000</td>\n",
              "      <td>0.000000</td>\n",
              "      <td>441.000000</td>\n",
              "      <td>379.000000</td>\n",
              "      <td>0.000000</td>\n",
              "    </tr>\n",
              "    <tr>\n",
              "      <th>50%</th>\n",
              "      <td>0.000000</td>\n",
              "      <td>0.000000</td>\n",
              "      <td>866.000000</td>\n",
              "      <td>542.000000</td>\n",
              "      <td>0.000000</td>\n",
              "    </tr>\n",
              "    <tr>\n",
              "      <th>75%</th>\n",
              "      <td>0.000000</td>\n",
              "      <td>1.000000</td>\n",
              "      <td>3167.000000</td>\n",
              "      <td>1123.000000</td>\n",
              "      <td>882.000000</td>\n",
              "    </tr>\n",
              "    <tr>\n",
              "      <th>max</th>\n",
              "      <td>13.000000</td>\n",
              "      <td>98.000000</td>\n",
              "      <td>198675.000000</td>\n",
              "      <td>12476.000000</td>\n",
              "      <td>12033.000000</td>\n",
              "    </tr>\n",
              "  </tbody>\n",
              "</table>\n",
              "</div>"
            ],
            "text/plain": [
              "       Retweets Received  Likes Received  ...  User Following   Impressions\n",
              "count         317.000000      317.000000  ...      317.000000    317.000000\n",
              "mean            0.794953        3.195584  ...     1086.637224   1222.769716\n",
              "std             1.943564       10.137640  ...     1437.933564   2496.502317\n",
              "min             0.000000        0.000000  ...        4.000000      0.000000\n",
              "25%             0.000000        0.000000  ...      379.000000      0.000000\n",
              "50%             0.000000        0.000000  ...      542.000000      0.000000\n",
              "75%             0.000000        1.000000  ...     1123.000000    882.000000\n",
              "max            13.000000       98.000000  ...    12476.000000  12033.000000\n",
              "\n",
              "[8 rows x 5 columns]"
            ]
          },
          "metadata": {
            "tags": []
          },
          "execution_count": 34
        }
      ]
    },
    {
      "cell_type": "markdown",
      "metadata": {
        "id": "r--qYbXysGOL"
      },
      "source": [
        "In our case we can convert the column Tweet Location to string by using the function astype() as follows:"
      ]
    },
    {
      "cell_type": "code",
      "metadata": {
        "id": "iD9cOdUa3ig7"
      },
      "source": [
        "df['Tweet Location'] = df['Tweet Location'].astype('string')"
      ],
      "execution_count": 35,
      "outputs": []
    },
    {
      "cell_type": "code",
      "metadata": {
        "colab": {
          "base_uri": "https://localhost:8080/"
        },
        "id": "pNCYpsbk3mDJ",
        "outputId": "cac8367d-fc6b-40c3-e30a-cc206bee2de9"
      },
      "source": [
        "df.dtypes"
      ],
      "execution_count": 36,
      "outputs": [
        {
          "output_type": "execute_result",
          "data": {
            "text/plain": [
              "Tweet Id                      object\n",
              "Tweet URL                     object\n",
              "Tweet Posted Time (UTC)       object\n",
              "Tweet Content                 object\n",
              "Tweet Type                    object\n",
              "Client                        object\n",
              "Retweets Received              int64\n",
              "Likes Received                 int64\n",
              "Tweet Location                string\n",
              "Tweet Language                object\n",
              "User Id                       object\n",
              "Name                          object\n",
              "Username                      object\n",
              "User Bio                      object\n",
              "Verified or Non-Verified      object\n",
              "Profile URL                   object\n",
              "Protected or Non-protected    object\n",
              "User Followers                 int64\n",
              "User Following                 int64\n",
              "User Account Creation Date    object\n",
              "Impressions                    int64\n",
              "dtype: object"
            ]
          },
          "metadata": {
            "tags": []
          },
          "execution_count": 36
        }
      ]
    },
    {
      "cell_type": "markdown",
      "metadata": {
        "id": "YMhrZuj73oQB"
      },
      "source": [
        "### Make the data homogeneous\n",
        "This aspect involves categorical and numerical data. \n",
        "- **Categorical** data should have all the same formatting style, such as lower case. For text mining applications there are other formatting interventions:\n",
        "   - stop word removal\n",
        "   - lemmatization\n",
        "   - punktuation removal\n",
        "   - ....\n",
        "- **Numerical** data should have for example the same number of digits after the point. \n",
        "\n",
        "In order to format all categorical data to lower case, we can use the following statement:"
      ]
    }
  ]
}