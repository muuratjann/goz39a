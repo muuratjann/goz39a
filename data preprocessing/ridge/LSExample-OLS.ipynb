{
 "cells": [
  {
   "cell_type": "code",
   "execution_count": 1,
   "metadata": {
    "executionInfo": {
     "elapsed": 565,
     "status": "ok",
     "timestamp": 1608830231009,
     "user": {
      "displayName": "Jan De Spiegeleer",
      "photoUrl": "https://lh3.googleusercontent.com/a-/AOh14Ggxxb9SxBqAv_r35BXg4rQuvrALa7N1_RqDSbwQUw=s64",
      "userId": "15176895267494237817"
     },
     "user_tz": -60
    },
    "id": "SqPJdpntyf9Y"
   },
   "outputs": [],
   "source": [
    "import numpy as np\n",
    "import pandas as pd\n",
    "\n",
    "from sklearn import linear_model\n",
    "import matplotlib.pyplot as plt\n",
    "\n",
    "%matplotlib inline\n",
    "\n",
    "import seaborn as sns\n",
    "sns.set()"
   ]
  },
  {
   "cell_type": "markdown",
   "metadata": {
    "id": "jCL8hz2yylH6"
   },
   "source": [
    "# Start Reading Data"
   ]
  },
  {
   "cell_type": "code",
   "execution_count": 11,
   "metadata": {
    "executionInfo": {
     "elapsed": 1466,
     "status": "ok",
     "timestamp": 1608830231916,
     "user": {
      "displayName": "Jan De Spiegeleer",
      "photoUrl": "https://lh3.googleusercontent.com/a-/AOh14Ggxxb9SxBqAv_r35BXg4rQuvrALa7N1_RqDSbwQUw=s64",
      "userId": "15176895267494237817"
     },
     "user_tz": -60
    },
    "id": "BPE2E-NPyf9c"
   },
   "outputs": [],
   "source": [
    "#read csv file\n",
    "portfolio = pd.read_csv('https://goz39a.s3.eu-central-1.amazonaws.com/Portfolio.csv',parse_dates=True,index_col='T')\n"
   ]
  },
  {
   "cell_type": "code",
   "execution_count": 12,
   "metadata": {
    "colab": {
     "base_uri": "https://localhost:8080/",
     "height": 235
    },
    "executionInfo": {
     "elapsed": 1463,
     "status": "ok",
     "timestamp": 1608830231918,
     "user": {
      "displayName": "Jan De Spiegeleer",
      "photoUrl": "https://lh3.googleusercontent.com/a-/AOh14Ggxxb9SxBqAv_r35BXg4rQuvrALa7N1_RqDSbwQUw=s64",
      "userId": "15176895267494237817"
     },
     "user_tz": -60
    },
    "id": "Cu_KaHly1kK_",
    "outputId": "485f4efc-089c-4ce8-eee3-7f20531c3589"
   },
   "outputs": [
    {
     "data": {
      "text/html": [
       "<div>\n",
       "<style scoped>\n",
       "    .dataframe tbody tr th:only-of-type {\n",
       "        vertical-align: middle;\n",
       "    }\n",
       "\n",
       "    .dataframe tbody tr th {\n",
       "        vertical-align: top;\n",
       "    }\n",
       "\n",
       "    .dataframe thead th {\n",
       "        text-align: right;\n",
       "    }\n",
       "</style>\n",
       "<table border=\"1\" class=\"dataframe\">\n",
       "  <thead>\n",
       "    <tr style=\"text-align: right;\">\n",
       "      <th></th>\n",
       "      <th>DAX</th>\n",
       "      <th>NKY</th>\n",
       "      <th>SPX</th>\n",
       "      <th>SX5E</th>\n",
       "      <th>SX7E</th>\n",
       "      <th>SXAP</th>\n",
       "      <th>SXKP</th>\n",
       "      <th>PORTFOLIO</th>\n",
       "    </tr>\n",
       "    <tr>\n",
       "      <th>T</th>\n",
       "      <th></th>\n",
       "      <th></th>\n",
       "      <th></th>\n",
       "      <th></th>\n",
       "      <th></th>\n",
       "      <th></th>\n",
       "      <th></th>\n",
       "      <th></th>\n",
       "    </tr>\n",
       "  </thead>\n",
       "  <tbody>\n",
       "    <tr>\n",
       "      <th>2014-10-08</th>\n",
       "      <td>-0.00437</td>\n",
       "      <td>-0.00520</td>\n",
       "      <td>0.00752</td>\n",
       "      <td>-0.00408</td>\n",
       "      <td>-0.00456</td>\n",
       "      <td>-0.00751</td>\n",
       "      <td>-0.00297</td>\n",
       "      <td>-0.00325</td>\n",
       "    </tr>\n",
       "    <tr>\n",
       "      <th>2014-10-09</th>\n",
       "      <td>0.00047</td>\n",
       "      <td>-0.00327</td>\n",
       "      <td>-0.00907</td>\n",
       "      <td>-0.00155</td>\n",
       "      <td>-0.00464</td>\n",
       "      <td>0.00024</td>\n",
       "      <td>-0.00558</td>\n",
       "      <td>-0.00562</td>\n",
       "    </tr>\n",
       "    <tr>\n",
       "      <th>2014-10-14</th>\n",
       "      <td>0.00179</td>\n",
       "      <td>-0.01046</td>\n",
       "      <td>-0.00653</td>\n",
       "      <td>0.00138</td>\n",
       "      <td>0.00075</td>\n",
       "      <td>0.01232</td>\n",
       "      <td>-0.00130</td>\n",
       "      <td>-0.01723</td>\n",
       "    </tr>\n",
       "    <tr>\n",
       "      <th>2014-10-15</th>\n",
       "      <td>-0.01265</td>\n",
       "      <td>0.00397</td>\n",
       "      <td>-0.00353</td>\n",
       "      <td>-0.01598</td>\n",
       "      <td>-0.02159</td>\n",
       "      <td>-0.01331</td>\n",
       "      <td>-0.01484</td>\n",
       "      <td>-0.00118</td>\n",
       "    </tr>\n",
       "    <tr>\n",
       "      <th>2014-10-16</th>\n",
       "      <td>0.00055</td>\n",
       "      <td>-0.00976</td>\n",
       "      <td>0.00006</td>\n",
       "      <td>-0.00270</td>\n",
       "      <td>-0.00929</td>\n",
       "      <td>0.00638</td>\n",
       "      <td>-0.00521</td>\n",
       "      <td>-0.00183</td>\n",
       "    </tr>\n",
       "  </tbody>\n",
       "</table>\n",
       "</div>"
      ],
      "text/plain": [
       "                DAX      NKY      SPX     SX5E     SX7E     SXAP     SXKP  \\\n",
       "T                                                                           \n",
       "2014-10-08 -0.00437 -0.00520  0.00752 -0.00408 -0.00456 -0.00751 -0.00297   \n",
       "2014-10-09  0.00047 -0.00327 -0.00907 -0.00155 -0.00464  0.00024 -0.00558   \n",
       "2014-10-14  0.00179 -0.01046 -0.00653  0.00138  0.00075  0.01232 -0.00130   \n",
       "2014-10-15 -0.01265  0.00397 -0.00353 -0.01598 -0.02159 -0.01331 -0.01484   \n",
       "2014-10-16  0.00055 -0.00976  0.00006 -0.00270 -0.00929  0.00638 -0.00521   \n",
       "\n",
       "            PORTFOLIO  \n",
       "T                      \n",
       "2014-10-08   -0.00325  \n",
       "2014-10-09   -0.00562  \n",
       "2014-10-14   -0.01723  \n",
       "2014-10-15   -0.00118  \n",
       "2014-10-16   -0.00183  "
      ]
     },
     "execution_count": 12,
     "metadata": {},
     "output_type": "execute_result"
    }
   ],
   "source": [
    "portfolio.head()"
   ]
  },
  {
   "cell_type": "code",
   "execution_count": 14,
   "metadata": {
    "executionInfo": {
     "elapsed": 1457,
     "status": "ok",
     "timestamp": 1608830231919,
     "user": {
      "displayName": "Jan De Spiegeleer",
      "photoUrl": "https://lh3.googleusercontent.com/a-/AOh14Ggxxb9SxBqAv_r35BXg4rQuvrALa7N1_RqDSbwQUw=s64",
      "userId": "15176895267494237817"
     },
     "user_tz": -60
    },
    "id": "PHVmR01Ayf9f"
   },
   "outputs": [],
   "source": [
    "#the last column is the target\n",
    "y = portfolio.values[:,-1]\n",
    "\n",
    "#create the design / feature matrix\n",
    "X = portfolio.values[:,0:-1]\n",
    "\n",
    "futures_names = portfolio.columns[:-1]"
   ]
  },
  {
   "cell_type": "markdown",
   "metadata": {
    "id": "J0bBSVH7yp1X"
   },
   "source": [
    "\n",
    "# Train OLS Regression"
   ]
  },
  {
   "cell_type": "markdown",
   "metadata": {
    "id": "eDbuLz3byf9j"
   },
   "source": [
    "Set up the ordinary least squares regression (fit_intercept=True)"
   ]
  },
  {
   "cell_type": "code",
   "execution_count": 15,
   "metadata": {
    "colab": {
     "base_uri": "https://localhost:8080/"
    },
    "executionInfo": {
     "elapsed": 1448,
     "status": "ok",
     "timestamp": 1608830231921,
     "user": {
      "displayName": "Jan De Spiegeleer",
      "photoUrl": "https://lh3.googleusercontent.com/a-/AOh14Ggxxb9SxBqAv_r35BXg4rQuvrALa7N1_RqDSbwQUw=s64",
      "userId": "15176895267494237817"
     },
     "user_tz": -60
    },
    "id": "AC0r1cp_yf9w",
    "outputId": "e572f82e-e76e-4815-da30-c0c950d32b09"
   },
   "outputs": [],
   "source": [
    "ols_model = linear_model.LinearRegression(fit_intercept=True)"
   ]
  },
  {
   "cell_type": "code",
   "execution_count": 16,
   "metadata": {
    "colab": {
     "base_uri": "https://localhost:8080/"
    },
    "executionInfo": {
     "elapsed": 1448,
     "status": "ok",
     "timestamp": 1608830231921,
     "user": {
      "displayName": "Jan De Spiegeleer",
      "photoUrl": "https://lh3.googleusercontent.com/a-/AOh14Ggxxb9SxBqAv_r35BXg4rQuvrALa7N1_RqDSbwQUw=s64",
      "userId": "15176895267494237817"
     },
     "user_tz": -60
    },
    "id": "AC0r1cp_yf9w",
    "outputId": "e572f82e-e76e-4815-da30-c0c950d32b09"
   },
   "outputs": [
    {
     "data": {
      "text/plain": [
       "LinearRegression()"
      ]
     },
     "execution_count": 16,
     "metadata": {},
     "output_type": "execute_result"
    }
   ],
   "source": [
    "ols_model.fit(X,y)"
   ]
  },
  {
   "cell_type": "code",
   "execution_count": 17,
   "metadata": {
    "colab": {
     "base_uri": "https://localhost:8080/"
    },
    "executionInfo": {
     "elapsed": 1448,
     "status": "ok",
     "timestamp": 1608830231921,
     "user": {
      "displayName": "Jan De Spiegeleer",
      "photoUrl": "https://lh3.googleusercontent.com/a-/AOh14Ggxxb9SxBqAv_r35BXg4rQuvrALa7N1_RqDSbwQUw=s64",
      "userId": "15176895267494237817"
     },
     "user_tz": -60
    },
    "id": "AC0r1cp_yf9w",
    "outputId": "e572f82e-e76e-4815-da30-c0c950d32b09"
   },
   "outputs": [],
   "source": [
    "coef = ols_model.coef_\n",
    "intercept = ols_model.intercept_"
   ]
  },
  {
   "cell_type": "markdown",
   "metadata": {
    "id": "BQbE2rMRkH0w"
   },
   "source": [
    "# R Squared"
   ]
  },
  {
   "cell_type": "code",
   "execution_count": 18,
   "metadata": {},
   "outputs": [
    {
     "name": "stdout",
     "output_type": "stream",
     "text": [
      "R Squared: 0.5721537153344336\n"
     ]
    }
   ],
   "source": [
    "print('R Squared:',ols_model.score(X,y))\n",
    "Y = ols_model.predict(X)"
   ]
  },
  {
   "cell_type": "markdown",
   "metadata": {},
   "source": [
    "# Graphical Output"
   ]
  },
  {
   "cell_type": "code",
   "execution_count": 19,
   "metadata": {},
   "outputs": [
    {
     "data": {
      "image/png": "[encoded data removed]",
      "text/plain": [
       "<Figure size 720x432 with 2 Axes>"
      ]
     },
     "metadata": {},
     "output_type": "display_data"
    }
   ],
   "source": [
    "fig , ax = plt.subplots(1,2,figsize=(10,6))\n",
    "ax[0].scatter(100*Y,100*y)\n",
    "ax[0].set_xlabel('Predicted value $\\hat{Y}$ (%)')\n",
    "ax[0].set_ylabel('Observed value $y$ (%)')\n",
    "ax[0].set_title('OLS Regression')\n",
    "\n",
    "ax[1].bar(np.arange(0,len(futures_names)),coef)\n",
    "ax[1].set_xticks(np.arange(0,len(futures_names)))\n",
    "ax[1].set_xticklabels(futures_names,rotation=90);\n",
    "ax[1].set_title('Optimal Hedge');"
   ]
  },
  {
   "cell_type": "code",
   "execution_count": 20,
   "metadata": {},
   "outputs": [
    {
     "data": {
      "text/plain": [
       "2.0575594265559243"
      ]
     },
     "execution_count": 20,
     "metadata": {},
     "output_type": "execute_result"
    }
   ],
   "source": [
    "np.sum(np.abs(ols_model.coef_))"
   ]
  },
  {
   "cell_type": "code",
   "execution_count": null,
   "metadata": {},
   "outputs": [],
   "source": []
  }
 ],
 "metadata": {
  "anaconda-cloud": {},
  "colab": {
   "collapsed_sections": [],
   "name": "LSExample-Ridge.ipynb",
   "provenance": []
  },
  "kernelspec": {
   "display_name": "Python 3 (ipykernel)",
   "language": "python",
   "name": "python3"
  },
  "language_info": {
   "codemirror_mode": {
    "name": "ipython",
    "version": 3
   },
   "file_extension": ".py",
   "mimetype": "text/x-python",
   "name": "python",
   "nbconvert_exporter": "python",
   "pygments_lexer": "ipython3",
   "version": "3.9.5"
  },
  "toc": {
   "base_numbering": 1,
   "nav_menu": {},
   "number_sections": true,
   "sideBar": true,
   "skip_h1_title": false,
   "title_cell": "Table of Contents",
   "title_sidebar": "Contents",
   "toc_cell": false,
   "toc_position": {},
   "toc_section_display": true,
   "toc_window_display": false
  },
  "varInspector": {
   "cols": {
    "lenName": 16,
    "lenType": 16,
    "lenVar": 40
   },
   "kernels_config": {
    "python": {
     "delete_cmd_postfix": "",
     "delete_cmd_prefix": "del ",
     "library": "var_list.py",
     "varRefreshCmd": "print(var_dic_list())"
    },
    "r": {
     "delete_cmd_postfix": ") ",
     "delete_cmd_prefix": "rm(",
     "library": "var_list.r",
     "varRefreshCmd": "cat(var_dic_list()) "
    }
   },
   "types_to_exclude": [
    "module",
    "function",
    "builtin_function_or_method",
    "instance",
    "_Feature"
   ],
   "window_display": false
  }
 },
 "nbformat": 4,
 "nbformat_minor": 1
}
