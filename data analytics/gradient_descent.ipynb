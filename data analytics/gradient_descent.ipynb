{
 "cells": [
  {
   "cell_type": "markdown",
   "metadata": {},
   "source": [
    "# Linear Regression with Gradient Descent\n",
    "\n",
    "\n",
    "Gradient descent is an optimization algorithm used to minimize some function by iteratively moving in the direction of steepest descent. In this notebook we will make use of gradient descent to fit a line to some data.\n"
   ]
  },
  {
   "cell_type": "markdown",
   "metadata": {},
   "source": [
    "### 1. Make the necesary inputs"
   ]
  },
  {
   "cell_type": "code",
   "execution_count": 20,
   "metadata": {},
   "outputs": [],
   "source": [
    "import numpy as np\n",
    "import matplotlib.pyplot as plt\n",
    "import seaborn as sns\n",
    "sns.set()\n",
    "%matplotlib inline"
   ]
  },
  {
   "cell_type": "markdown",
   "metadata": {},
   "source": [
    "### 2. Generating the data"
   ]
  },
  {
   "cell_type": "code",
   "execution_count": 21,
   "metadata": {},
   "outputs": [],
   "source": [
    "# generate a random array of size 100x1\n",
    "x = np.random.rand(100 ,1) \n",
    "y = 4 + 3 * x + np.random.randn(100, 1)"
   ]
  },
  {
   "cell_type": "markdown",
   "metadata": {},
   "source": [
    "The actual function that we used to generate the data is $y = 4 + 3x+ \\epsilon$<br>\n",
    "$\\epsilon$ is some `Gaussian noise`. Let’s see what the equation found. <br>\n",
    "We are aiming to find $y=b+wx$ with b=4 and w=3"
   ]
  },
  {
   "cell_type": "code",
   "execution_count": 22,
   "metadata": {},
   "outputs": [
    {
     "data": {
      "image/png": "[encoded data removed]",
      "text/plain": [
       "<Figure size 720x360 with 1 Axes>"
      ]
     },
     "metadata": {
      "needs_background": "light"
     },
     "output_type": "display_data"
    }
   ],
   "source": [
    "fig , ax = plt.subplots(1,1,figsize=(10,5))\n",
    "plt.scatter(x,y);\n"
   ]
  },
  {
   "cell_type": "markdown",
   "metadata": {},
   "source": [
    "The coefficients can be found with the following equation"
   ]
  },
  {
   "cell_type": "markdown",
   "metadata": {},
   "source": [
    "$\\hat{\\Theta} = (X^TX)^{-1}X^T y$<br>\n",
    "The dimension of $X \\sim (N,1)$<br> and $\\hat{\\Theta} \\sim (1,1)$<br><br>\n",
    "If there are $p$ features we have :\n",
    "The dimension of $X \\sim (N,p)$<br> and $\\hat{\\Theta} \\sim (p,1)$<br><br>\n",
    "Let's add a column of ones to x using the `hstack` function"
   ]
  },
  {
   "cell_type": "code",
   "execution_count": 23,
   "metadata": {},
   "outputs": [],
   "source": [
    "x = np.hstack([np.ones_like(x),x])"
   ]
  },
  {
   "cell_type": "markdown",
   "metadata": {},
   "source": [
    "Solve for $\\hat{\\theta}$:"
   ]
  },
  {
   "cell_type": "code",
   "execution_count": 24,
   "metadata": {},
   "outputs": [],
   "source": [
    "theta_est = np.linalg.inv(x.T.dot(x)).dot(x.T).dot(y)"
   ]
  },
  {
   "cell_type": "code",
   "execution_count": 26,
   "metadata": {},
   "outputs": [
    {
     "name": "stdout",
     "output_type": "stream",
     "text": [
      "For the equation we found: 3.8 + 3.046 x\n"
     ]
    }
   ],
   "source": [
    "a = theta_est[0][0]\n",
    "b = theta_est[1][0]\n",
    "print('For the equation we found:',np.round(a,3),'+',np.round(b,3),'x')"
   ]
  },
  {
   "cell_type": "markdown",
   "metadata": {},
   "source": [
    "We would have hoped for $a= 4$ and $b = 3$ instead of the numbers above. Close enough, but the noise made it impossible to recover the exact parameters of the original function. <br>\n",
    "We can use this to start making predictions"
   ]
  },
  {
   "cell_type": "code",
   "execution_count": 27,
   "metadata": {},
   "outputs": [
    {
     "data": {
      "image/png": "[encoded data removed]",
      "text/plain": [
       "<Figure size 720x360 with 1 Axes>"
      ]
     },
     "metadata": {
      "needs_background": "light"
     },
     "output_type": "display_data"
    }
   ],
   "source": [
    "x_new = np.arange(0,1.1,0.1)\n",
    "y_predict = a+b*x_new\n",
    "fig , ax = plt.subplots(1,1,figsize=(10,5))\n",
    "plt.scatter(x[:,1],y);\n",
    "plt.plot(x_new,y_predict,'r');\n"
   ]
  },
  {
   "cell_type": "markdown",
   "metadata": {},
   "source": [
    "## This is a lot easier using sklearn\n",
    "\n",
    "We will repeat the same procedure but this time using sklearn"
   ]
  },
  {
   "cell_type": "code",
   "execution_count": 28,
   "metadata": {},
   "outputs": [
    {
     "name": "stdout",
     "output_type": "stream",
     "text": [
      "We now find: 3.8 + 3.046 x\n",
      "(same as before)\n"
     ]
    }
   ],
   "source": [
    "from sklearn.linear_model import LinearRegression\n",
    "# We will use the module Linear Regression of sklearn to perform the analysis\n",
    "# Initialize the model\n",
    "ols = LinearRegression()\n",
    "# Fit the model to the data\n",
    "ols.fit(x,y)\n",
    "# Extract the bias and weights of the linear model\n",
    "sk_b = ols.intercept_[0]\n",
    "sk_w = ols.coef_[0][1]\n",
    "print('We now find:',np.round(sk_b,3),'+',np.round(sk_w,3),'x')\n",
    "print('(same as before)')"
   ]
  },
  {
   "cell_type": "markdown",
   "metadata": {},
   "source": [
    "There is **computational complexity**:<br>\n",
    "The Normal Equation computes the inverse of $X^T X$ , which is a $( p + 1) × ( p + 1)$ matrix (where $p$ is the number of features). The computational complexity of inverting such a matrix is typically about $O ( p^3 )$. <br>\n",
    "In other words, if you double the number of features, you multiply the computation time by roughly $2^3 = 8$.<br>\n",
    "If you want to double the number of predictions, then the increase in time is linear: you'll need twice as much time."
   ]
  },
  {
   "cell_type": "markdown",
   "metadata": {},
   "source": [
    "Now using Gradient Descent:<br>\n",
    "First stap is calculating the gradient\n",
    "To implement Gradient Descent, you need to compute the gradient of the cost function with regards to each model parameter $\\theta_j$ . In other words, you need to calculate how much the cost function will change if you change $\\theta_j$ just a little bit. This is called a partial derivative . It is like asking “what is the slope of the mountain under my feet if I face east?” "
   ]
  },
  {
   "cell_type": "markdown",
   "metadata": {},
   "source": [
    "The loss function used is **MSE** <br>\n",
    "$$\\text{MSE}(X,\\Theta) = \\frac{1}{N} \\sum_{i=1}^{N} (x_i\\Theta) $$ <br>\n",
    "Here $x_i \\sim (1,p)$ and $\\Theta \\sim (p,1)$. Each item $x_i$ is a row from the design matrix"
   ]
  },
  {
   "cell_type": "markdown",
   "metadata": {},
   "source": [
    "The gradient which shows us the slope in each of $p$ direction in the domain of $x$ is given by:\n",
    "\n",
    "$\\nabla_{\\Theta} = \\frac{2}{N}X^T(X\\Theta-y)$<br>\n",
    "<br>\n",
    "The gradient has dimension $(p,1)$"
   ]
  },
  {
   "cell_type": "markdown",
   "metadata": {},
   "source": [
    "The procedure is as follows\n",
    "1. start with an inital value of $\\Theta$\n",
    "2. calculate the gradient\n",
    "3. calculate a new value for $\\Theta$:<br>\n",
    "$\\Theta^{\\text{new}}= \\Theta - \\eta \\nabla_{\\Theta}$<br>\n",
    "4. Go Step 2<br>\n",
    "Add an accuracy criterium.<br>\n",
    "The parameter $\\eta$ is called the learning rate"
   ]
  },
  {
   "cell_type": "code",
   "execution_count": 29,
   "metadata": {},
   "outputs": [],
   "source": [
    "eta = 0.1 # learning rate \n",
    "n_iterations = 5 \n",
    "N = x.shape[0] \n",
    "theta = np.random.randn(2, 1) # random initialization\n",
    "for iteration in range ( n_iterations ):\n",
    "    gradients = (2 / N) * x.T.dot(x.dot(theta)-y )\n",
    "    theta = theta-eta * gradients \n"
   ]
  },
  {
   "cell_type": "code",
   "execution_count": 30,
   "metadata": {},
   "outputs": [
    {
     "name": "stdout",
     "output_type": "stream",
     "text": [
      "We now find: 2.529 + 2.69 x\n",
      "(almost the same as before)\n"
     ]
    }
   ],
   "source": [
    "a = theta[0,0]\n",
    "b = theta[1,0]\n",
    "print('We now find:',np.round(a,3),'+',np.round(b,3),'x')\n",
    "print('(almost the same as before)')"
   ]
  },
  {
   "cell_type": "markdown",
   "metadata": {},
   "source": [
    "#### If you increase the number of iterations, this coefficients will converge to the correct solution"
   ]
  },
  {
   "cell_type": "markdown",
   "metadata": {},
   "source": [
    "The parameter 𝜂 is called the learning rate"
   ]
  },
  {
   "cell_type": "code",
   "execution_count": 31,
   "metadata": {},
   "outputs": [],
   "source": [
    "import ipywidgets as widgets"
   ]
  },
  {
   "cell_type": "code",
   "execution_count": 35,
   "metadata": {},
   "outputs": [
    {
     "data": {
      "application/vnd.jupyter.widget-view+json": {
       "model_id": "8f6b7ee36ac64f6c8afe1e7e9e022cd9",
       "version_major": 2,
       "version_minor": 0
      },
      "text/plain": [
       "FloatSlider(value=0.3, continuous_update=False, description='Learn Rate:', max=10.0, readout_format='.1f', ste…"
      ]
     },
     "metadata": {},
     "output_type": "display_data"
    }
   ],
   "source": [
    "slider =widgets.FloatSlider(\n",
    "    value=0.3,\n",
    "    min=0,\n",
    "    max=10.0,\n",
    "    step=0.01,\n",
    "    description='Learn Rate:',\n",
    "    disabled=False,\n",
    "    continuous_update=False,\n",
    "    orientation='horizontal',\n",
    "    readout=True,\n",
    "    readout_format='.1f',\n",
    ")\n",
    "slider"
   ]
  },
  {
   "cell_type": "code",
   "execution_count": 38,
   "metadata": {},
   "outputs": [],
   "source": [
    "eta = slider.value # learning rate \n",
    "n_iterations = 100\n",
    "N = x.shape[0]\n",
    "theta = np.zeros((2, n_iterations))\n",
    "theta[:,0] = np.random.randn(2)\n",
    "\n",
    "for i in np.arange(1,theta.shape[1]):\n",
    "    gradients = (2 / N) * x.T.dot(x.dot(theta[:,i-1].reshape(-1,1))-y )\n",
    "    theta[:,i] = theta[:,i-1]-(eta * gradients).reshape(-1,)"
   ]
  },
  {
   "cell_type": "code",
   "execution_count": 39,
   "metadata": {},
   "outputs": [
    {
     "data": {
      "image/png": "[encoded data removed]",
      "text/plain": [
       "<Figure size 720x360 with 1 Axes>"
      ]
     },
     "metadata": {
      "needs_background": "light"
     },
     "output_type": "display_data"
    }
   ],
   "source": [
    "fig , ax = plt.subplots(1,1,figsize=(10,5))\n",
    "plt.scatter(theta[0,:], theta[1,:], label='Iterations');\n",
    "plt.scatter(theta[0,-1],theta[1,-1], color='green',label='Last Iteration');\n",
    "plt.scatter([sk_b],[sk_w],color='red',label='Correct Solution')\n",
    "plt.xlabel('$w$')\n",
    "plt.ylabel('$b$')\n",
    "plt.title('Learning Rate ($\\eta$)='+ str(eta))\n",
    "plt.legend(fontsize=14);"
   ]
  },
  {
   "cell_type": "code",
   "execution_count": 15,
   "metadata": {},
   "outputs": [
    {
     "name": "stdout",
     "output_type": "stream",
     "text": [
      "Shape of the gradients: (2, 1)\n"
     ]
    }
   ],
   "source": [
    "\n",
    "print(\"Shape of the gradients:\", gradients.shape)"
   ]
  },
  {
   "cell_type": "code",
   "execution_count": 16,
   "metadata": {},
   "outputs": [
    {
     "name": "stdout",
     "output_type": "stream",
     "text": [
      "Shape of theta: (2,)\n"
     ]
    }
   ],
   "source": [
    "print(\"Shape of theta:\", theta[:,i-1].shape)"
   ]
  },
  {
   "cell_type": "code",
   "execution_count": null,
   "metadata": {},
   "outputs": [],
   "source": []
  }
 ],
 "metadata": {
  "kernelspec": {
   "display_name": "Python 3 (ipykernel)",
   "language": "python",
   "name": "python3"
  },
  "language_info": {
   "codemirror_mode": {
    "name": "ipython",
    "version": 3
   },
   "file_extension": ".py",
   "mimetype": "text/x-python",
   "name": "python",
   "nbconvert_exporter": "python",
   "pygments_lexer": "ipython3",
   "version": "3.9.7"
  },
  "toc": {
   "base_numbering": 1,
   "nav_menu": {},
   "number_sections": true,
   "sideBar": true,
   "skip_h1_title": false,
   "title_cell": "Table of Contents",
   "title_sidebar": "Contents",
   "toc_cell": false,
   "toc_position": {},
   "toc_section_display": true,
   "toc_window_display": false
  },
  "varInspector": {
   "cols": {
    "lenName": 16,
    "lenType": 16,
    "lenVar": 40
   },
   "kernels_config": {
    "python": {
     "delete_cmd_postfix": "",
     "delete_cmd_prefix": "del ",
     "library": "var_list.py",
     "varRefreshCmd": "print(var_dic_list())"
    },
    "r": {
     "delete_cmd_postfix": ") ",
     "delete_cmd_prefix": "rm(",
     "library": "var_list.r",
     "varRefreshCmd": "cat(var_dic_list()) "
    }
   },
   "types_to_exclude": [
    "module",
    "function",
    "builtin_function_or_method",
    "instance",
    "_Feature"
   ],
   "window_display": false
  }
 },
 "nbformat": 4,
 "nbformat_minor": 4
}
