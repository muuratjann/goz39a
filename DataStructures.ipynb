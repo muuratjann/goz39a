{
  "nbformat": 4,
  "nbformat_minor": 0,
  "metadata": {
    "colab": {
      "name": "DataStructures.ipynb",
      "provenance": [],
      "authorship_tag": "ABX9TyP+S9pLjiRCRycudQ2u0Sys",
      "include_colab_link": true
    },
    "kernelspec": {
      "name": "python3",
      "display_name": "Python 3"
    }
  },
  "cells": [
    {
      "cell_type": "markdown",
      "metadata": {
        "id": "view-in-github",
        "colab_type": "text"
      },
      "source": [
        "<a href=\"https://colab.research.google.com/github/despiegj/goz39a/blob/main/DataStructures.ipynb\" target=\"_parent\"><img src=\"https://colab.research.google.com/assets/colab-badge.svg\" alt=\"Open In Colab\"/></a>"
      ]
    },
    {
      "cell_type": "markdown",
      "metadata": {
        "id": "N4UNUlq6D2c1"
      },
      "source": [
        "# DataStructures in Python"
      ]
    },
    {
      "cell_type": "markdown",
      "metadata": {
        "id": "XplrYsvfD7Cx"
      },
      "source": [
        "\n",
        "\n",
        "*   List\n",
        "*   Array\n",
        "*   Tuple\n",
        "*   Dictionary\n",
        "*   DataFrame\n",
        "*   Objects\n",
        "\n",
        "\n",
        "\n"
      ]
    },
    {
      "cell_type": "code",
      "metadata": {
        "id": "qHkazhiGESQs"
      },
      "source": [
        "import numpy as np"
      ],
      "execution_count": 2,
      "outputs": []
    },
    {
      "cell_type": "code",
      "metadata": {
        "id": "RAO4hMTDJj92"
      },
      "source": [
        ""
      ],
      "execution_count": null,
      "outputs": []
    }
  ]
}