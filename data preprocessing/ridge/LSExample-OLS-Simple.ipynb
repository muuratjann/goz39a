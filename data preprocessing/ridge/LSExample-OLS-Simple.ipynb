{
 "cells": [
  {
   "cell_type": "code",
   "execution_count": 10,
   "metadata": {
    "executionInfo": {
     "elapsed": 565,
     "status": "ok",
     "timestamp": 1608830231009,
     "user": {
      "displayName": "Jan De Spiegeleer",
      "photoUrl": "https://lh3.googleusercontent.com/a-/AOh14Ggxxb9SxBqAv_r35BXg4rQuvrALa7N1_RqDSbwQUw=s64",
      "userId": "15176895267494237817"
     },
     "user_tz": -60
    },
    "id": "SqPJdpntyf9Y"
   },
   "outputs": [],
   "source": [
    "import numpy as np\n",
    "import pandas as pd\n",
    "\n",
    "from sklearn import linear_model\n",
    "import matplotlib.pyplot as plt\n",
    "plt.style.use('seaborn-white')\n",
    "import numpy as np\n",
    "%matplotlib inline\n",
    "\n",
    "import seaborn as sns\n",
    "sns.set()"
   ]
  },
  {
   "cell_type": "markdown",
   "metadata": {
    "id": "jCL8hz2yylH6"
   },
   "source": [
    "# Start Reading Data"
   ]
  },
  {
   "cell_type": "code",
   "execution_count": 11,
   "metadata": {
    "executionInfo": {
     "elapsed": 1466,
     "status": "ok",
     "timestamp": 1608830231916,
     "user": {
      "displayName": "Jan De Spiegeleer",
      "photoUrl": "https://lh3.googleusercontent.com/a-/AOh14Ggxxb9SxBqAv_r35BXg4rQuvrALa7N1_RqDSbwQUw=s64",
      "userId": "15176895267494237817"
     },
     "user_tz": -60
    },
    "id": "BPE2E-NPyf9c"
   },
   "outputs": [],
   "source": [
    "#read csv file\n",
    "portfolio = pd.read_csv('https://goz39a.s3.eu-central-1.amazonaws.com/Portfolio.csv',parse_dates=True,index_col='T')\n"
   ]
  },
  {
   "cell_type": "code",
   "execution_count": 12,
   "metadata": {
    "colab": {
     "base_uri": "https://localhost:8080/",
     "height": 235
    },
    "executionInfo": {
     "elapsed": 1463,
     "status": "ok",
     "timestamp": 1608830231918,
     "user": {
      "displayName": "Jan De Spiegeleer",
      "photoUrl": "https://lh3.googleusercontent.com/a-/AOh14Ggxxb9SxBqAv_r35BXg4rQuvrALa7N1_RqDSbwQUw=s64",
      "userId": "15176895267494237817"
     },
     "user_tz": -60
    },
    "id": "Cu_KaHly1kK_",
    "outputId": "485f4efc-089c-4ce8-eee3-7f20531c3589"
   },
   "outputs": [
    {
     "data": {
      "text/html": [
       "<div>\n",
       "<style scoped>\n",
       "    .dataframe tbody tr th:only-of-type {\n",
       "        vertical-align: middle;\n",
       "    }\n",
       "\n",
       "    .dataframe tbody tr th {\n",
       "        vertical-align: top;\n",
       "    }\n",
       "\n",
       "    .dataframe thead th {\n",
       "        text-align: right;\n",
       "    }\n",
       "</style>\n",
       "<table border=\"1\" class=\"dataframe\">\n",
       "  <thead>\n",
       "    <tr style=\"text-align: right;\">\n",
       "      <th></th>\n",
       "      <th>DAX</th>\n",
       "      <th>NKY</th>\n",
       "      <th>SPX</th>\n",
       "      <th>SX5E</th>\n",
       "      <th>SX7E</th>\n",
       "      <th>SXAP</th>\n",
       "      <th>SXKP</th>\n",
       "      <th>PORTFOLIO</th>\n",
       "    </tr>\n",
       "    <tr>\n",
       "      <th>T</th>\n",
       "      <th></th>\n",
       "      <th></th>\n",
       "      <th></th>\n",
       "      <th></th>\n",
       "      <th></th>\n",
       "      <th></th>\n",
       "      <th></th>\n",
       "      <th></th>\n",
       "    </tr>\n",
       "  </thead>\n",
       "  <tbody>\n",
       "    <tr>\n",
       "      <th>2014-10-08</th>\n",
       "      <td>-0.00437</td>\n",
       "      <td>-0.00520</td>\n",
       "      <td>0.00752</td>\n",
       "      <td>-0.00408</td>\n",
       "      <td>-0.00456</td>\n",
       "      <td>-0.00751</td>\n",
       "      <td>-0.00297</td>\n",
       "      <td>-0.00325</td>\n",
       "    </tr>\n",
       "    <tr>\n",
       "      <th>2014-10-09</th>\n",
       "      <td>0.00047</td>\n",
       "      <td>-0.00327</td>\n",
       "      <td>-0.00907</td>\n",
       "      <td>-0.00155</td>\n",
       "      <td>-0.00464</td>\n",
       "      <td>0.00024</td>\n",
       "      <td>-0.00558</td>\n",
       "      <td>-0.00562</td>\n",
       "    </tr>\n",
       "    <tr>\n",
       "      <th>2014-10-14</th>\n",
       "      <td>0.00179</td>\n",
       "      <td>-0.01046</td>\n",
       "      <td>-0.00653</td>\n",
       "      <td>0.00138</td>\n",
       "      <td>0.00075</td>\n",
       "      <td>0.01232</td>\n",
       "      <td>-0.00130</td>\n",
       "      <td>-0.01723</td>\n",
       "    </tr>\n",
       "    <tr>\n",
       "      <th>2014-10-15</th>\n",
       "      <td>-0.01265</td>\n",
       "      <td>0.00397</td>\n",
       "      <td>-0.00353</td>\n",
       "      <td>-0.01598</td>\n",
       "      <td>-0.02159</td>\n",
       "      <td>-0.01331</td>\n",
       "      <td>-0.01484</td>\n",
       "      <td>-0.00118</td>\n",
       "    </tr>\n",
       "    <tr>\n",
       "      <th>2014-10-16</th>\n",
       "      <td>0.00055</td>\n",
       "      <td>-0.00976</td>\n",
       "      <td>0.00006</td>\n",
       "      <td>-0.00270</td>\n",
       "      <td>-0.00929</td>\n",
       "      <td>0.00638</td>\n",
       "      <td>-0.00521</td>\n",
       "      <td>-0.00183</td>\n",
       "    </tr>\n",
       "  </tbody>\n",
       "</table>\n",
       "</div>"
      ],
      "text/plain": [
       "                DAX      NKY      SPX     SX5E     SX7E     SXAP     SXKP  \\\n",
       "T                                                                           \n",
       "2014-10-08 -0.00437 -0.00520  0.00752 -0.00408 -0.00456 -0.00751 -0.00297   \n",
       "2014-10-09  0.00047 -0.00327 -0.00907 -0.00155 -0.00464  0.00024 -0.00558   \n",
       "2014-10-14  0.00179 -0.01046 -0.00653  0.00138  0.00075  0.01232 -0.00130   \n",
       "2014-10-15 -0.01265  0.00397 -0.00353 -0.01598 -0.02159 -0.01331 -0.01484   \n",
       "2014-10-16  0.00055 -0.00976  0.00006 -0.00270 -0.00929  0.00638 -0.00521   \n",
       "\n",
       "            PORTFOLIO  \n",
       "T                      \n",
       "2014-10-08   -0.00325  \n",
       "2014-10-09   -0.00562  \n",
       "2014-10-14   -0.01723  \n",
       "2014-10-15   -0.00118  \n",
       "2014-10-16   -0.00183  "
      ]
     },
     "execution_count": 12,
     "metadata": {},
     "output_type": "execute_result"
    }
   ],
   "source": [
    "portfolio.head()"
   ]
  },
  {
   "cell_type": "markdown",
   "metadata": {},
   "source": [
    "# Find the futures with the highest Correlation"
   ]
  },
  {
   "cell_type": "code",
   "execution_count": 13,
   "metadata": {},
   "outputs": [
    {
     "data": {
      "text/plain": [
       "PORTFOLIO    1.000000\n",
       "SXKP         0.615897\n",
       "SX5E         0.580561\n",
       "SPX          0.568057\n",
       "SX7E         0.562787\n",
       "DAX          0.535965\n",
       "NKY          0.473889\n",
       "SXAP         0.443584\n",
       "Name: PORTFOLIO, dtype: float64"
      ]
     },
     "execution_count": 13,
     "metadata": {},
     "output_type": "execute_result"
    }
   ],
   "source": [
    "corr_matrix_sorted = portfolio.corr().abs().sort_values(by='PORTFOLIO',ascending=False)\n",
    "corr_matrix_sorted['PORTFOLIO']"
   ]
  },
  {
   "cell_type": "markdown",
   "metadata": {},
   "source": [
    "Take the 2 indices that are most correlated with the index"
   ]
  },
  {
   "cell_type": "code",
   "execution_count": 14,
   "metadata": {},
   "outputs": [],
   "source": [
    "futures_names = corr_matrix_sorted['PORTFOLIO'].index[1:3]"
   ]
  },
  {
   "cell_type": "code",
   "execution_count": 15,
   "metadata": {},
   "outputs": [
    {
     "name": "stdout",
     "output_type": "stream",
     "text": [
      "Best Choice :Index(['SXKP', 'SX5E'], dtype='object')\n"
     ]
    }
   ],
   "source": [
    "print(f'Best Choice :{futures_names}')"
   ]
  },
  {
   "cell_type": "code",
   "execution_count": 16,
   "metadata": {},
   "outputs": [
    {
     "name": "stdout",
     "output_type": "stream",
     "text": [
      "[[-2.970e-03 -4.080e-03]\n",
      " [-5.580e-03 -1.550e-03]\n",
      " [-1.300e-03  1.380e-03]\n",
      " [-1.484e-02 -1.598e-02]\n",
      " [-5.210e-03 -2.700e-03]\n",
      " [ 9.570e-03  1.304e-02]\n",
      " [ 3.000e-04 -5.150e-03]\n",
      " [ 8.790e-03  9.420e-03]\n",
      " [ 2.330e-03  2.470e-03]\n",
      " [ 5.800e-03  5.130e-03]\n",
      " [ 3.500e-03 -1.990e-03]\n",
      " [-3.060e-03 -4.540e-03]\n",
      " [ 2.630e-03 -1.970e-03]\n",
      " [ 1.730e-03  1.930e-03]\n",
      " [ 6.960e-03  1.094e-02]\n",
      " [-7.120e-03 -1.117e-02]\n",
      " [ 9.990e-03  8.120e-03]\n",
      " [-2.790e-03  1.480e-03]\n",
      " [-2.640e-03 -5.230e-03]\n",
      " [ 3.670e-03  4.190e-03]\n",
      " [ 9.330e-03  1.400e-03]\n",
      " [-1.300e-04 -8.090e-03]\n",
      " [ 7.000e-05  1.350e-03]\n",
      " [ 9.200e-04  4.500e-04]\n",
      " [ 4.550e-03  3.510e-03]\n",
      " [ 1.690e-03  4.990e-03]\n",
      " [-1.050e-03  3.800e-04]\n",
      " [-1.530e-03 -2.920e-03]\n",
      " [ 8.100e-03  1.269e-02]\n",
      " [ 2.080e-03  4.320e-03]\n",
      " [ 1.950e-03 -1.000e-05]\n",
      " [ 7.880e-03  3.330e-03]\n",
      " [-3.470e-03 -2.410e-03]\n",
      " [ 2.450e-03  7.300e-04]\n",
      " [ 1.560e-03  1.250e-03]\n",
      " [-4.200e-03 -7.620e-03]\n",
      " [ 1.149e-02  1.157e-02]\n",
      " [-1.283e-02 -1.155e-02]\n",
      " [-2.650e-03 -1.630e-03]\n",
      " [ 2.340e-03  1.120e-03]\n",
      " [-1.391e-02 -1.281e-02]\n",
      " [-6.900e-03 -1.212e-02]\n",
      " [ 6.070e-03  9.660e-03]\n",
      " [ 3.200e-04  2.800e-04]\n",
      " [ 1.073e-02  1.425e-02]\n",
      " [ 1.500e-04 -1.720e-03]\n",
      " [ 2.700e-03  1.880e-03]\n",
      " [-6.900e-04  4.150e-03]\n",
      " [-1.145e-02 -1.591e-02]\n",
      " [ 4.610e-03  2.720e-03]\n",
      " [ 1.314e-02  1.527e-02]\n",
      " [-5.390e-03 -1.296e-02]\n",
      " [ 1.344e-02  1.279e-02]\n",
      " [-3.890e-03 -6.170e-03]\n",
      " [ 6.470e-03  5.750e-03]\n",
      " [ 4.490e-03  3.310e-03]\n",
      " [ 6.670e-03  6.970e-03]\n",
      " [ 1.012e-02  7.760e-03]\n",
      " [ 1.520e-03  4.050e-03]\n",
      " [-3.650e-03 -5.340e-03]\n",
      " [ 1.300e-03 -1.760e-03]\n",
      " [ 1.770e-03  1.660e-03]\n",
      " [-5.540e-03 -2.630e-03]\n",
      " [-2.980e-03  2.410e-03]\n",
      " [ 6.510e-03  5.640e-03]\n",
      " [ 2.180e-03  1.700e-04]\n",
      " [-2.700e-04 -8.400e-04]\n",
      " [ 1.980e-03 -1.380e-03]\n",
      " [-6.340e-03 -6.490e-03]\n",
      " [ 7.120e-03  4.570e-03]\n",
      " [-2.200e-04  4.400e-03]\n",
      " [ 5.200e-04  3.790e-03]\n",
      " [ 8.300e-04  3.380e-03]\n",
      " [ 5.300e-04 -6.500e-04]\n",
      " [ 5.710e-03  4.050e-03]\n",
      " [ 1.900e-04 -9.600e-04]\n",
      " [-3.960e-03 -5.110e-03]\n",
      " [ 5.700e-03  4.180e-03]\n",
      " [ 1.090e-03  4.190e-03]\n",
      " [-3.360e-03 -7.000e-05]\n",
      " [-4.900e-03 -8.800e-04]\n",
      " [-4.290e-03 -5.210e-03]\n",
      " [ 8.290e-03  9.900e-03]\n",
      " [-2.400e-04 -9.800e-04]\n",
      " [ 1.710e-03  1.770e-03]\n",
      " [ 1.900e-03  5.960e-03]\n",
      " [-3.350e-03 -4.070e-03]\n",
      " [-6.800e-04 -4.300e-04]\n",
      " [ 1.180e-03  2.600e-04]\n",
      " [ 3.800e-03  6.500e-03]\n",
      " [-1.670e-03 -3.160e-03]\n",
      " [ 2.220e-03  3.780e-03]\n",
      " [-1.240e-03 -1.680e-03]\n",
      " [-1.240e-03  1.090e-03]\n",
      " [ 1.790e-03  5.720e-03]\n",
      " [-3.630e-03 -3.560e-03]\n",
      " [ 2.100e-04  2.050e-03]\n",
      " [-1.790e-03 -3.020e-03]\n",
      " [-7.900e-04 -5.050e-03]\n",
      " [ 8.700e-04  2.180e-03]\n",
      " [-3.620e-03 -5.960e-03]\n",
      " [-6.710e-03 -9.090e-03]\n",
      " [ 4.740e-03  5.170e-03]\n",
      " [ 1.230e-03  1.600e-04]\n",
      " [ 2.350e-03  6.000e-04]\n",
      " [ 9.000e-04 -3.110e-03]\n",
      " [ 3.610e-03  1.880e-03]\n",
      " [ 1.590e-03  6.670e-03]\n",
      " [-5.220e-03 -6.500e-03]\n",
      " [-7.220e-03 -1.183e-02]\n",
      " [-4.020e-03 -7.190e-03]\n",
      " [ 1.133e-02  1.124e-02]\n",
      " [ 2.850e-03 -2.990e-03]\n",
      " [-5.560e-03 -6.190e-03]\n",
      " [-3.900e-04 -2.400e-03]\n",
      " [-3.610e-03 -3.530e-03]\n",
      " [ 3.580e-03  9.730e-03]\n",
      " [ 6.730e-03  1.530e-03]\n",
      " [ 1.740e-03  6.200e-04]\n",
      " [-1.700e-04 -1.130e-03]\n",
      " [-5.370e-03 -7.120e-03]\n",
      " [ 3.880e-03  7.560e-03]\n",
      " [-1.980e-03 -3.810e-03]\n",
      " [-5.040e-03 -9.610e-03]\n",
      " [-2.430e-03 -1.600e-03]\n",
      " [-2.110e-03  2.670e-03]\n",
      " [-1.560e-03 -3.340e-03]\n",
      " [-5.550e-03 -5.700e-03]\n",
      " [-3.330e-03 -5.190e-03]\n",
      " [-3.490e-03 -1.440e-03]\n",
      " [ 7.770e-03  8.670e-03]\n",
      " [-2.100e-04  3.120e-03]\n",
      " [-6.910e-03 -8.100e-03]\n",
      " [ 1.100e-03  2.020e-03]\n",
      " [-4.200e-04 -3.200e-03]\n",
      " [ 3.180e-03  2.740e-03]\n",
      " [ 1.422e-02  1.728e-02]\n",
      " [ 5.900e-03  3.600e-03]\n",
      " [-3.780e-03 -1.800e-03]\n",
      " [ 7.400e-04  0.000e+00]\n",
      " [ 5.400e-04  1.260e-03]\n",
      " [-2.000e-05 -1.930e-03]\n",
      " [ 5.940e-03  6.840e-03]\n",
      " [-3.920e-03 -9.800e-04]\n",
      " [-6.250e-03 -3.650e-03]\n",
      " [ 4.030e-03  4.410e-03]\n",
      " [-4.530e-03 -8.310e-03]\n",
      " [-1.140e-02 -1.481e-02]\n",
      " [ 2.090e-03  3.940e-03]\n",
      " [-1.090e-03 -3.110e-03]\n",
      " [-7.100e-04  8.500e-04]\n",
      " [ 1.690e-03 -3.100e-04]\n",
      " [-7.790e-03 -8.220e-03]\n",
      " [-1.045e-02 -9.780e-03]\n",
      " [-2.658e-02 -2.390e-02]\n",
      " [ 2.014e-02  1.997e-02]]\n",
      "[-0.00325 -0.00562 -0.01723 -0.00118 -0.00183  0.00803  0.00791  0.00919\n",
      "  0.00487  0.00533  0.00362  0.00053  0.00418  0.00279  0.00755  0.00037\n",
      "  0.00111  0.00136 -0.00199  0.0046   0.00051 -0.00081  0.00141  0.00232\n",
      " -0.00261  0.00205 -0.0017  -0.00108  0.00343  0.00736  0.00352  0.0122\n",
      " -0.00536  0.0074   0.00028  0.00534  0.0071  -0.0149   0.00274  0.00204\n",
      " -0.00303 -0.0042  -0.00237  0.00497  0.0113   0.00128  0.00307  0.01174\n",
      "  0.00635 -0.004    0.01057 -0.00812 -0.00288 -0.00448  0.01542  0.0091\n",
      " -0.00258  0.00117 -0.00047 -0.01036 -0.00518 -0.00284 -0.00581 -0.00203\n",
      " -0.00035 -0.00011 -0.001   -0.00394 -0.00362  0.00462  0.00438  0.00613\n",
      "  0.01654 -0.00326  0.00311 -0.00289 -0.00656 -0.00036  0.00148 -0.00166\n",
      " -0.00012 -0.00477  0.00436  0.00532  0.00213  0.00704  0.00383  0.00472\n",
      "  0.00134  0.00512 -0.00176 -0.00053 -0.00778  0.00318  0.00578 -0.00405\n",
      " -0.00222  0.00401  0.00124  0.00453  0.00322 -0.00786  0.00209  0.00466\n",
      "  0.00316 -0.00128  0.00739 -0.0034  -0.00734 -0.01245 -0.00305  0.00633\n",
      "  0.00027 -0.0033   0.00069 -0.00122 -0.00281 -0.00402  0.00123  0.00286\n",
      " -0.00316  0.00201 -0.00559 -0.00359  0.0067   0.00124 -0.00175 -0.00527\n",
      "  0.001   -0.00523  0.00319 -0.00087 -0.00887 -0.00239  0.00094 -0.00299\n",
      "  0.00857  0.00308  0.00035 -0.0006  -0.00603 -0.00778  0.00415 -0.00311\n",
      " -0.00212  0.00658 -0.00319 -0.01225  0.00714  0.00035  0.00168 -0.00571\n",
      " -0.00642 -0.01    -0.04936  0.00416]\n"
     ]
    }
   ],
   "source": [
    "X = portfolio.loc[:,futures_names].values\n",
    "print(X)\n",
    "y = portfolio.values[:,-1]\n",
    "print(y)"
   ]
  },
  {
   "cell_type": "markdown",
   "metadata": {
    "id": "J0bBSVH7yp1X"
   },
   "source": [
    "\n",
    "# Train OLS Regression"
   ]
  },
  {
   "cell_type": "markdown",
   "metadata": {
    "id": "eDbuLz3byf9j"
   },
   "source": [
    "Set up the ordinary least squares regression (fit_intercept=False)"
   ]
  },
  {
   "cell_type": "code",
   "execution_count": 17,
   "metadata": {
    "colab": {
     "base_uri": "https://localhost:8080/"
    },
    "executionInfo": {
     "elapsed": 1448,
     "status": "ok",
     "timestamp": 1608830231921,
     "user": {
      "displayName": "Jan De Spiegeleer",
      "photoUrl": "https://lh3.googleusercontent.com/a-/AOh14Ggxxb9SxBqAv_r35BXg4rQuvrALa7N1_RqDSbwQUw=s64",
      "userId": "15176895267494237817"
     },
     "user_tz": -60
    },
    "id": "AC0r1cp_yf9w",
    "outputId": "e572f82e-e76e-4815-da30-c0c950d32b09"
   },
   "outputs": [
    {
     "name": "stdout",
     "output_type": "stream",
     "text": [
      "coefficients: [0.57780642 0.12185669]\n"
     ]
    }
   ],
   "source": [
    "ols_model = linear_model.LinearRegression(fit_intercept=False)\n",
    "ols_model.fit(X,y)\n",
    "coef = ols_model.coef_\n",
    "intercept = ols_model.intercept_\n",
    "print('coefficients:',coef)"
   ]
  },
  {
   "cell_type": "markdown",
   "metadata": {
    "id": "BQbE2rMRkH0w"
   },
   "source": [
    "# R Squared"
   ]
  },
  {
   "cell_type": "code",
   "execution_count": 18,
   "metadata": {},
   "outputs": [
    {
     "name": "stdout",
     "output_type": "stream",
     "text": [
      "R Squared: 0.3815169055258527\n"
     ]
    }
   ],
   "source": [
    "print('R Squared:',ols_model.score(X,y))\n",
    "Y = ols_model.predict(X)"
   ]
  },
  {
   "cell_type": "markdown",
   "metadata": {},
   "source": [
    "# Graphical Output"
   ]
  },
  {
   "cell_type": "code",
   "execution_count": 20,
   "metadata": {},
   "outputs": [
    {
     "data": {
      "image/png": "[encoded data removed]",
      "text/plain": [
       "<Figure size 720x432 with 2 Axes>"
      ]
     },
     "metadata": {},
     "output_type": "display_data"
    }
   ],
   "source": [
    "fig , ax = plt.subplots(1,2,figsize=(10,6))\n",
    "ax[0].scatter(100*Y,100*y)\n",
    "ax[0].set_xlabel('Predicted value $\\hat{Y}$ (%)')\n",
    "ax[0].set_ylabel('Observed value $y$ (%)')\n",
    "ax[0].set_title('OLS Regression (R_squared: {v:0.2f})'.format(v=ols_model.score(X,y)))\n",
    "\n",
    "ax[1].bar(np.arange(0,len(futures_names)),coef)\n",
    "ax[1].set_xticks(np.arange(0,len(futures_names)))\n",
    "ax[1].set_xticklabels(futures_names,rotation=90);\n",
    "ax[1].set_title('Optimal Hedge');"
   ]
  },
  {
   "cell_type": "code",
   "execution_count": 24,
   "metadata": {},
   "outputs": [
    {
     "data": {
      "text/plain": [
       "0.6996631090028864"
      ]
     },
     "execution_count": 24,
     "metadata": {},
     "output_type": "execute_result"
    }
   ],
   "source": [
    "np.sum(np.abs(ols_model.coef_))"
   ]
  },
  {
   "cell_type": "markdown",
   "metadata": {},
   "source": [
    "# Other values for Coeffients $\\beta$"
   ]
  },
  {
   "cell_type": "markdown",
   "metadata": {},
   "source": [
    "For different values of $\\beta_1$ and $\\beta_2$, we are going to evaluate the overall loss $L$. The loss function is defined as the total squared loss."
   ]
  },
  {
   "cell_type": "code",
   "execution_count": 12,
   "metadata": {},
   "outputs": [],
   "source": [
    "beta1,beta2 = np.meshgrid(np.arange(-0.6,0.6,0.01),np.arange(-.2,.2,0.01))\n",
    "L = np.zeros_like(beta1)"
   ]
  },
  {
   "cell_type": "code",
   "execution_count": 13,
   "metadata": {},
   "outputs": [],
   "source": [
    "def loss(b1,b2,y,X):\n",
    "    prediction = np.dot(X,np.array([b1 , b2]))\n",
    "    loss = y - prediction\n",
    "    mse = loss**2\n",
    "    return np.sum(mse)"
   ]
  },
  {
   "cell_type": "markdown",
   "metadata": {},
   "source": [
    "Calculate the loss for the every value in the meshgrid"
   ]
  },
  {
   "cell_type": "code",
   "execution_count": 14,
   "metadata": {},
   "outputs": [],
   "source": [
    "for i in np.arange(0,beta1.shape[0]):\n",
    "    for j in np.arange(0,beta1.shape[1]):\n",
    "        L[i,j] = loss(beta1[i,j],beta2[i,j],y,X)"
   ]
  },
  {
   "cell_type": "code",
   "execution_count": 15,
   "metadata": {},
   "outputs": [
    {
     "data": {
      "image/png": "[encoded data removed]",
      "text/plain": [
       "<Figure size 720x432 with 1 Axes>"
      ]
     },
     "metadata": {},
     "output_type": "display_data"
    }
   ],
   "source": [
    "fig,ax = plt.subplots(1,1,figsize=(10,6))\n",
    "contours= ax.contour(beta1, beta2, L, 20,cmap='coolwarm');\n",
    "ax.clabel(contours, inline=True, fontsize=8)\n",
    "ax.scatter(coef[0],coef[1],label='Optimal Solution')\n",
    "ax.set_xlabel(futures_names[0],fontsize=14)\n",
    "ax.set_ylabel(futures_names[1],fontsize=14)\n",
    "ax.legend(loc='best',frameon=True,fontsize=14);"
   ]
  },
  {
   "cell_type": "code",
   "execution_count": null,
   "metadata": {},
   "outputs": [],
   "source": []
  }
 ],
 "metadata": {
  "anaconda-cloud": {},
  "colab": {
   "collapsed_sections": [],
   "name": "LSExample-Ridge.ipynb",
   "provenance": []
  },
  "kernelspec": {
   "display_name": "Python 3 (ipykernel)",
   "language": "python",
   "name": "python3"
  },
  "language_info": {
   "codemirror_mode": {
    "name": "ipython",
    "version": 3
   },
   "file_extension": ".py",
   "mimetype": "text/x-python",
   "name": "python",
   "nbconvert_exporter": "python",
   "pygments_lexer": "ipython3",
   "version": "3.9.7"
  },
  "toc": {
   "base_numbering": 1,
   "nav_menu": {},
   "number_sections": true,
   "sideBar": true,
   "skip_h1_title": false,
   "title_cell": "Table of Contents",
   "title_sidebar": "Contents",
   "toc_cell": false,
   "toc_position": {},
   "toc_section_display": true,
   "toc_window_display": false
  },
  "varInspector": {
   "cols": {
    "lenName": 16,
    "lenType": 16,
    "lenVar": 40
   },
   "kernels_config": {
    "python": {
     "delete_cmd_postfix": "",
     "delete_cmd_prefix": "del ",
     "library": "var_list.py",
     "varRefreshCmd": "print(var_dic_list())"
    },
    "r": {
     "delete_cmd_postfix": ") ",
     "delete_cmd_prefix": "rm(",
     "library": "var_list.r",
     "varRefreshCmd": "cat(var_dic_list()) "
    }
   },
   "types_to_exclude": [
    "module",
    "function",
    "builtin_function_or_method",
    "instance",
    "_Feature"
   ],
   "window_display": false
  }
 },
 "nbformat": 4,
 "nbformat_minor": 1
}
