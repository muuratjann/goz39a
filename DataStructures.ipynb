{
  "nbformat": 4,
  "nbformat_minor": 0,
  "metadata": {
    "colab": {
      "name": "DataStructures.ipynb",
      "provenance": [],
      "collapsed_sections": [],
      "authorship_tag": "ABX9TyNMqQJ1S5Wnpn8X6aBiNbzO",
      "include_colab_link": true
    },
    "kernelspec": {
      "name": "python3",
      "display_name": "Python 3"
    }
  },
  "cells": [
    {
      "cell_type": "markdown",
      "metadata": {
        "id": "view-in-github",
        "colab_type": "text"
      },
      "source": [
        "<a href=\"https://colab.research.google.com/github/despiegj/goz39a/blob/main/DataStructures.ipynb\" target=\"_parent\"><img src=\"https://colab.research.google.com/assets/colab-badge.svg\" alt=\"Open In Colab\"/></a>"
      ]
    },
    {
      "cell_type": "markdown",
      "metadata": {
        "id": "N4UNUlq6D2c1"
      },
      "source": [
        "# DataStructures in Python\n",
        "The data structure is the basic structure on which the program is built. Each data structure provides a special way of organizing data, so it can be accessed efficiently according to your use case. Python comes with an extensive set of data structures in its standard library.\n",
        "\n",
        "This notebook gives a brief introduction of the available datastructures. An extensive \n",
        "\n",
        "Once has to make a distinctive between native data structures and data structures that are defined within packages ( `numpy`, `pandas`)"
      ]
    },
    {
      "cell_type": "markdown",
      "metadata": {
        "id": "XplrYsvfD7Cx"
      },
      "source": [
        "\n",
        "\n",
        "*   List\n",
        "*   Array\n",
        "*   Tuple\n",
        "*   Sets\n",
        "*   Dictionary\n",
        "*   Objects\n",
        "*   DataFrame\n",
        "\n",
        "Reference : https://realpython.com/\n",
        "\n"
      ]
    },
    {
      "cell_type": "markdown",
      "metadata": {
        "id": "uQqcHbkAS5iN"
      },
      "source": [
        "## Lists\n",
        "The list is part of the core Python language. Despite the name, Python lists are implemented as **dynamic arrays** in the background. This means that the list allows adding or deleting elements, and the list will automatically adjust the required storage for these elements by allocating or releasing memory. \n",
        "\n",
        "Python lists can contain any element. Remember: everything is an object in Python, including functions. Therefore, you can mix and match different kinds of data types and store them all in one list. \n",
        "\n",
        "This may be a powerful feature, but the disadvantage is that supporting multiple data types at the same time means that data packaging is usually not tight. As a result, the entire structure takes up more space"
      ]
    },
    {
      "cell_type": "code",
      "metadata": {
        "id": "qHkazhiGESQs",
        "colab": {
          "base_uri": "https://localhost:8080/"
        },
        "outputId": "aec2acba-6009-4d98-89b2-69553818ec5e"
      },
      "source": [
        "# setting up a list (combing different datatypes)\n",
        "arr = [\"one\", \"two\", True , 123.9]\n",
        "print(arr[0])\n",
        "\n",
        "# Lists are mutable:\n",
        "arr[1] = \"hello\"\n",
        "print(arr)\n",
        "\n",
        "# Elements can be removed\n",
        "del arr[1]\n",
        "print(arr)\n",
        "\n",
        "# Lists can hold arbitrary data types such as function\n",
        "def myfunc(x):\n",
        "  return x*2\n",
        "\n",
        "arr.append(myfunc)\n",
        "print(arr[-1](4))"
      ],
      "execution_count": 3,
      "outputs": [
        {
          "output_type": "stream",
          "text": [
            "one\n",
            "['one', 'hello', True, 123.9]\n",
            "['one', True, 123.9]\n",
            "8\n"
          ],
          "name": "stdout"
        }
      ]
    },
    {
      "cell_type": "markdown",
      "metadata": {
        "id": "P_Cdf_cSDWax"
      },
      "source": [
        "#### Slicing Lists\n",
        "Once you’ve defined a list, you can get any part of it as a new list. This is called slicing the list."
      ]
    },
    {
      "cell_type": "code",
      "metadata": {
        "colab": {
          "base_uri": "https://localhost:8080/"
        },
        "id": "CZg2QHEmDZy3",
        "outputId": "93e222d4-465c-489d-93e7-2f5d1b7af571"
      },
      "source": [
        "a_list= ['a', 'b', 'KUL', 'z', 'leuven']\n",
        "print(a_list[1:3])           \n",
        "print(a_list[1:-1])\n",
        "print(a_list[0:3])\n",
        "print(a_list[:3])\n",
        "print(a_list[3:])\n",
        "print(a_list[:])"
      ],
      "execution_count": 14,
      "outputs": [
        {
          "output_type": "stream",
          "text": [
            "['b', 'KUL']\n",
            "['b', 'KUL', 'z']\n",
            "['a', 'b', 'KUL']\n",
            "['a', 'b', 'KUL']\n",
            "['z', 'leuven']\n",
            "['a', 'b', 'KUL', 'z', 'leuven']\n"
          ],
          "name": "stdout"
        }
      ]
    },
    {
      "cell_type": "markdown",
      "metadata": {
        "id": "RAO4hMTDJj92"
      },
      "source": [
        "## Tuples\n",
        "Just like lists, tuples are part of the core Python language. However, unlike lists, Python's tuple objects are **immutable**. This means that elements cannot be added or removed dynamically-all elements in a tuple must be defined at creation time.\n",
        "\n",
        "Tuples are another data structure that can hold elements of any data type. Having this flexibility is powerful, but again, it also means that the data is not as compressed as in typed arrays"
      ]
    },
    {
      "cell_type": "code",
      "metadata": {
        "id": "d_Ce9jvOKigD"
      },
      "source": [
        "arr = (\"one\", \"two\", \"three\")\n",
        "print(arr[0])\n",
        "\n",
        "try:\n",
        "  arr[1] = \"hello\"\n",
        "except Exception as e:\n",
        "  print(e.__str__())\n",
        "\n"
      ],
      "execution_count": null,
      "outputs": []
    },
    {
      "cell_type": "markdown",
      "metadata": {
        "id": "cGlsWAKkU2KP"
      },
      "source": [
        "## Arrays\n",
        "Python's array module can save space to store basic C-style data types, such as bytes, 32-bit integers, floating point numbers, etc.\n",
        "\n",
        "Arrays created using the **array.array** class are mutable and, except for one important difference, behave like lists: they are typed arrays restricted to a **single data type**.\n",
        "\n",
        "Due to this constraint, array.array objects with many elements are more space efficient than lists and tuples. The elements stored in it are tightly packed, which is useful if you need to store many elements of the same type.\n",
        "\n",
        "In addition, arrays support many of the same methods as regular lists, and you can use them as direct replacements without other changes to the application code."
      ]
    },
    {
      "cell_type": "code",
      "metadata": {
        "id": "YDPgoCRYVSzU"
      },
      "source": [
        "#defining an array of type float \"f\"\n",
        "import array\n",
        "arr = array.array(\"f\", (1.0, 1.5, 2.0, 2.5))\n",
        "arr.append(139.0)\n",
        "print(arr)"
      ],
      "execution_count": null,
      "outputs": []
    },
    {
      "cell_type": "markdown",
      "metadata": {
        "id": "sQch02lKAtX8"
      },
      "source": [
        "## Sets\n",
        "A set is an unordered “bag” of unique values. A single set can contain values of any immutable datatype. Once you have two sets, you can do standard set operations like union, intersection, and set difference."
      ]
    },
    {
      "cell_type": "code",
      "metadata": {
        "colab": {
          "base_uri": "https://localhost:8080/"
        },
        "id": "pGU8NYaiAuUq",
        "outputId": "f53ea122-a48b-41de-a0aa-c747873fa29d"
      },
      "source": [
        "a_set = {1, 2}\n",
        "print(a_set)\n",
        "\n",
        "# Creating a set from a list\n",
        "a_list = ['a', 'b', 'Leuven', True, False, 55]\n",
        "a_set = set(a_list)\n",
        "print(a_set)"
      ],
      "execution_count": 8,
      "outputs": [
        {
          "output_type": "stream",
          "text": [
            "{1, 2}\n",
            "{False, 'Leuven', True, 'a', 'b', 55}\n"
          ],
          "name": "stdout"
        }
      ]
    },
    {
      "cell_type": "markdown",
      "metadata": {
        "id": "2wrsJU6oBq5i"
      },
      "source": [
        "There are two different ways to add values to an existing set: the `add()` method, and the `update()` method."
      ]
    },
    {
      "cell_type": "code",
      "metadata": {
        "colab": {
          "base_uri": "https://localhost:8080/"
        },
        "id": "0m0866H2BsKD",
        "outputId": "9da04c34-acfd-4d27-bb8c-72dc6301db9c"
      },
      "source": [
        "a_set = {1, 2}\n",
        "a_set.add(4)\n",
        "a_set.update([10, 20, 30])   \n",
        "print(a_set)"
      ],
      "execution_count": 9,
      "outputs": [
        {
          "output_type": "stream",
          "text": [
            "{1, 2, 4, 10, 20, 30}\n"
          ],
          "name": "stdout"
        }
      ]
    },
    {
      "cell_type": "markdown",
      "metadata": {
        "id": "vdnWlorDCGzE"
      },
      "source": [
        "There are three ways to remove individual values from a set. The first two, `discard()` and `remove()`, have one subtle difference.\n",
        "-   The discard() method takes a single value as an argument and removes that value from the set.\n",
        "-   If you call the discard() method with a value that doesn’t exist in the set, it does nothing. No error; it’s just a no-op.\n",
        "-   The remove() method also takes a single value as an argument, and it also removes that value from the set. Here’s the difference: if the value doesn’t exist in the set, the remove() method raises a KeyError exception."
      ]
    },
    {
      "cell_type": "code",
      "metadata": {
        "colab": {
          "base_uri": "https://localhost:8080/"
        },
        "id": "kFoDiWlWCcq5",
        "outputId": "b15d6ab6-0644-4309-bf0a-1f16e4362ac0"
      },
      "source": [
        "a_set = {1, 3, 6, 10, 15, 21, 28, 36, 45}\n",
        "a_set.discard(10)\n",
        "print(a_set)\n",
        "a_set.discard(10)                  \n",
        "print(a_set)\n",
        "a_set.remove(21)\n",
        "print(a_set)"
      ],
      "execution_count": 11,
      "outputs": [
        {
          "output_type": "stream",
          "text": [
            "{1, 3, 36, 6, 45, 15, 21, 28}\n",
            "{1, 3, 36, 6, 45, 15, 21, 28}\n",
            "{1, 3, 36, 6, 45, 15, 28}\n"
          ],
          "name": "stdout"
        }
      ]
    },
    {
      "cell_type": "markdown",
      "metadata": {
        "id": "cBTsRnGPC6Qv"
      },
      "source": [
        "Other operators to compare different sets:\n",
        "- The `union()` method returns a new set containing all the elements that are in either set.\n",
        "- The `intersection()` method returns a new set containing all the elements that are in both sets.\n",
        "- The `difference()` method returns a new set containing all the elements that are in a_set but not b_set.\n"
      ]
    },
    {
      "cell_type": "markdown",
      "metadata": {
        "id": "t5oXUKxlVbko"
      },
      "source": [
        "## Dictionary\n",
        "In Python, dictionaries are a central data structure. Dicts store an arbitrary number of objects, each identified by a unique dictionary key.\n",
        "\n",
        "Dictionaries are also often called maps, hashmaps, lookup tables, or associative arrays. They allow for the efficient lookup, insertion, and deletion of any object associated with a given key.\n",
        "\n",
        "Phone books make a decent real-world analog for dictionary objects. They allow you to quickly retrieve the information (phone number) associated with a given key (a person’s name). Instead of having to read a phone book front to back to find someone’s number, you can jump more or less directly to a name and look up the associated information."
      ]
    },
    {
      "cell_type": "code",
      "metadata": {
        "id": "G9NH79vjVkej"
      },
      "source": [
        "phonebook = {\n",
        "    \"bob\": 7387,\n",
        "    \"alice\": 3719,\n",
        "    \"jack\": 7052,\n",
        "}\n",
        "\n",
        "\n",
        "print(phonebook[\"alice\"])"
      ],
      "execution_count": null,
      "outputs": []
    },
    {
      "cell_type": "markdown",
      "metadata": {
        "id": "OVQWNiRKWl65"
      },
      "source": [
        "## Objects (Classes)\n",
        "Classes allow you to define reusable blueprints for data objects to ensure each object provides the same set of fields.\n",
        "\n",
        "Using regular Python classes as record data types is feasible, but it also takes manual work to get the convenience features of other implementations. For example, adding new fields to the `__init__`  constructor is verbose and takes time.\n",
        "\n",
        "Also, the default string representation for objects instantiated from custom classes isn’t very helpful. To fix that, you may have to add your own `__repr__` method, which again is usually quite verbose and must be updated each time you add a new field.\n",
        "\n",
        "Fields stored on classes are mutable, and new fields can be added freely, which you may or may not like. It’s possible to provide more access control and to create read-only fields using the @property decorator, but once again, this requires writing more glue code.\n",
        "\n",
        "Writing a custom class is a great option whenever you’d like to add business logic and behavior to your record objects using methods. However, this means that these objects are technically no longer plain data objects:"
      ]
    },
    {
      "cell_type": "code",
      "metadata": {
        "id": "LUzQngNiXrq8"
      },
      "source": [
        "class Car:\n",
        "    def __init__(self, color, mileage, automatic):\n",
        "        self.color = color\n",
        "        self.mileage = mileage\n",
        "        self.automatic = automatic\n",
        "\n",
        "car1 = Car(\"red\", 3812.4, True)\n",
        "car2 = Car(\"blue\", 40231.0, False)\n",
        "\n",
        "# Get the mileage:\n",
        "print(car2.mileage)\n",
        "\n",
        "\n",
        "# Classes are mutable:\n",
        "car2.mileage = 12\n",
        "car2.windshield = \"broken\"\n",
        "print(car2.windshield)\n",
        "# String representation is not very useful\n",
        "# (must add a manually written __repr__ method):\n",
        "car1\n"
      ],
      "execution_count": null,
      "outputs": []
    },
    {
      "cell_type": "markdown",
      "metadata": {
        "id": "_QHMrVBiXt4y"
      },
      "source": [
        "# Numpy Arrays\n",
        "The package [Numpy](https://numpy.org/)is the core library for scientific computing in Python. It provides a high-performance multidimensional array object, and tools for working with these arrays. A numpy array is a grid of values, **all of the same type**. This is a difference with the list.\n",
        "\n",
        "The number of dimensions is the rank of the array; the shape of an array is a tuple of integers giving the size of the array along each dimension.\n",
        "\n",
        "Compared to lists Numpy data structures perform better in:\n",
        "\n",
        "- Size - Numpy data structures take up less space\n",
        "- Performance - they have a need for speed and are faster than lists\n",
        "- Functionality - SciPy and NumPy have optimized functions such as linear algebra operations built in."
      ]
    },
    {
      "cell_type": "code",
      "metadata": {
        "colab": {
          "base_uri": "https://localhost:8080/"
        },
        "id": "SCxlOAIfZJtN",
        "outputId": "77d8875f-7a99-4340-ebec-4756d185ec8e"
      },
      "source": [
        "import numpy as np\n",
        "import time\n",
        "\n",
        "size_of_vec = 1000\n",
        "\n",
        "def pure_python_version():\n",
        "    t1 = time.time()\n",
        "    X = range(size_of_vec)\n",
        "    Y = range(size_of_vec)\n",
        "    Z = [X[i] + Y[i] for i in range(len(X)) ]\n",
        "    return time.time() - t1\n",
        "\n",
        "def numpy_version():\n",
        "    t1 = time.time()\n",
        "    X = np.arange(size_of_vec)\n",
        "    Y = np.arange(size_of_vec)\n",
        "    Z = X + Y\n",
        "    return time.time() - t1\n",
        "\n",
        "\n",
        "t1 = pure_python_version()\n",
        "t2 = numpy_version()\n",
        "print('Core Python:',t1,' Numpy:',t2)\n",
        "print(\"Numpy is in this example \" + str(t1/t2) + \" faster!\")"
      ],
      "execution_count": 25,
      "outputs": [
        {
          "output_type": "stream",
          "text": [
            "Core Python: 0.000385284423828125  Numpy: 4.100799560546875e-05\n",
            "Numpy is in this example 9.395348837209303 faster!\n"
          ],
          "name": "stdout"
        }
      ]
    },
    {
      "cell_type": "markdown",
      "metadata": {
        "id": "MdJus_t1_0yk"
      },
      "source": [
        "# Pandas "
      ]
    },
    {
      "cell_type": "markdown",
      "metadata": {
        "id": "fzvA9d6mHeTd"
      },
      "source": [
        "[Pandas](https://pandas.pydata.org/) is a Python library well suited for data manipulation and analysis. In particular, it offers data structures and operations for manipulating numerical tables and time series.\n",
        "\n",
        "The core datastructure in Pandas is the **DataFrame**. \n",
        "This DataFrame object is perfect for data manipulation. It has:\n",
        "- Tools for reading and writing data between in-memory data structures and different file formats.\n",
        "- Data alignment and integrated handling of missing data.\n",
        "- Reshaping and pivoting of data sets.\n",
        "- Label-based slicing, fancy indexing, and subsetting of large data sets.\n",
        "- Data structure column insertion and deletion.\n",
        "- Group by engine allowing split-apply-combine operations on data sets.\n",
        "- Data set merging and joining.\n",
        "- Hierarchical axis indexing to work with high-dimensional data in a lower-dimensional data structure.\n",
        "- Time series-functionality: Date range generation[6] and frequency conversion, moving window statistics, moving window linear regressions, date shifting and lagging.\n"
      ]
    },
    {
      "cell_type": "code",
      "metadata": {
        "id": "Ggg8I_y2IYG4"
      },
      "source": [
        ""
      ],
      "execution_count": null,
      "outputs": []
    }
  ]
}