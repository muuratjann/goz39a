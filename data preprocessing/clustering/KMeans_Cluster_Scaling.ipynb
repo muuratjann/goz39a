{
 "cells": [
  {
   "cell_type": "markdown",
   "metadata": {},
   "source": [
    "# Cluster Analysis: The need for rescaling data"
   ]
  },
  {
   "cell_type": "markdown",
   "metadata": {},
   "source": [
    "## Load Packages"
   ]
  },
  {
   "cell_type": "code",
   "execution_count": 1,
   "metadata": {},
   "outputs": [],
   "source": [
    "# Import the necesary libraries\n",
    "import pandas as pd\n",
    "import numpy as np\n",
    "from sklearn.cluster import KMeans\n",
    "import matplotlib.pyplot as plt\n",
    "%matplotlib inline\n",
    "import seaborn as sns\n",
    "sns.set()"
   ]
  },
  {
   "cell_type": "markdown",
   "metadata": {},
   "source": [
    "## Read Data and Cluster"
   ]
  },
  {
   "cell_type": "code",
   "execution_count": 2,
   "metadata": {},
   "outputs": [
    {
     "name": "stdout",
     "output_type": "stream",
     "text": [
      "[[ 9.81      0.270914]\n",
      " [ 9.49      0.290254]\n",
      " [ 9.74      0.250696]\n",
      " [ 9.49      0.269219]\n",
      " [ 9.59      0.253442]\n",
      " [ 9.88      0.257956]\n",
      " [10.1       0.227479]\n",
      " [10.12      0.223431]\n",
      " [10.17      0.20664 ]\n",
      " [ 9.87      0.188981]\n",
      " [ 9.91      0.182125]\n",
      " [ 9.97      0.164659]\n",
      " [10.03      0.22948 ]\n",
      " [ 9.94      0.191171]\n",
      " [ 9.81      0.212956]\n",
      " [ 9.79      0.237036]\n",
      " [ 9.87      0.218116]\n",
      " [ 9.84      0.183066]\n",
      " [ 9.61      0.269122]\n",
      " [ 9.31      0.268141]\n",
      " [ 9.13      0.28283 ]\n",
      " [ 9.12      0.213776]\n",
      " [ 9.11      0.193723]\n",
      " [ 9.        0.368987]\n",
      " [ 8.95      0.342377]\n",
      " [ 8.89      0.321387]\n",
      " [ 8.52      0.333687]\n",
      " [ 8.75      0.323082]\n",
      " [ 8.75      0.232045]\n",
      " [ 8.76      0.234119]\n",
      " [ 8.7       0.223063]\n",
      " [ 8.85      0.194403]\n",
      " [ 8.8       0.227714]\n",
      " [ 8.69      0.290543]\n",
      " [ 8.58      0.317853]\n",
      " [ 8.18      0.321071]\n",
      " [ 8.17      0.301077]\n",
      " [ 8.17      0.31615 ]\n",
      " [ 8.15      0.318038]\n",
      " [ 7.97      0.393649]\n",
      " [ 8.14      0.353984]\n",
      " [ 7.87      0.406462]\n",
      " [ 8.04      0.422931]\n",
      " [ 8.45      0.452762]\n",
      " [ 8.38      0.427634]\n",
      " [ 8.34      0.384369]\n",
      " [ 8.13      0.445454]\n",
      " [ 8.11      0.464969]\n",
      " [ 7.85      1.477446]\n",
      " [ 7.58      1.468914]\n",
      " [ 6.75      1.475278]\n",
      " [ 6.69      1.429212]\n",
      " [ 6.73      1.450147]\n",
      " [ 6.69      1.419209]\n",
      " [ 6.7       1.449208]\n",
      " [ 6.71      1.420207]\n",
      " [ 6.51      1.434814]\n",
      " [ 6.54      1.411747]\n",
      " [ 6.58      1.416873]\n",
      " [ 6.57      1.402805]\n",
      " [ 6.5       1.377672]\n",
      " [ 6.65      1.358001]\n",
      " [ 6.73      1.348734]\n",
      " [ 6.57      1.35733 ]\n",
      " [ 6.51      1.343827]\n",
      " [ 6.01      1.374202]\n",
      " [ 6.13      1.331457]\n",
      " [ 5.95      1.338245]\n",
      " [ 6.        1.338306]\n",
      " [ 6.1       1.291433]\n",
      " [ 5.93      1.303229]\n",
      " [ 6.14      1.310625]\n",
      " [ 6.21      1.331748]\n",
      " [ 5.91      1.347136]\n",
      " [ 5.88      1.363996]\n",
      " [ 6.06      1.291238]\n",
      " [ 5.9       1.311324]\n",
      " [ 6.02      1.265586]\n",
      " [ 6.01      1.308651]\n",
      " [ 6.09      1.288717]\n",
      " [ 5.95      1.278505]\n",
      " [ 6.01      1.247571]\n",
      " [ 5.86      1.28428 ]\n",
      " [ 5.79      1.284567]\n",
      " [ 5.8       1.322132]\n",
      " [ 6.12      1.309334]\n",
      " [ 6.07      1.268618]\n",
      " [ 6.12      1.196824]\n",
      " [ 6.09      1.208169]\n",
      " [ 6.17      1.176893]\n",
      " [ 6.2       1.2044  ]\n",
      " [ 6.03      1.193882]\n",
      " [ 6.05      1.213027]\n",
      " [ 6.02      1.200952]\n",
      " [ 6.16      1.22032 ]\n",
      " [ 6.46      1.184068]\n",
      " [ 6.62      1.189223]\n",
      " [ 6.63      1.188531]\n",
      " [ 6.66      1.176379]\n",
      " [ 6.76      1.18869 ]\n",
      " [ 6.86      1.192997]\n",
      " [ 6.79      1.208752]\n",
      " [ 6.76      1.194592]\n",
      " [ 6.69      1.19051 ]\n",
      " [ 6.87      1.18182 ]\n",
      " [ 6.92      1.179975]\n",
      " [ 6.88      1.155967]\n",
      " [ 6.87      1.188384]\n",
      " [ 6.97      1.144122]\n",
      " [ 6.82      1.160798]\n",
      " [ 6.85      1.148375]\n",
      " [ 6.85      1.120867]\n",
      " [ 6.6       1.153219]\n",
      " [ 6.81      1.13778 ]\n",
      " [ 6.69      1.157034]\n",
      " [ 6.85      1.140856]\n",
      " [ 6.96      1.140595]\n",
      " [ 6.82      1.150182]\n",
      " [ 6.72      1.147933]\n",
      " [ 6.86      1.113341]\n",
      " [ 6.73      1.102344]\n",
      " [ 6.61      1.130169]\n",
      " [ 6.8       1.092663]\n",
      " [ 7.02      0.994663]\n",
      " [ 6.84      0.979242]\n",
      " [ 7.07      0.91533 ]\n",
      " [ 7.1       0.999411]\n",
      " [ 7.1       0.993325]\n",
      " [ 6.95      1.029068]\n",
      " [ 6.82      1.00264 ]\n",
      " [ 6.76      1.03605 ]\n",
      " [ 6.84      0.948805]\n",
      " [ 6.53      0.945779]\n",
      " [ 6.34      0.921436]\n",
      " [ 6.5       0.896856]\n",
      " [ 6.45      0.83576 ]\n",
      " [ 6.56      0.845014]\n",
      " [ 6.35      0.941496]\n",
      " [ 6.48      0.961836]\n",
      " [ 6.34      0.961488]\n",
      " [ 6.35      1.062389]\n",
      " [ 5.99      1.151513]\n",
      " [ 5.96      1.194336]\n",
      " [ 5.82      1.208059]\n",
      " [ 5.98      1.170399]\n",
      " [ 5.8       1.19996 ]\n",
      " [ 5.93      1.145301]\n",
      " [ 6.        1.178469]\n",
      " [ 5.71      1.203667]\n",
      " [ 5.83      1.18501 ]\n",
      " [ 5.61      1.13005 ]\n",
      " [ 5.73      1.156728]\n",
      " [ 5.58      1.158284]\n",
      " [ 5.65      1.109438]\n",
      " [ 5.78      1.158785]\n",
      " [ 5.7       1.16969 ]\n",
      " [ 5.7       1.235506]\n",
      " [ 5.69      1.222481]\n",
      " [ 5.67      1.190385]\n",
      " [ 5.66      1.204558]\n",
      " [ 5.7       1.183732]\n",
      " [ 5.56      1.192186]\n",
      " [ 5.45      1.215985]\n",
      " [ 6.        1.255435]\n",
      " [ 6.        1.252431]\n",
      " [ 5.88      1.328151]\n",
      " [ 5.91      1.318962]\n",
      " [ 5.49      1.319938]\n",
      " [ 5.49      1.267022]\n",
      " [ 5.6       1.257291]\n",
      " [ 5.53      1.256534]\n",
      " [ 5.53      1.194101]\n",
      " [ 5.58      1.090268]\n",
      " [ 5.45      1.080984]\n",
      " [ 5.46      1.112885]\n",
      " [ 5.47      1.144879]\n",
      " [ 5.39      1.198687]\n",
      " [ 5.37      1.197667]\n",
      " [ 5.45      1.190848]\n",
      " [ 5.47      1.148029]\n",
      " [ 5.48      1.142024]\n",
      " [ 5.5       1.118001]\n",
      " [ 5.46      1.126806]\n",
      " [ 5.42      1.0948  ]\n",
      " [ 5.41      1.061699]\n",
      " [ 5.35      1.046598]\n",
      " [ 5.49      1.023963]]\n"
     ]
    }
   ],
   "source": [
    "# Read the data from the Cluster.csv file\n",
    "df = pd.read_csv('https://goz39a.s3.eu-central-1.amazonaws.com/Cluster.csv',index_col='T',parse_dates=True)\n",
    "# Convert the data into an array\n",
    "X = df.values\n",
    "print(X)"
   ]
  },
  {
   "cell_type": "code",
   "execution_count": 3,
   "metadata": {},
   "outputs": [
    {
     "data": {
      "text/plain": [
       "KMeans(n_clusters=2, random_state=0)"
      ]
     },
     "execution_count": 3,
     "metadata": {},
     "output_type": "execute_result"
    }
   ],
   "source": [
    "cluster = KMeans(n_clusters=2,n_init=10,random_state=0)\n",
    "cluster.fit(X)"
   ]
  },
  {
   "cell_type": "code",
   "execution_count": 4,
   "metadata": {},
   "outputs": [],
   "source": [
    "new_point = np.array([8.0,1.0]).reshape(1,-1)\n",
    "new_point_cluster = cluster.predict(new_point)"
   ]
  },
  {
   "cell_type": "code",
   "execution_count": 5,
   "metadata": {},
   "outputs": [
    {
     "data": {
      "image/png": "[encoded data removed]",
      "text/plain": [
       "<Figure size 576x576 with 1 Axes>"
      ]
     },
     "metadata": {},
     "output_type": "display_data"
    }
   ],
   "source": [
    "y=cluster.predict(X)\n",
    "fig,ax = plt.subplots(figsize=(8,8))\n",
    "idx_1 = y==1\n",
    "idx_0 = y==0\n",
    "color_1='blue'\n",
    "color_0 ='red'\n",
    "ax.scatter(X[idx_1,0],X[idx_1,1],s=40,color=color_1,label=None)\n",
    "ax.scatter(X[idx_0,0],X[idx_0,1],s=40,color=color_0,label=None)\n",
    "\n",
    "if new_point_cluster==1:\n",
    "    color_code = color_1\n",
    "else:\n",
    "    color_code = color_0\n",
    "    \n",
    "ax.scatter(new_point[0,0],new_point[0,1],s=120,\n",
    "           color=color_code,marker='*',\n",
    "           label='New Point (8,1)')\n",
    "ax.scatter(cluster.cluster_centers_[:,0],cluster.cluster_centers_[:,1],s=120,\n",
    "           color='k',marker='s',\n",
    "           label='Centroids of the Clusters')\n",
    "\n",
    "ax.set_xlabel('S')\n",
    "ax.set_ylabel('CS');\n",
    "ax.legend();"
   ]
  },
  {
   "cell_type": "markdown",
   "metadata": {},
   "source": [
    "## Re-weight Data"
   ]
  },
  {
   "cell_type": "code",
   "execution_count": 6,
   "metadata": {},
   "outputs": [
    {
     "name": "stdout",
     "output_type": "stream",
     "text": [
      "weight:[1.37131383 0.41653942]\n"
     ]
    }
   ],
   "source": [
    "# Scale data with 1/ std x sqrt(2)\n",
    "weight = np.std(X,axis=0)\n",
    "print(f'weight:{weight}')\n",
    "X_scaled = X/weight"
   ]
  },
  {
   "cell_type": "code",
   "execution_count": 11,
   "metadata": {},
   "outputs": [],
   "source": [
    "# Initialize Kmeans for 2 clusters and fit it to the data\n",
    "cluster_with_scaling = KMeans(n_clusters=2, n_init=10,init='random',random_state=0)\n",
    "cluster_with_scaling.fit(X_scaled)\n",
    "new_point = np.array([8.0,1.0]).reshape(1,-1)\n",
    "new_point_scaled = new_point / weight \n",
    "new_point_cluster_scaling = cluster_with_scaling.predict(new_point_scaled)"
   ]
  },
  {
   "cell_type": "code",
   "execution_count": 12,
   "metadata": {},
   "outputs": [
    {
     "data": {
      "image/png": "[encoded data removed]",
      "text/plain": [
       "<Figure size 576x576 with 1 Axes>"
      ]
     },
     "metadata": {},
     "output_type": "display_data"
    }
   ],
   "source": [
    "y=cluster_with_scaling.predict(X_scaled)\n",
    "fig,ax = plt.subplots(figsize=(8,8))\n",
    "idx_1 = y==1\n",
    "idx_0 = y==0\n",
    "color_1='blue'\n",
    "color_0 ='red'\n",
    "ax.scatter(X[idx_1,0],X[idx_1,1],s=40,color=color_1,label=None)\n",
    "ax.scatter(X[idx_0,0],X[idx_0,1],s=40,color=color_0,label=None)\n",
    "\n",
    "if new_point_cluster_scaling==1:\n",
    "    color_code = color_1\n",
    "else:\n",
    "    color_code = color_0\n",
    "    \n",
    "ax.scatter(new_point[0,0],new_point[0,1],s=120,\n",
    "           color=color_code,marker='*',\n",
    "           label='New Point (8,1)')\n",
    "ax.scatter(weight[0]*cluster_with_scaling.cluster_centers_[:,0],weight[1]*cluster_with_scaling.cluster_centers_[:,1],s=120,\n",
    "           color='k',marker='s',\n",
    "           label='Centroids of the Clusters')\n",
    "\n",
    "ax.set_xlabel('S')\n",
    "ax.set_ylabel('CS');\n",
    "ax.legend();"
   ]
  },
  {
   "cell_type": "code",
   "execution_count": null,
   "metadata": {},
   "outputs": [],
   "source": []
  }
 ],
 "metadata": {
  "anaconda-cloud": {},
  "kernelspec": {
   "display_name": "Python 3 (ipykernel)",
   "language": "python",
   "name": "python3"
  },
  "language_info": {
   "codemirror_mode": {
    "name": "ipython",
    "version": 3
   },
   "file_extension": ".py",
   "mimetype": "text/x-python",
   "name": "python",
   "nbconvert_exporter": "python",
   "pygments_lexer": "ipython3",
   "version": "3.9.7"
  },
  "toc": {
   "base_numbering": 1,
   "nav_menu": {},
   "number_sections": true,
   "sideBar": true,
   "skip_h1_title": false,
   "title_cell": "Table of Contents",
   "title_sidebar": "Contents",
   "toc_cell": false,
   "toc_position": {},
   "toc_section_display": true,
   "toc_window_display": false
  },
  "varInspector": {
   "cols": {
    "lenName": 16,
    "lenType": 16,
    "lenVar": 40
   },
   "kernels_config": {
    "python": {
     "delete_cmd_postfix": "",
     "delete_cmd_prefix": "del ",
     "library": "var_list.py",
     "varRefreshCmd": "print(var_dic_list())"
    },
    "r": {
     "delete_cmd_postfix": ") ",
     "delete_cmd_prefix": "rm(",
     "library": "var_list.r",
     "varRefreshCmd": "cat(var_dic_list()) "
    }
   },
   "types_to_exclude": [
    "module",
    "function",
    "builtin_function_or_method",
    "instance",
    "_Feature"
   ],
   "window_display": false
  }
 },
 "nbformat": 4,
 "nbformat_minor": 1
}
