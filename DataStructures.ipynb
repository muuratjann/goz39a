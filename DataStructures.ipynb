{
  "nbformat": 4,
  "nbformat_minor": 0,
  "metadata": {
    "colab": {
      "name": "DataStructures.ipynb",
      "provenance": [],
      "collapsed_sections": [],
      "authorship_tag": "ABX9TyMRmeAxbWoP89p/lhTjx0A8",
      "include_colab_link": true
    },
    "kernelspec": {
      "name": "python3",
      "display_name": "Python 3"
    }
  },
  "cells": [
    {
      "cell_type": "markdown",
      "metadata": {
        "id": "view-in-github",
        "colab_type": "text"
      },
      "source": [
        "<a href=\"https://colab.research.google.com/github/despiegj/goz39a/blob/main/DataStructures.ipynb\" target=\"_parent\"><img src=\"https://colab.research.google.com/assets/colab-badge.svg\" alt=\"Open In Colab\"/></a>"
      ]
    },
    {
      "cell_type": "markdown",
      "metadata": {
        "id": "N4UNUlq6D2c1"
      },
      "source": [
        "# DataStructures in Python\n",
        "The data structure is the basic structure on which the program is built. Each data structure provides a special way of organizing data, so it can be accessed efficiently according to your use case. Python comes with an extensive set of data structures in its standard library.\n",
        "\n",
        "This notebook gives a brief introduction of the available datastructures. An extensive "
      ]
    },
    {
      "cell_type": "markdown",
      "metadata": {
        "id": "XplrYsvfD7Cx"
      },
      "source": [
        "\n",
        "\n",
        "*   List\n",
        "*   Array\n",
        "*   Tuple\n",
        "*   Dictionary\n",
        "*   DataFrame\n",
        "*   Objects\n",
        "\n",
        "Reference : https://realpython.com/\n",
        "\n"
      ]
    },
    {
      "cell_type": "markdown",
      "metadata": {
        "id": "uQqcHbkAS5iN"
      },
      "source": [
        "#Lists\n",
        "The list is part of the core Python language. Despite the name, Python lists are implemented as **dynamic arrays** in the background. This means that the list allows adding or deleting elements, and the list will automatically adjust the required storage for these elements by allocating or releasing memory. \n",
        "\n",
        "Python lists can contain any element. Remember: everything is an object in Python, including functions. Therefore, you can mix and match different kinds of data types and store them all in one list. \n",
        "\n",
        "This may be a powerful feature, but the disadvantage is that supporting multiple data types at the same time means that data packaging is usually not tight. As a result, the entire structure takes up more space"
      ]
    },
    {
      "cell_type": "code",
      "metadata": {
        "id": "qHkazhiGESQs",
        "colab": {
          "base_uri": "https://localhost:8080/"
        },
        "outputId": "a95d4db3-c9d5-44d9-f9fe-8cde640e069b"
      },
      "source": [
        "# setting up a list (combing different datatypes)\n",
        "arr = [\"one\", \"two\", True , 123.9]\n",
        "print(arr[0])\n",
        "\n",
        "# Lists are mutable:\n",
        "arr[1] = \"hello\"\n",
        "print(arr)\n",
        "\n",
        "# Elements can be removed\n",
        "del arr[1]\n",
        "print(arr)\n",
        "\n",
        "# Lists can hold arbitrary data types such as function\n",
        "def myfunc(x):\n",
        "  return x*2\n",
        "\n",
        "arr.append(myfunc)\n",
        "print(arr[-1](4))"
      ],
      "execution_count": 7,
      "outputs": [
        {
          "output_type": "stream",
          "text": [
            "one\n",
            "['one', 'hello', True, 123.9]\n",
            "['one', True, 123.9]\n",
            "8\n"
          ],
          "name": "stdout"
        }
      ]
    },
    {
      "cell_type": "markdown",
      "metadata": {
        "id": "RAO4hMTDJj92"
      },
      "source": [
        "# Tuples\n",
        "Just like lists, tuples are part of the core Python language. However, unlike lists, Python's tuple objects are **immutable**. This means that elements cannot be added or removed dynamically-all elements in a tuple must be defined at creation time.\n",
        "\n",
        "Tuples are another data structure that can hold elements of any data type. Having this flexibility is powerful, but again, it also means that the data is not as compressed as in typed arrays"
      ]
    },
    {
      "cell_type": "code",
      "metadata": {
        "id": "d_Ce9jvOKigD",
        "colab": {
          "base_uri": "https://localhost:8080/"
        },
        "outputId": "b5285929-bc4c-4d29-9862-773975c45037"
      },
      "source": [
        "arr = (\"one\", \"two\", \"three\")\n",
        "print(arr[0])\n",
        "\n",
        "try:\n",
        "  arr[1] = \"hello\"\n",
        "except Exception as e:\n",
        "  print(e.__str__())\n",
        "\n"
      ],
      "execution_count": 8,
      "outputs": [
        {
          "output_type": "stream",
          "text": [
            "one\n",
            "'tuple' object does not support item assignment\n"
          ],
          "name": "stdout"
        }
      ]
    },
    {
      "cell_type": "markdown",
      "metadata": {
        "id": "cGlsWAKkU2KP"
      },
      "source": [
        "# Arrays\n",
        "Python's array module can save space to store basic C-style data types, such as bytes, 32-bit integers, floating point numbers, etc.\n",
        "\n",
        "Arrays created using the **array.array** class are mutable and, except for one important difference, behave like lists: they are typed arrays restricted to a **single data type**.\n",
        "\n",
        "Due to this constraint, array.array objects with many elements are more space efficient than lists and tuples. The elements stored in it are tightly packed, which is useful if you need to store many elements of the same type.\n",
        "\n",
        "In addition, arrays support many of the same methods as regular lists, and you can use them as direct replacements without other changes to the application code."
      ]
    },
    {
      "cell_type": "code",
      "metadata": {
        "colab": {
          "base_uri": "https://localhost:8080/"
        },
        "id": "YDPgoCRYVSzU",
        "outputId": "edfb5829-b8e2-43e8-d174-714c1a6c5b03"
      },
      "source": [
        "#defining an array of type float \"f\"\n",
        "import array\n",
        "arr = array.array(\"f\", (1.0, 1.5, 2.0, 2.5))\n",
        "arr.append(139.0)\n",
        "print(arr)"
      ],
      "execution_count": 15,
      "outputs": [
        {
          "output_type": "stream",
          "text": [
            "array('f', [1.0, 1.5, 2.0, 2.5, 139.0])\n"
          ],
          "name": "stdout"
        }
      ]
    },
    {
      "cell_type": "markdown",
      "metadata": {
        "id": "t5oXUKxlVbko"
      },
      "source": [
        "# Dictionary\n",
        "In Python, dictionaries are a central data structure. Dicts store an arbitrary number of objects, each identified by a unique dictionary key.\n",
        "\n",
        "Dictionaries are also often called maps, hashmaps, lookup tables, or associative arrays. They allow for the efficient lookup, insertion, and deletion of any object associated with a given key.\n",
        "\n",
        "Phone books make a decent real-world analog for dictionary objects. They allow you to quickly retrieve the information (phone number) associated with a given key (a person’s name). Instead of having to read a phone book front to back to find someone’s number, you can jump more or less directly to a name and look up the associated information."
      ]
    },
    {
      "cell_type": "code",
      "metadata": {
        "colab": {
          "base_uri": "https://localhost:8080/"
        },
        "id": "G9NH79vjVkej",
        "outputId": "8186b29b-e4ff-43d4-9b3d-331d784a78c5"
      },
      "source": [
        "phonebook = {\n",
        "    \"bob\": 7387,\n",
        "    \"alice\": 3719,\n",
        "    \"jack\": 7052,\n",
        "}\n",
        "\n",
        "\n",
        "print(phonebook[\"alice\"])"
      ],
      "execution_count": 17,
      "outputs": [
        {
          "output_type": "stream",
          "text": [
            "3719\n"
          ],
          "name": "stdout"
        }
      ]
    },
    {
      "cell_type": "code",
      "metadata": {
        "id": "OVQWNiRKWl65"
      },
      "source": [
        ""
      ],
      "execution_count": null,
      "outputs": []
    }
  ]
}