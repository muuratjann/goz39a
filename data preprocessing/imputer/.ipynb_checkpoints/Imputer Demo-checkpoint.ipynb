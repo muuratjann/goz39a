{
 "cells": [
  {
   "cell_type": "code",
   "execution_count": 147,
   "id": "73244686",
   "metadata": {},
   "outputs": [],
   "source": [
    "import numpy as np\n",
    "import pandas as pd"
   ]
  },
  {
   "cell_type": "code",
   "execution_count": 148,
   "id": "5fe89e1a",
   "metadata": {},
   "outputs": [
    {
     "data": {
      "text/html": [
       "<div>\n",
       "<style scoped>\n",
       "    .dataframe tbody tr th:only-of-type {\n",
       "        vertical-align: middle;\n",
       "    }\n",
       "\n",
       "    .dataframe tbody tr th {\n",
       "        vertical-align: top;\n",
       "    }\n",
       "\n",
       "    .dataframe thead th {\n",
       "        text-align: right;\n",
       "    }\n",
       "</style>\n",
       "<table border=\"1\" class=\"dataframe\">\n",
       "  <thead>\n",
       "    <tr style=\"text-align: right;\">\n",
       "      <th></th>\n",
       "      <th>A</th>\n",
       "      <th>B</th>\n",
       "      <th>C</th>\n",
       "      <th>D</th>\n",
       "    </tr>\n",
       "  </thead>\n",
       "  <tbody>\n",
       "    <tr>\n",
       "      <th>0</th>\n",
       "      <td>1</td>\n",
       "      <td>2.0</td>\n",
       "      <td>3.0</td>\n",
       "      <td>'Good'</td>\n",
       "    </tr>\n",
       "    <tr>\n",
       "      <th>1</th>\n",
       "      <td>4</td>\n",
       "      <td>NaN</td>\n",
       "      <td>6.0</td>\n",
       "      <td>'Good'</td>\n",
       "    </tr>\n",
       "    <tr>\n",
       "      <th>2</th>\n",
       "      <td>7</td>\n",
       "      <td>NaN</td>\n",
       "      <td>9.0</td>\n",
       "      <td>'Excellent'</td>\n",
       "    </tr>\n",
       "    <tr>\n",
       "      <th>3</th>\n",
       "      <td>10</td>\n",
       "      <td>11.0</td>\n",
       "      <td>12.0</td>\n",
       "      <td>NaN</td>\n",
       "    </tr>\n",
       "    <tr>\n",
       "      <th>4</th>\n",
       "      <td>13</td>\n",
       "      <td>14.0</td>\n",
       "      <td>15.0</td>\n",
       "      <td>'Excellent'</td>\n",
       "    </tr>\n",
       "    <tr>\n",
       "      <th>5</th>\n",
       "      <td>16</td>\n",
       "      <td>17.0</td>\n",
       "      <td>NaN</td>\n",
       "      <td>'Fair'</td>\n",
       "    </tr>\n",
       "    <tr>\n",
       "      <th>6</th>\n",
       "      <td>19</td>\n",
       "      <td>12.0</td>\n",
       "      <td>12.0</td>\n",
       "      <td>'Excellent'</td>\n",
       "    </tr>\n",
       "    <tr>\n",
       "      <th>7</th>\n",
       "      <td>20</td>\n",
       "      <td>11.0</td>\n",
       "      <td>23.0</td>\n",
       "      <td>'Fair'</td>\n",
       "    </tr>\n",
       "  </tbody>\n",
       "</table>\n",
       "</div>"
      ],
      "text/plain": [
       "    A     B     C            D\n",
       "0   1   2.0   3.0       'Good'\n",
       "1   4   NaN   6.0       'Good'\n",
       "2   7   NaN   9.0  'Excellent'\n",
       "3  10  11.0  12.0          NaN\n",
       "4  13  14.0  15.0  'Excellent'\n",
       "5  16  17.0   NaN       'Fair'\n",
       "6  19  12.0  12.0  'Excellent'\n",
       "7  20  11.0  23.0       'Fair'"
      ]
     },
     "execution_count": 148,
     "metadata": {},
     "output_type": "execute_result"
    }
   ],
   "source": [
    "df = pd.read_csv('mydata.csv')\n",
    "df"
   ]
  },
  {
   "cell_type": "markdown",
   "id": "8daad76c",
   "metadata": {},
   "source": [
    "There are a lot of missing values in this file. We already covered many possibilities. One of them is do replace a column by the mean value:"
   ]
  },
  {
   "cell_type": "code",
   "execution_count": 149,
   "id": "ed3a9417",
   "metadata": {},
   "outputs": [],
   "source": [
    "df['B']=df['B'].fillna(value=df['B'].mean())\n",
    "df['C']=df['C'].fillna(value=df['C'].mean())"
   ]
  },
  {
   "cell_type": "markdown",
   "id": "6c8d8893",
   "metadata": {},
   "source": [
    "A different approach is required for column D where you want to use the most frequent value"
   ]
  },
  {
   "cell_type": "code",
   "execution_count": 150,
   "id": "1273089c",
   "metadata": {},
   "outputs": [],
   "source": [
    "df['D']=df['D'].fillna(value=df['D'].value_counts().index[0])"
   ]
  },
  {
   "cell_type": "code",
   "execution_count": 151,
   "id": "998c5ab7",
   "metadata": {},
   "outputs": [
    {
     "data": {
      "text/html": [
       "<div>\n",
       "<style scoped>\n",
       "    .dataframe tbody tr th:only-of-type {\n",
       "        vertical-align: middle;\n",
       "    }\n",
       "\n",
       "    .dataframe tbody tr th {\n",
       "        vertical-align: top;\n",
       "    }\n",
       "\n",
       "    .dataframe thead th {\n",
       "        text-align: right;\n",
       "    }\n",
       "</style>\n",
       "<table border=\"1\" class=\"dataframe\">\n",
       "  <thead>\n",
       "    <tr style=\"text-align: right;\">\n",
       "      <th></th>\n",
       "      <th>A</th>\n",
       "      <th>B</th>\n",
       "      <th>C</th>\n",
       "      <th>D</th>\n",
       "    </tr>\n",
       "  </thead>\n",
       "  <tbody>\n",
       "    <tr>\n",
       "      <th>0</th>\n",
       "      <td>1</td>\n",
       "      <td>2.000000</td>\n",
       "      <td>3.000000</td>\n",
       "      <td>'Good'</td>\n",
       "    </tr>\n",
       "    <tr>\n",
       "      <th>1</th>\n",
       "      <td>4</td>\n",
       "      <td>11.166667</td>\n",
       "      <td>6.000000</td>\n",
       "      <td>'Good'</td>\n",
       "    </tr>\n",
       "    <tr>\n",
       "      <th>2</th>\n",
       "      <td>7</td>\n",
       "      <td>11.166667</td>\n",
       "      <td>9.000000</td>\n",
       "      <td>'Excellent'</td>\n",
       "    </tr>\n",
       "    <tr>\n",
       "      <th>3</th>\n",
       "      <td>10</td>\n",
       "      <td>11.000000</td>\n",
       "      <td>12.000000</td>\n",
       "      <td>'Excellent'</td>\n",
       "    </tr>\n",
       "    <tr>\n",
       "      <th>4</th>\n",
       "      <td>13</td>\n",
       "      <td>14.000000</td>\n",
       "      <td>15.000000</td>\n",
       "      <td>'Excellent'</td>\n",
       "    </tr>\n",
       "    <tr>\n",
       "      <th>5</th>\n",
       "      <td>16</td>\n",
       "      <td>17.000000</td>\n",
       "      <td>11.428571</td>\n",
       "      <td>'Fair'</td>\n",
       "    </tr>\n",
       "    <tr>\n",
       "      <th>6</th>\n",
       "      <td>19</td>\n",
       "      <td>12.000000</td>\n",
       "      <td>12.000000</td>\n",
       "      <td>'Excellent'</td>\n",
       "    </tr>\n",
       "    <tr>\n",
       "      <th>7</th>\n",
       "      <td>20</td>\n",
       "      <td>11.000000</td>\n",
       "      <td>23.000000</td>\n",
       "      <td>'Fair'</td>\n",
       "    </tr>\n",
       "  </tbody>\n",
       "</table>\n",
       "</div>"
      ],
      "text/plain": [
       "    A          B          C            D\n",
       "0   1   2.000000   3.000000       'Good'\n",
       "1   4  11.166667   6.000000       'Good'\n",
       "2   7  11.166667   9.000000  'Excellent'\n",
       "3  10  11.000000  12.000000  'Excellent'\n",
       "4  13  14.000000  15.000000  'Excellent'\n",
       "5  16  17.000000  11.428571       'Fair'\n",
       "6  19  12.000000  12.000000  'Excellent'\n",
       "7  20  11.000000  23.000000       'Fair'"
      ]
     },
     "execution_count": 151,
     "metadata": {},
     "output_type": "execute_result"
    }
   ],
   "source": [
    "df"
   ]
  },
  {
   "cell_type": "markdown",
   "id": "364fec9c",
   "metadata": {},
   "source": [
    "Of course do you want to do this all the time ?"
   ]
  },
  {
   "cell_type": "markdown",
   "id": "dc281a35",
   "metadata": {},
   "source": [
    "You first initialize an instance of the SimpleImputer class by indicating the strategy (mean) as well as specifying the missing values that you want to locate (np.nan):"
   ]
  },
  {
   "cell_type": "code",
   "execution_count": 152,
   "id": "7340bb3c",
   "metadata": {},
   "outputs": [],
   "source": [
    "from sklearn.impute import SimpleImputer"
   ]
  },
  {
   "cell_type": "code",
   "execution_count": 153,
   "id": "1faa9323",
   "metadata": {},
   "outputs": [],
   "source": [
    "df = pd.read_csv('mydata.csv')\n",
    "imputer = SimpleImputer(strategy='mean', missing_values=np.nan)"
   ]
  },
  {
   "cell_type": "markdown",
   "id": "4d1b6fe7",
   "metadata": {},
   "source": [
    "Once the instance is created, you use the `fit()` function to fit the imputer on the column(s) that you want to work on:"
   ]
  },
  {
   "cell_type": "code",
   "execution_count": 154,
   "id": "bf6c724f",
   "metadata": {},
   "outputs": [],
   "source": [
    "imputer = imputer.fit(df[['B','C']])"
   ]
  },
  {
   "cell_type": "markdown",
   "id": "5948ec8b",
   "metadata": {},
   "source": [
    "You can now use the `transform()` function to fill the missing values based on the strategy you specified in the initializer of the SimpleImputer class:"
   ]
  },
  {
   "cell_type": "code",
   "execution_count": 155,
   "id": "0308d5fa",
   "metadata": {},
   "outputs": [],
   "source": [
    "df[['B','C']] = imputer.transform(df[['B','C']])"
   ]
  },
  {
   "cell_type": "code",
   "execution_count": 156,
   "id": "df9351c0",
   "metadata": {},
   "outputs": [
    {
     "data": {
      "text/html": [
       "<div>\n",
       "<style scoped>\n",
       "    .dataframe tbody tr th:only-of-type {\n",
       "        vertical-align: middle;\n",
       "    }\n",
       "\n",
       "    .dataframe tbody tr th {\n",
       "        vertical-align: top;\n",
       "    }\n",
       "\n",
       "    .dataframe thead th {\n",
       "        text-align: right;\n",
       "    }\n",
       "</style>\n",
       "<table border=\"1\" class=\"dataframe\">\n",
       "  <thead>\n",
       "    <tr style=\"text-align: right;\">\n",
       "      <th></th>\n",
       "      <th>A</th>\n",
       "      <th>B</th>\n",
       "      <th>C</th>\n",
       "      <th>D</th>\n",
       "    </tr>\n",
       "  </thead>\n",
       "  <tbody>\n",
       "    <tr>\n",
       "      <th>0</th>\n",
       "      <td>1</td>\n",
       "      <td>2.000000</td>\n",
       "      <td>3.000000</td>\n",
       "      <td>'Good'</td>\n",
       "    </tr>\n",
       "    <tr>\n",
       "      <th>1</th>\n",
       "      <td>4</td>\n",
       "      <td>11.166667</td>\n",
       "      <td>6.000000</td>\n",
       "      <td>'Good'</td>\n",
       "    </tr>\n",
       "    <tr>\n",
       "      <th>2</th>\n",
       "      <td>7</td>\n",
       "      <td>11.166667</td>\n",
       "      <td>9.000000</td>\n",
       "      <td>'Excellent'</td>\n",
       "    </tr>\n",
       "    <tr>\n",
       "      <th>3</th>\n",
       "      <td>10</td>\n",
       "      <td>11.000000</td>\n",
       "      <td>12.000000</td>\n",
       "      <td>NaN</td>\n",
       "    </tr>\n",
       "    <tr>\n",
       "      <th>4</th>\n",
       "      <td>13</td>\n",
       "      <td>14.000000</td>\n",
       "      <td>15.000000</td>\n",
       "      <td>'Excellent'</td>\n",
       "    </tr>\n",
       "    <tr>\n",
       "      <th>5</th>\n",
       "      <td>16</td>\n",
       "      <td>17.000000</td>\n",
       "      <td>11.428571</td>\n",
       "      <td>'Fair'</td>\n",
       "    </tr>\n",
       "    <tr>\n",
       "      <th>6</th>\n",
       "      <td>19</td>\n",
       "      <td>12.000000</td>\n",
       "      <td>12.000000</td>\n",
       "      <td>'Excellent'</td>\n",
       "    </tr>\n",
       "    <tr>\n",
       "      <th>7</th>\n",
       "      <td>20</td>\n",
       "      <td>11.000000</td>\n",
       "      <td>23.000000</td>\n",
       "      <td>'Fair'</td>\n",
       "    </tr>\n",
       "  </tbody>\n",
       "</table>\n",
       "</div>"
      ],
      "text/plain": [
       "    A          B          C            D\n",
       "0   1   2.000000   3.000000       'Good'\n",
       "1   4  11.166667   6.000000       'Good'\n",
       "2   7  11.166667   9.000000  'Excellent'\n",
       "3  10  11.000000  12.000000          NaN\n",
       "4  13  14.000000  15.000000  'Excellent'\n",
       "5  16  17.000000  11.428571       'Fair'\n",
       "6  19  12.000000  12.000000  'Excellent'\n",
       "7  20  11.000000  23.000000       'Fair'"
      ]
     },
     "execution_count": 156,
     "metadata": {},
     "output_type": "execute_result"
    }
   ],
   "source": [
    "df"
   ]
  },
  {
   "cell_type": "markdown",
   "id": "b7cfc586",
   "metadata": {},
   "source": [
    "Now doing column D:"
   ]
  },
  {
   "cell_type": "code",
   "execution_count": 157,
   "id": "3ecd0f50",
   "metadata": {},
   "outputs": [],
   "source": [
    "imputer = SimpleImputer(strategy='most_frequent', \n",
    "                        missing_values=np.nan)\n",
    "imputer = imputer.fit(df[['D']])\n",
    "df[['D']] = imputer.transform(df[['D']])"
   ]
  },
  {
   "cell_type": "code",
   "execution_count": 158,
   "id": "826b7559",
   "metadata": {},
   "outputs": [
    {
     "data": {
      "text/html": [
       "<div>\n",
       "<style scoped>\n",
       "    .dataframe tbody tr th:only-of-type {\n",
       "        vertical-align: middle;\n",
       "    }\n",
       "\n",
       "    .dataframe tbody tr th {\n",
       "        vertical-align: top;\n",
       "    }\n",
       "\n",
       "    .dataframe thead th {\n",
       "        text-align: right;\n",
       "    }\n",
       "</style>\n",
       "<table border=\"1\" class=\"dataframe\">\n",
       "  <thead>\n",
       "    <tr style=\"text-align: right;\">\n",
       "      <th></th>\n",
       "      <th>A</th>\n",
       "      <th>B</th>\n",
       "      <th>C</th>\n",
       "      <th>D</th>\n",
       "    </tr>\n",
       "  </thead>\n",
       "  <tbody>\n",
       "    <tr>\n",
       "      <th>0</th>\n",
       "      <td>1</td>\n",
       "      <td>2.000000</td>\n",
       "      <td>3.000000</td>\n",
       "      <td>'Good'</td>\n",
       "    </tr>\n",
       "    <tr>\n",
       "      <th>1</th>\n",
       "      <td>4</td>\n",
       "      <td>11.166667</td>\n",
       "      <td>6.000000</td>\n",
       "      <td>'Good'</td>\n",
       "    </tr>\n",
       "    <tr>\n",
       "      <th>2</th>\n",
       "      <td>7</td>\n",
       "      <td>11.166667</td>\n",
       "      <td>9.000000</td>\n",
       "      <td>'Excellent'</td>\n",
       "    </tr>\n",
       "    <tr>\n",
       "      <th>3</th>\n",
       "      <td>10</td>\n",
       "      <td>11.000000</td>\n",
       "      <td>12.000000</td>\n",
       "      <td>'Excellent'</td>\n",
       "    </tr>\n",
       "    <tr>\n",
       "      <th>4</th>\n",
       "      <td>13</td>\n",
       "      <td>14.000000</td>\n",
       "      <td>15.000000</td>\n",
       "      <td>'Excellent'</td>\n",
       "    </tr>\n",
       "    <tr>\n",
       "      <th>5</th>\n",
       "      <td>16</td>\n",
       "      <td>17.000000</td>\n",
       "      <td>11.428571</td>\n",
       "      <td>'Fair'</td>\n",
       "    </tr>\n",
       "    <tr>\n",
       "      <th>6</th>\n",
       "      <td>19</td>\n",
       "      <td>12.000000</td>\n",
       "      <td>12.000000</td>\n",
       "      <td>'Excellent'</td>\n",
       "    </tr>\n",
       "    <tr>\n",
       "      <th>7</th>\n",
       "      <td>20</td>\n",
       "      <td>11.000000</td>\n",
       "      <td>23.000000</td>\n",
       "      <td>'Fair'</td>\n",
       "    </tr>\n",
       "  </tbody>\n",
       "</table>\n",
       "</div>"
      ],
      "text/plain": [
       "    A          B          C            D\n",
       "0   1   2.000000   3.000000       'Good'\n",
       "1   4  11.166667   6.000000       'Good'\n",
       "2   7  11.166667   9.000000  'Excellent'\n",
       "3  10  11.000000  12.000000  'Excellent'\n",
       "4  13  14.000000  15.000000  'Excellent'\n",
       "5  16  17.000000  11.428571       'Fair'\n",
       "6  19  12.000000  12.000000  'Excellent'\n",
       "7  20  11.000000  23.000000       'Fair'"
      ]
     },
     "execution_count": 158,
     "metadata": {},
     "output_type": "execute_result"
    }
   ],
   "source": [
    "df"
   ]
  },
  {
   "cell_type": "markdown",
   "id": "3598694a",
   "metadata": {},
   "source": [
    "This can still be done much better"
   ]
  },
  {
   "cell_type": "code",
   "execution_count": null,
   "id": "54d2c6ab",
   "metadata": {},
   "outputs": [],
   "source": [
    "from sklearn.compose import ColumnTransformer"
   ]
  },
  {
   "cell_type": "code",
   "execution_count": null,
   "id": "93a4f886",
   "metadata": {},
   "outputs": [],
   "source": [
    "df = pd.read_csv('mydata.csv')\n",
    "df.values"
   ]
  },
  {
   "cell_type": "code",
   "execution_count": null,
   "id": "c8534458",
   "metadata": {},
   "outputs": [],
   "source": [
    "First_step=('replace_with_mean',\n",
    "            SimpleImputer(strategy='mean',missing_values=np.nan),\n",
    "            [1,2])\n",
    "\n",
    "Second_step=('replace_with_mostfrequent',\n",
    "             SimpleImputer(strategy='most_frequent',missing_values=np.nan),\n",
    "            [3])"
   ]
  },
  {
   "cell_type": "code",
   "execution_count": null,
   "id": "a97dcacd",
   "metadata": {},
   "outputs": [],
   "source": [
    "my_transformer = ColumnTransformer(transformers=[First_step,Second_step],remainder='passthrough')\n"
   ]
  },
  {
   "cell_type": "code",
   "execution_count": null,
   "id": "554e56ee",
   "metadata": {},
   "outputs": [],
   "source": [
    "my_transformer.fit(df.values)"
   ]
  },
  {
   "cell_type": "code",
   "execution_count": null,
   "id": "fd24267f",
   "metadata": {},
   "outputs": [],
   "source": [
    "Y=my_transformer.transform(df.values)"
   ]
  },
  {
   "cell_type": "code",
   "execution_count": null,
   "id": "14f4b11b",
   "metadata": {},
   "outputs": [],
   "source": [
    "pd.DataFrame(Y,columns=['A','B','C','D'])"
   ]
  },
  {
   "cell_type": "code",
   "execution_count": null,
   "id": "aeca5d2e",
   "metadata": {},
   "outputs": [],
   "source": []
  }
 ],
 "metadata": {
  "kernelspec": {
   "display_name": "Python 3 (ipykernel)",
   "language": "python",
   "name": "python3"
  },
  "language_info": {
   "codemirror_mode": {
    "name": "ipython",
    "version": 3
   },
   "file_extension": ".py",
   "mimetype": "text/x-python",
   "name": "python",
   "nbconvert_exporter": "python",
   "pygments_lexer": "ipython3",
   "version": "3.9.5"
  },
  "toc": {
   "base_numbering": 1,
   "nav_menu": {},
   "number_sections": true,
   "sideBar": true,
   "skip_h1_title": false,
   "title_cell": "Table of Contents",
   "title_sidebar": "Contents",
   "toc_cell": false,
   "toc_position": {},
   "toc_section_display": true,
   "toc_window_display": false
  }
 },
 "nbformat": 4,
 "nbformat_minor": 5
}
