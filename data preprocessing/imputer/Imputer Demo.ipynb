{
 "cells": [
  {
   "cell_type": "code",
   "execution_count": 160,
   "id": "69b2fdd8",
   "metadata": {},
   "outputs": [],
   "source": [
    "import numpy as np\n",
    "import pandas as pd"
   ]
  },
  {
   "cell_type": "code",
   "execution_count": 161,
   "id": "be7f0e1e",
   "metadata": {},
   "outputs": [
    {
     "data": {
      "text/html": [
       "<div>\n",
       "<style scoped>\n",
       "    .dataframe tbody tr th:only-of-type {\n",
       "        vertical-align: middle;\n",
       "    }\n",
       "\n",
       "    .dataframe tbody tr th {\n",
       "        vertical-align: top;\n",
       "    }\n",
       "\n",
       "    .dataframe thead th {\n",
       "        text-align: right;\n",
       "    }\n",
       "</style>\n",
       "<table border=\"1\" class=\"dataframe\">\n",
       "  <thead>\n",
       "    <tr style=\"text-align: right;\">\n",
       "      <th></th>\n",
       "      <th>A</th>\n",
       "      <th>B</th>\n",
       "      <th>C</th>\n",
       "      <th>D</th>\n",
       "    </tr>\n",
       "  </thead>\n",
       "  <tbody>\n",
       "    <tr>\n",
       "      <th>0</th>\n",
       "      <td>1</td>\n",
       "      <td>2.0</td>\n",
       "      <td>3.0</td>\n",
       "      <td>'Good'</td>\n",
       "    </tr>\n",
       "    <tr>\n",
       "      <th>1</th>\n",
       "      <td>4</td>\n",
       "      <td>NaN</td>\n",
       "      <td>6.0</td>\n",
       "      <td>'Good'</td>\n",
       "    </tr>\n",
       "    <tr>\n",
       "      <th>2</th>\n",
       "      <td>7</td>\n",
       "      <td>NaN</td>\n",
       "      <td>9.0</td>\n",
       "      <td>'Excellent'</td>\n",
       "    </tr>\n",
       "    <tr>\n",
       "      <th>3</th>\n",
       "      <td>10</td>\n",
       "      <td>11.0</td>\n",
       "      <td>12.0</td>\n",
       "      <td>NaN</td>\n",
       "    </tr>\n",
       "    <tr>\n",
       "      <th>4</th>\n",
       "      <td>13</td>\n",
       "      <td>14.0</td>\n",
       "      <td>15.0</td>\n",
       "      <td>'Excellent'</td>\n",
       "    </tr>\n",
       "    <tr>\n",
       "      <th>5</th>\n",
       "      <td>16</td>\n",
       "      <td>17.0</td>\n",
       "      <td>NaN</td>\n",
       "      <td>'Fair'</td>\n",
       "    </tr>\n",
       "    <tr>\n",
       "      <th>6</th>\n",
       "      <td>19</td>\n",
       "      <td>12.0</td>\n",
       "      <td>12.0</td>\n",
       "      <td>'Excellent'</td>\n",
       "    </tr>\n",
       "    <tr>\n",
       "      <th>7</th>\n",
       "      <td>20</td>\n",
       "      <td>11.0</td>\n",
       "      <td>23.0</td>\n",
       "      <td>'Fair'</td>\n",
       "    </tr>\n",
       "  </tbody>\n",
       "</table>\n",
       "</div>"
      ],
      "text/plain": [
       "    A     B     C            D\n",
       "0   1   2.0   3.0       'Good'\n",
       "1   4   NaN   6.0       'Good'\n",
       "2   7   NaN   9.0  'Excellent'\n",
       "3  10  11.0  12.0          NaN\n",
       "4  13  14.0  15.0  'Excellent'\n",
       "5  16  17.0   NaN       'Fair'\n",
       "6  19  12.0  12.0  'Excellent'\n",
       "7  20  11.0  23.0       'Fair'"
      ]
     },
     "execution_count": 161,
     "metadata": {},
     "output_type": "execute_result"
    }
   ],
   "source": [
    "df = pd.read_csv('mydata.csv')\n",
    "df"
   ]
  },
  {
   "cell_type": "markdown",
   "id": "2739d4e5",
   "metadata": {},
   "source": [
    "There are a lot of missing values in this file. We already covered many possibilities. One of them is do replace a column by the mean value:"
   ]
  },
  {
   "cell_type": "code",
   "execution_count": 162,
   "id": "4afe053c",
   "metadata": {},
   "outputs": [],
   "source": [
    "df['B']=df['B'].fillna(value=df['B'].mean())\n",
    "df['C']=df['C'].fillna(value=df['C'].mean())"
   ]
  },
  {
   "cell_type": "markdown",
   "id": "5c070cb1",
   "metadata": {},
   "source": [
    "A different approach is required for column D where you want to use the most frequent value"
   ]
  },
  {
   "cell_type": "code",
   "execution_count": 163,
   "id": "6aa91934",
   "metadata": {},
   "outputs": [],
   "source": [
    "df['D']=df['D'].fillna(value=df['D'].value_counts().index[0])"
   ]
  },
  {
   "cell_type": "code",
   "execution_count": 164,
   "id": "ab180b89",
   "metadata": {},
   "outputs": [
    {
     "data": {
      "text/html": [
       "<div>\n",
       "<style scoped>\n",
       "    .dataframe tbody tr th:only-of-type {\n",
       "        vertical-align: middle;\n",
       "    }\n",
       "\n",
       "    .dataframe tbody tr th {\n",
       "        vertical-align: top;\n",
       "    }\n",
       "\n",
       "    .dataframe thead th {\n",
       "        text-align: right;\n",
       "    }\n",
       "</style>\n",
       "<table border=\"1\" class=\"dataframe\">\n",
       "  <thead>\n",
       "    <tr style=\"text-align: right;\">\n",
       "      <th></th>\n",
       "      <th>A</th>\n",
       "      <th>B</th>\n",
       "      <th>C</th>\n",
       "      <th>D</th>\n",
       "    </tr>\n",
       "  </thead>\n",
       "  <tbody>\n",
       "    <tr>\n",
       "      <th>0</th>\n",
       "      <td>1</td>\n",
       "      <td>2.000000</td>\n",
       "      <td>3.000000</td>\n",
       "      <td>'Good'</td>\n",
       "    </tr>\n",
       "    <tr>\n",
       "      <th>1</th>\n",
       "      <td>4</td>\n",
       "      <td>11.166667</td>\n",
       "      <td>6.000000</td>\n",
       "      <td>'Good'</td>\n",
       "    </tr>\n",
       "    <tr>\n",
       "      <th>2</th>\n",
       "      <td>7</td>\n",
       "      <td>11.166667</td>\n",
       "      <td>9.000000</td>\n",
       "      <td>'Excellent'</td>\n",
       "    </tr>\n",
       "    <tr>\n",
       "      <th>3</th>\n",
       "      <td>10</td>\n",
       "      <td>11.000000</td>\n",
       "      <td>12.000000</td>\n",
       "      <td>'Excellent'</td>\n",
       "    </tr>\n",
       "    <tr>\n",
       "      <th>4</th>\n",
       "      <td>13</td>\n",
       "      <td>14.000000</td>\n",
       "      <td>15.000000</td>\n",
       "      <td>'Excellent'</td>\n",
       "    </tr>\n",
       "    <tr>\n",
       "      <th>5</th>\n",
       "      <td>16</td>\n",
       "      <td>17.000000</td>\n",
       "      <td>11.428571</td>\n",
       "      <td>'Fair'</td>\n",
       "    </tr>\n",
       "    <tr>\n",
       "      <th>6</th>\n",
       "      <td>19</td>\n",
       "      <td>12.000000</td>\n",
       "      <td>12.000000</td>\n",
       "      <td>'Excellent'</td>\n",
       "    </tr>\n",
       "    <tr>\n",
       "      <th>7</th>\n",
       "      <td>20</td>\n",
       "      <td>11.000000</td>\n",
       "      <td>23.000000</td>\n",
       "      <td>'Fair'</td>\n",
       "    </tr>\n",
       "  </tbody>\n",
       "</table>\n",
       "</div>"
      ],
      "text/plain": [
       "    A          B          C            D\n",
       "0   1   2.000000   3.000000       'Good'\n",
       "1   4  11.166667   6.000000       'Good'\n",
       "2   7  11.166667   9.000000  'Excellent'\n",
       "3  10  11.000000  12.000000  'Excellent'\n",
       "4  13  14.000000  15.000000  'Excellent'\n",
       "5  16  17.000000  11.428571       'Fair'\n",
       "6  19  12.000000  12.000000  'Excellent'\n",
       "7  20  11.000000  23.000000       'Fair'"
      ]
     },
     "execution_count": 164,
     "metadata": {},
     "output_type": "execute_result"
    }
   ],
   "source": [
    "df"
   ]
  },
  {
   "cell_type": "markdown",
   "id": "1cd02baf",
   "metadata": {},
   "source": [
    "Of course do you want to do this all the time ?"
   ]
  },
  {
   "cell_type": "markdown",
   "id": "0cd117db",
   "metadata": {},
   "source": [
    "You first initialize an instance of the SimpleImputer class by indicating the strategy (mean) as well as specifying the missing values that you want to locate (np.nan):"
   ]
  },
  {
   "cell_type": "code",
   "execution_count": 165,
   "id": "718398e7",
   "metadata": {},
   "outputs": [],
   "source": [
    "from sklearn.impute import SimpleImputer"
   ]
  },
  {
   "cell_type": "code",
   "execution_count": 166,
   "id": "411a9f51",
   "metadata": {},
   "outputs": [],
   "source": [
    "df = pd.read_csv('mydata.csv')\n",
    "imputer = SimpleImputer(strategy='mean', missing_values=np.nan)"
   ]
  },
  {
   "cell_type": "markdown",
   "id": "cce939bd",
   "metadata": {},
   "source": [
    "Once the instance is created, you use the `fit()` function to fit the imputer on the column(s) that you want to work on:"
   ]
  },
  {
   "cell_type": "code",
   "execution_count": 167,
   "id": "d125eef9",
   "metadata": {},
   "outputs": [],
   "source": [
    "imputer = imputer.fit(df[['B','C']])"
   ]
  },
  {
   "cell_type": "markdown",
   "id": "15a85c9a",
   "metadata": {},
   "source": [
    "You can now use the `transform()` function to fill the missing values based on the strategy you specified in the initializer of the SimpleImputer class:"
   ]
  },
  {
   "cell_type": "code",
   "execution_count": 168,
   "id": "0a7323da",
   "metadata": {},
   "outputs": [],
   "source": [
    "df[['B','C']] = imputer.transform(df[['B','C']])"
   ]
  },
  {
   "cell_type": "code",
   "execution_count": 169,
   "id": "74e6b4ed",
   "metadata": {},
   "outputs": [
    {
     "data": {
      "text/html": [
       "<div>\n",
       "<style scoped>\n",
       "    .dataframe tbody tr th:only-of-type {\n",
       "        vertical-align: middle;\n",
       "    }\n",
       "\n",
       "    .dataframe tbody tr th {\n",
       "        vertical-align: top;\n",
       "    }\n",
       "\n",
       "    .dataframe thead th {\n",
       "        text-align: right;\n",
       "    }\n",
       "</style>\n",
       "<table border=\"1\" class=\"dataframe\">\n",
       "  <thead>\n",
       "    <tr style=\"text-align: right;\">\n",
       "      <th></th>\n",
       "      <th>A</th>\n",
       "      <th>B</th>\n",
       "      <th>C</th>\n",
       "      <th>D</th>\n",
       "    </tr>\n",
       "  </thead>\n",
       "  <tbody>\n",
       "    <tr>\n",
       "      <th>0</th>\n",
       "      <td>1</td>\n",
       "      <td>2.000000</td>\n",
       "      <td>3.000000</td>\n",
       "      <td>'Good'</td>\n",
       "    </tr>\n",
       "    <tr>\n",
       "      <th>1</th>\n",
       "      <td>4</td>\n",
       "      <td>11.166667</td>\n",
       "      <td>6.000000</td>\n",
       "      <td>'Good'</td>\n",
       "    </tr>\n",
       "    <tr>\n",
       "      <th>2</th>\n",
       "      <td>7</td>\n",
       "      <td>11.166667</td>\n",
       "      <td>9.000000</td>\n",
       "      <td>'Excellent'</td>\n",
       "    </tr>\n",
       "    <tr>\n",
       "      <th>3</th>\n",
       "      <td>10</td>\n",
       "      <td>11.000000</td>\n",
       "      <td>12.000000</td>\n",
       "      <td>NaN</td>\n",
       "    </tr>\n",
       "    <tr>\n",
       "      <th>4</th>\n",
       "      <td>13</td>\n",
       "      <td>14.000000</td>\n",
       "      <td>15.000000</td>\n",
       "      <td>'Excellent'</td>\n",
       "    </tr>\n",
       "    <tr>\n",
       "      <th>5</th>\n",
       "      <td>16</td>\n",
       "      <td>17.000000</td>\n",
       "      <td>11.428571</td>\n",
       "      <td>'Fair'</td>\n",
       "    </tr>\n",
       "    <tr>\n",
       "      <th>6</th>\n",
       "      <td>19</td>\n",
       "      <td>12.000000</td>\n",
       "      <td>12.000000</td>\n",
       "      <td>'Excellent'</td>\n",
       "    </tr>\n",
       "    <tr>\n",
       "      <th>7</th>\n",
       "      <td>20</td>\n",
       "      <td>11.000000</td>\n",
       "      <td>23.000000</td>\n",
       "      <td>'Fair'</td>\n",
       "    </tr>\n",
       "  </tbody>\n",
       "</table>\n",
       "</div>"
      ],
      "text/plain": [
       "    A          B          C            D\n",
       "0   1   2.000000   3.000000       'Good'\n",
       "1   4  11.166667   6.000000       'Good'\n",
       "2   7  11.166667   9.000000  'Excellent'\n",
       "3  10  11.000000  12.000000          NaN\n",
       "4  13  14.000000  15.000000  'Excellent'\n",
       "5  16  17.000000  11.428571       'Fair'\n",
       "6  19  12.000000  12.000000  'Excellent'\n",
       "7  20  11.000000  23.000000       'Fair'"
      ]
     },
     "execution_count": 169,
     "metadata": {},
     "output_type": "execute_result"
    }
   ],
   "source": [
    "df"
   ]
  },
  {
   "cell_type": "markdown",
   "id": "372ba7b9",
   "metadata": {},
   "source": [
    "Now doing column D:"
   ]
  },
  {
   "cell_type": "code",
   "execution_count": 170,
   "id": "a8e9a52c",
   "metadata": {},
   "outputs": [],
   "source": [
    "imputer = SimpleImputer(strategy='most_frequent', \n",
    "                        missing_values=np.nan)\n",
    "imputer = imputer.fit(df[['D']])\n",
    "df[['D']] = imputer.transform(df[['D']])"
   ]
  },
  {
   "cell_type": "code",
   "execution_count": 171,
   "id": "935aee12",
   "metadata": {},
   "outputs": [
    {
     "data": {
      "text/html": [
       "<div>\n",
       "<style scoped>\n",
       "    .dataframe tbody tr th:only-of-type {\n",
       "        vertical-align: middle;\n",
       "    }\n",
       "\n",
       "    .dataframe tbody tr th {\n",
       "        vertical-align: top;\n",
       "    }\n",
       "\n",
       "    .dataframe thead th {\n",
       "        text-align: right;\n",
       "    }\n",
       "</style>\n",
       "<table border=\"1\" class=\"dataframe\">\n",
       "  <thead>\n",
       "    <tr style=\"text-align: right;\">\n",
       "      <th></th>\n",
       "      <th>A</th>\n",
       "      <th>B</th>\n",
       "      <th>C</th>\n",
       "      <th>D</th>\n",
       "    </tr>\n",
       "  </thead>\n",
       "  <tbody>\n",
       "    <tr>\n",
       "      <th>0</th>\n",
       "      <td>1</td>\n",
       "      <td>2.000000</td>\n",
       "      <td>3.000000</td>\n",
       "      <td>'Good'</td>\n",
       "    </tr>\n",
       "    <tr>\n",
       "      <th>1</th>\n",
       "      <td>4</td>\n",
       "      <td>11.166667</td>\n",
       "      <td>6.000000</td>\n",
       "      <td>'Good'</td>\n",
       "    </tr>\n",
       "    <tr>\n",
       "      <th>2</th>\n",
       "      <td>7</td>\n",
       "      <td>11.166667</td>\n",
       "      <td>9.000000</td>\n",
       "      <td>'Excellent'</td>\n",
       "    </tr>\n",
       "    <tr>\n",
       "      <th>3</th>\n",
       "      <td>10</td>\n",
       "      <td>11.000000</td>\n",
       "      <td>12.000000</td>\n",
       "      <td>'Excellent'</td>\n",
       "    </tr>\n",
       "    <tr>\n",
       "      <th>4</th>\n",
       "      <td>13</td>\n",
       "      <td>14.000000</td>\n",
       "      <td>15.000000</td>\n",
       "      <td>'Excellent'</td>\n",
       "    </tr>\n",
       "    <tr>\n",
       "      <th>5</th>\n",
       "      <td>16</td>\n",
       "      <td>17.000000</td>\n",
       "      <td>11.428571</td>\n",
       "      <td>'Fair'</td>\n",
       "    </tr>\n",
       "    <tr>\n",
       "      <th>6</th>\n",
       "      <td>19</td>\n",
       "      <td>12.000000</td>\n",
       "      <td>12.000000</td>\n",
       "      <td>'Excellent'</td>\n",
       "    </tr>\n",
       "    <tr>\n",
       "      <th>7</th>\n",
       "      <td>20</td>\n",
       "      <td>11.000000</td>\n",
       "      <td>23.000000</td>\n",
       "      <td>'Fair'</td>\n",
       "    </tr>\n",
       "  </tbody>\n",
       "</table>\n",
       "</div>"
      ],
      "text/plain": [
       "    A          B          C            D\n",
       "0   1   2.000000   3.000000       'Good'\n",
       "1   4  11.166667   6.000000       'Good'\n",
       "2   7  11.166667   9.000000  'Excellent'\n",
       "3  10  11.000000  12.000000  'Excellent'\n",
       "4  13  14.000000  15.000000  'Excellent'\n",
       "5  16  17.000000  11.428571       'Fair'\n",
       "6  19  12.000000  12.000000  'Excellent'\n",
       "7  20  11.000000  23.000000       'Fair'"
      ]
     },
     "execution_count": 171,
     "metadata": {},
     "output_type": "execute_result"
    }
   ],
   "source": [
    "df"
   ]
  },
  {
   "cell_type": "markdown",
   "id": "8b3b5a0c",
   "metadata": {},
   "source": [
    "This can still be done much better"
   ]
  },
  {
   "cell_type": "code",
   "execution_count": 172,
   "id": "df4b8b24",
   "metadata": {},
   "outputs": [],
   "source": [
    "from sklearn.compose import ColumnTransformer"
   ]
  },
  {
   "cell_type": "code",
   "execution_count": 173,
   "id": "bbd1bce9",
   "metadata": {},
   "outputs": [
    {
     "data": {
      "text/plain": [
       "array([[1, 2.0, 3.0, \"'Good'\"],\n",
       "       [4, nan, 6.0, \"'Good'\"],\n",
       "       [7, nan, 9.0, \"'Excellent'\"],\n",
       "       [10, 11.0, 12.0, nan],\n",
       "       [13, 14.0, 15.0, \"'Excellent'\"],\n",
       "       [16, 17.0, nan, \"'Fair'\"],\n",
       "       [19, 12.0, 12.0, \"'Excellent'\"],\n",
       "       [20, 11.0, 23.0, \"'Fair'\"]], dtype=object)"
      ]
     },
     "execution_count": 173,
     "metadata": {},
     "output_type": "execute_result"
    }
   ],
   "source": [
    "df = pd.read_csv('mydata.csv')\n",
    "df.values"
   ]
  },
  {
   "cell_type": "code",
   "execution_count": 174,
   "id": "e193df80",
   "metadata": {},
   "outputs": [],
   "source": [
    "First_step=('replace_with_mean',\n",
    "            SimpleImputer(strategy='mean',missing_values=np.nan),\n",
    "            [1,2])\n",
    "\n",
    "Second_step=('replace_with_mostfrequent',\n",
    "             SimpleImputer(strategy='most_frequent',missing_values=np.nan),\n",
    "            [3])"
   ]
  },
  {
   "cell_type": "code",
   "execution_count": 175,
   "id": "45863f81",
   "metadata": {},
   "outputs": [],
   "source": [
    "my_transformer = ColumnTransformer(transformers=[First_step,Second_step],remainder='passthrough')\n"
   ]
  },
  {
   "cell_type": "code",
   "execution_count": 176,
   "id": "539b9341",
   "metadata": {},
   "outputs": [
    {
     "data": {
      "text/plain": [
       "ColumnTransformer(remainder='passthrough',\n",
       "                  transformers=[('replace_with_mean', SimpleImputer(), [1, 2]),\n",
       "                                ('replace_with_mostfrequent',\n",
       "                                 SimpleImputer(strategy='most_frequent'),\n",
       "                                 [3])])"
      ]
     },
     "execution_count": 176,
     "metadata": {},
     "output_type": "execute_result"
    }
   ],
   "source": [
    "my_transformer.fit(df.values)"
   ]
  },
  {
   "cell_type": "code",
   "execution_count": 177,
   "id": "5c35bc8a",
   "metadata": {},
   "outputs": [],
   "source": [
    "Y=my_transformer.transform(df.values)"
   ]
  },
  {
   "cell_type": "code",
   "execution_count": 178,
   "id": "4b6c759d",
   "metadata": {},
   "outputs": [
    {
     "data": {
      "text/html": [
       "<div>\n",
       "<style scoped>\n",
       "    .dataframe tbody tr th:only-of-type {\n",
       "        vertical-align: middle;\n",
       "    }\n",
       "\n",
       "    .dataframe tbody tr th {\n",
       "        vertical-align: top;\n",
       "    }\n",
       "\n",
       "    .dataframe thead th {\n",
       "        text-align: right;\n",
       "    }\n",
       "</style>\n",
       "<table border=\"1\" class=\"dataframe\">\n",
       "  <thead>\n",
       "    <tr style=\"text-align: right;\">\n",
       "      <th></th>\n",
       "      <th>A</th>\n",
       "      <th>B</th>\n",
       "      <th>C</th>\n",
       "      <th>D</th>\n",
       "    </tr>\n",
       "  </thead>\n",
       "  <tbody>\n",
       "    <tr>\n",
       "      <th>0</th>\n",
       "      <td>2.0</td>\n",
       "      <td>3.0</td>\n",
       "      <td>'Good'</td>\n",
       "      <td>1</td>\n",
       "    </tr>\n",
       "    <tr>\n",
       "      <th>1</th>\n",
       "      <td>11.166667</td>\n",
       "      <td>6.0</td>\n",
       "      <td>'Good'</td>\n",
       "      <td>4</td>\n",
       "    </tr>\n",
       "    <tr>\n",
       "      <th>2</th>\n",
       "      <td>11.166667</td>\n",
       "      <td>9.0</td>\n",
       "      <td>'Excellent'</td>\n",
       "      <td>7</td>\n",
       "    </tr>\n",
       "    <tr>\n",
       "      <th>3</th>\n",
       "      <td>11.0</td>\n",
       "      <td>12.0</td>\n",
       "      <td>'Excellent'</td>\n",
       "      <td>10</td>\n",
       "    </tr>\n",
       "    <tr>\n",
       "      <th>4</th>\n",
       "      <td>14.0</td>\n",
       "      <td>15.0</td>\n",
       "      <td>'Excellent'</td>\n",
       "      <td>13</td>\n",
       "    </tr>\n",
       "    <tr>\n",
       "      <th>5</th>\n",
       "      <td>17.0</td>\n",
       "      <td>11.428571</td>\n",
       "      <td>'Fair'</td>\n",
       "      <td>16</td>\n",
       "    </tr>\n",
       "    <tr>\n",
       "      <th>6</th>\n",
       "      <td>12.0</td>\n",
       "      <td>12.0</td>\n",
       "      <td>'Excellent'</td>\n",
       "      <td>19</td>\n",
       "    </tr>\n",
       "    <tr>\n",
       "      <th>7</th>\n",
       "      <td>11.0</td>\n",
       "      <td>23.0</td>\n",
       "      <td>'Fair'</td>\n",
       "      <td>20</td>\n",
       "    </tr>\n",
       "  </tbody>\n",
       "</table>\n",
       "</div>"
      ],
      "text/plain": [
       "           A          B            C   D\n",
       "0        2.0        3.0       'Good'   1\n",
       "1  11.166667        6.0       'Good'   4\n",
       "2  11.166667        9.0  'Excellent'   7\n",
       "3       11.0       12.0  'Excellent'  10\n",
       "4       14.0       15.0  'Excellent'  13\n",
       "5       17.0  11.428571       'Fair'  16\n",
       "6       12.0       12.0  'Excellent'  19\n",
       "7       11.0       23.0       'Fair'  20"
      ]
     },
     "execution_count": 178,
     "metadata": {},
     "output_type": "execute_result"
    }
   ],
   "source": [
    "pd.DataFrame(Y,columns=['A','B','C','D'])"
   ]
  },
  {
   "cell_type": "code",
   "execution_count": null,
   "id": "66e21841",
   "metadata": {},
   "outputs": [],
   "source": []
  }
 ],
 "metadata": {
  "kernelspec": {
   "display_name": "Python 3 (ipykernel)",
   "language": "python",
   "name": "python3"
  },
  "language_info": {
   "codemirror_mode": {
    "name": "ipython",
    "version": 3
   },
   "file_extension": ".py",
   "mimetype": "text/x-python",
   "name": "python",
   "nbconvert_exporter": "python",
   "pygments_lexer": "ipython3",
   "version": "3.9.5"
  },
  "toc": {
   "base_numbering": 1,
   "nav_menu": {},
   "number_sections": true,
   "sideBar": true,
   "skip_h1_title": false,
   "title_cell": "Table of Contents",
   "title_sidebar": "Contents",
   "toc_cell": false,
   "toc_position": {},
   "toc_section_display": true,
   "toc_window_display": false
  }
 },
 "nbformat": 4,
 "nbformat_minor": 5
}
