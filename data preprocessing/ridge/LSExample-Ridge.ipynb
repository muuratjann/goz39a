{
 "cells": [
  {
   "cell_type": "code",
   "execution_count": 1,
   "metadata": {
    "executionInfo": {
     "elapsed": 565,
     "status": "ok",
     "timestamp": 1608830231009,
     "user": {
      "displayName": "Jan De Spiegeleer",
      "photoUrl": "https://lh3.googleusercontent.com/a-/AOh14Ggxxb9SxBqAv_r35BXg4rQuvrALa7N1_RqDSbwQUw=s64",
      "userId": "15176895267494237817"
     },
     "user_tz": -60
    },
    "id": "SqPJdpntyf9Y"
   },
   "outputs": [],
   "source": [
    "import numpy as np\n",
    "import pandas as pd\n",
    "\n",
    "from sklearn import linear_model\n",
    "import matplotlib.pyplot as plt\n",
    "\n",
    "%matplotlib inline\n",
    "import seaborn as sns\n",
    "sns.set()"
   ]
  },
  {
   "cell_type": "markdown",
   "metadata": {
    "id": "jCL8hz2yylH6"
   },
   "source": [
    "# Start Reading Data"
   ]
  },
  {
   "cell_type": "code",
   "execution_count": 2,
   "metadata": {
    "executionInfo": {
     "elapsed": 1466,
     "status": "ok",
     "timestamp": 1608830231916,
     "user": {
      "displayName": "Jan De Spiegeleer",
      "photoUrl": "https://lh3.googleusercontent.com/a-/AOh14Ggxxb9SxBqAv_r35BXg4rQuvrALa7N1_RqDSbwQUw=s64",
      "userId": "15176895267494237817"
     },
     "user_tz": -60
    },
    "id": "BPE2E-NPyf9c"
   },
   "outputs": [],
   "source": [
    "#read csv file\n",
    "portfolio = pd.read_csv('https://goz39a.s3.eu-central-1.amazonaws.com/Portfolio.csv',parse_dates=True,index_col='T')\n"
   ]
  },
  {
   "cell_type": "code",
   "execution_count": 3,
   "metadata": {
    "colab": {
     "base_uri": "https://localhost:8080/",
     "height": 235
    },
    "executionInfo": {
     "elapsed": 1463,
     "status": "ok",
     "timestamp": 1608830231918,
     "user": {
      "displayName": "Jan De Spiegeleer",
      "photoUrl": "https://lh3.googleusercontent.com/a-/AOh14Ggxxb9SxBqAv_r35BXg4rQuvrALa7N1_RqDSbwQUw=s64",
      "userId": "15176895267494237817"
     },
     "user_tz": -60
    },
    "id": "Cu_KaHly1kK_",
    "outputId": "485f4efc-089c-4ce8-eee3-7f20531c3589"
   },
   "outputs": [
    {
     "data": {
      "text/html": [
       "<div>\n",
       "<style scoped>\n",
       "    .dataframe tbody tr th:only-of-type {\n",
       "        vertical-align: middle;\n",
       "    }\n",
       "\n",
       "    .dataframe tbody tr th {\n",
       "        vertical-align: top;\n",
       "    }\n",
       "\n",
       "    .dataframe thead th {\n",
       "        text-align: right;\n",
       "    }\n",
       "</style>\n",
       "<table border=\"1\" class=\"dataframe\">\n",
       "  <thead>\n",
       "    <tr style=\"text-align: right;\">\n",
       "      <th></th>\n",
       "      <th>DAX</th>\n",
       "      <th>NKY</th>\n",
       "      <th>SPX</th>\n",
       "      <th>SX5E</th>\n",
       "      <th>SX7E</th>\n",
       "      <th>SXAP</th>\n",
       "      <th>SXKP</th>\n",
       "      <th>PORTFOLIO</th>\n",
       "    </tr>\n",
       "    <tr>\n",
       "      <th>T</th>\n",
       "      <th></th>\n",
       "      <th></th>\n",
       "      <th></th>\n",
       "      <th></th>\n",
       "      <th></th>\n",
       "      <th></th>\n",
       "      <th></th>\n",
       "      <th></th>\n",
       "    </tr>\n",
       "  </thead>\n",
       "  <tbody>\n",
       "    <tr>\n",
       "      <th>2014-10-08</th>\n",
       "      <td>-0.00437</td>\n",
       "      <td>-0.00520</td>\n",
       "      <td>0.00752</td>\n",
       "      <td>-0.00408</td>\n",
       "      <td>-0.00456</td>\n",
       "      <td>-0.00751</td>\n",
       "      <td>-0.00297</td>\n",
       "      <td>-0.00325</td>\n",
       "    </tr>\n",
       "    <tr>\n",
       "      <th>2014-10-09</th>\n",
       "      <td>0.00047</td>\n",
       "      <td>-0.00327</td>\n",
       "      <td>-0.00907</td>\n",
       "      <td>-0.00155</td>\n",
       "      <td>-0.00464</td>\n",
       "      <td>0.00024</td>\n",
       "      <td>-0.00558</td>\n",
       "      <td>-0.00562</td>\n",
       "    </tr>\n",
       "    <tr>\n",
       "      <th>2014-10-14</th>\n",
       "      <td>0.00179</td>\n",
       "      <td>-0.01046</td>\n",
       "      <td>-0.00653</td>\n",
       "      <td>0.00138</td>\n",
       "      <td>0.00075</td>\n",
       "      <td>0.01232</td>\n",
       "      <td>-0.00130</td>\n",
       "      <td>-0.01723</td>\n",
       "    </tr>\n",
       "    <tr>\n",
       "      <th>2014-10-15</th>\n",
       "      <td>-0.01265</td>\n",
       "      <td>0.00397</td>\n",
       "      <td>-0.00353</td>\n",
       "      <td>-0.01598</td>\n",
       "      <td>-0.02159</td>\n",
       "      <td>-0.01331</td>\n",
       "      <td>-0.01484</td>\n",
       "      <td>-0.00118</td>\n",
       "    </tr>\n",
       "    <tr>\n",
       "      <th>2014-10-16</th>\n",
       "      <td>0.00055</td>\n",
       "      <td>-0.00976</td>\n",
       "      <td>0.00006</td>\n",
       "      <td>-0.00270</td>\n",
       "      <td>-0.00929</td>\n",
       "      <td>0.00638</td>\n",
       "      <td>-0.00521</td>\n",
       "      <td>-0.00183</td>\n",
       "    </tr>\n",
       "  </tbody>\n",
       "</table>\n",
       "</div>"
      ],
      "text/plain": [
       "                DAX      NKY      SPX     SX5E     SX7E     SXAP     SXKP  \\\n",
       "T                                                                           \n",
       "2014-10-08 -0.00437 -0.00520  0.00752 -0.00408 -0.00456 -0.00751 -0.00297   \n",
       "2014-10-09  0.00047 -0.00327 -0.00907 -0.00155 -0.00464  0.00024 -0.00558   \n",
       "2014-10-14  0.00179 -0.01046 -0.00653  0.00138  0.00075  0.01232 -0.00130   \n",
       "2014-10-15 -0.01265  0.00397 -0.00353 -0.01598 -0.02159 -0.01331 -0.01484   \n",
       "2014-10-16  0.00055 -0.00976  0.00006 -0.00270 -0.00929  0.00638 -0.00521   \n",
       "\n",
       "            PORTFOLIO  \n",
       "T                      \n",
       "2014-10-08   -0.00325  \n",
       "2014-10-09   -0.00562  \n",
       "2014-10-14   -0.01723  \n",
       "2014-10-15   -0.00118  \n",
       "2014-10-16   -0.00183  "
      ]
     },
     "execution_count": 3,
     "metadata": {},
     "output_type": "execute_result"
    }
   ],
   "source": [
    "portfolio.head()"
   ]
  },
  {
   "cell_type": "code",
   "execution_count": 4,
   "metadata": {
    "executionInfo": {
     "elapsed": 1457,
     "status": "ok",
     "timestamp": 1608830231919,
     "user": {
      "displayName": "Jan De Spiegeleer",
      "photoUrl": "https://lh3.googleusercontent.com/a-/AOh14Ggxxb9SxBqAv_r35BXg4rQuvrALa7N1_RqDSbwQUw=s64",
      "userId": "15176895267494237817"
     },
     "user_tz": -60
    },
    "id": "PHVmR01Ayf9f"
   },
   "outputs": [],
   "source": [
    "#the last column is the target\n",
    "y = portfolio.values[:,-1]\n",
    "\n",
    "#create the design / feature matrix\n",
    "X = portfolio.values[:,0:-1]\n",
    "\n",
    "futures_names = portfolio.columns[:-1]"
   ]
  },
  {
   "cell_type": "markdown",
   "metadata": {
    "id": "J0bBSVH7yp1X"
   },
   "source": [
    "\n",
    "# Calculate Regression"
   ]
  },
  {
   "cell_type": "markdown",
   "metadata": {
    "id": "eDbuLz3byf9j"
   },
   "source": [
    "Set up the ridge regression (fit_intercept=True, in order to allow normalization to be true)"
   ]
  },
  {
   "cell_type": "code",
   "execution_count": 5,
   "metadata": {
    "colab": {
     "base_uri": "https://localhost:8080/"
    },
    "executionInfo": {
     "elapsed": 1453,
     "status": "ok",
     "timestamp": 1608830231920,
     "user": {
      "displayName": "Jan De Spiegeleer",
      "photoUrl": "https://lh3.googleusercontent.com/a-/AOh14Ggxxb9SxBqAv_r35BXg4rQuvrALa7N1_RqDSbwQUw=s64",
      "userId": "15176895267494237817"
     },
     "user_tz": -60
    },
    "id": "GGB4nVZcyf9j",
    "outputId": "d492e870-10ba-4cfb-e235-ecacabada87c"
   },
   "outputs": [
    {
     "name": "stdout",
     "output_type": "stream",
     "text": [
      "Coefficients for alphs: 1.0\n",
      "[0.0035885  0.00272545 0.00232326 0.0039481  0.00480084 0.0035135\n",
      " 0.00373169]\n"
     ]
    }
   ],
   "source": [
    "#setting up the ridge model\n",
    "Alpha = 1.0\n",
    "ridge_model = linear_model.Ridge(fit_intercept=True, alpha=Alpha,copy_X=True)\n",
    "ridge_model.fit(X,y)\n",
    "print('Coefficients for alphs:',str(Alpha))\n",
    "print(ridge_model.coef_[:])"
   ]
  },
  {
   "cell_type": "markdown",
   "metadata": {
    "id": "WU1I8SbQj9VB"
   },
   "source": [
    "Setting up the OLS model"
   ]
  },
  {
   "cell_type": "code",
   "execution_count": 6,
   "metadata": {
    "colab": {
     "base_uri": "https://localhost:8080/"
    },
    "executionInfo": {
     "elapsed": 1448,
     "status": "ok",
     "timestamp": 1608830231921,
     "user": {
      "displayName": "Jan De Spiegeleer",
      "photoUrl": "https://lh3.googleusercontent.com/a-/AOh14Ggxxb9SxBqAv_r35BXg4rQuvrALa7N1_RqDSbwQUw=s64",
      "userId": "15176895267494237817"
     },
     "user_tz": -60
    },
    "id": "AC0r1cp_yf9w",
    "outputId": "e572f82e-e76e-4815-da30-c0c950d32b09"
   },
   "outputs": [
    {
     "data": {
      "text/plain": [
       "LinearRegression()"
      ]
     },
     "execution_count": 6,
     "metadata": {},
     "output_type": "execute_result"
    }
   ],
   "source": [
    "ols_model = linear_model.LinearRegression(fit_intercept=True)\n",
    "ols_model.fit(X,y)"
   ]
  },
  {
   "cell_type": "markdown",
   "metadata": {
    "id": "BQbE2rMRkH0w"
   },
   "source": [
    "# Comparing Results"
   ]
  },
  {
   "cell_type": "code",
   "execution_count": 7,
   "metadata": {
    "colab": {
     "base_uri": "https://localhost:8080/"
    },
    "executionInfo": {
     "elapsed": 1441,
     "status": "ok",
     "timestamp": 1608830231921,
     "user": {
      "displayName": "Jan De Spiegeleer",
      "photoUrl": "https://lh3.googleusercontent.com/a-/AOh14Ggxxb9SxBqAv_r35BXg4rQuvrALa7N1_RqDSbwQUw=s64",
      "userId": "15176895267494237817"
     },
     "user_tz": -60
    },
    "id": "Fp-6HNMTyf90",
    "outputId": "9db6040c-e613-490d-a5ae-775b7e2b4592"
   },
   "outputs": [
    {
     "name": "stdout",
     "output_type": "stream",
     "text": [
      "RSquared OLS\n",
      "0.5721537153344336\n",
      "RSquared Ridge\n",
      "0.025798690648973\n"
     ]
    }
   ],
   "source": [
    "print('RSquared OLS')\n",
    "print(ols_model.score(X,y))\n",
    "print('RSquared Ridge')\n",
    "print(ridge_model.score(X,y))"
   ]
  },
  {
   "cell_type": "code",
   "execution_count": 9,
   "metadata": {
    "colab": {
     "base_uri": "https://localhost:8080/",
     "height": 518
    },
    "executionInfo": {
     "elapsed": 2024,
     "status": "ok",
     "timestamp": 1608830232511,
     "user": {
      "displayName": "Jan De Spiegeleer",
      "photoUrl": "https://lh3.googleusercontent.com/a-/AOh14Ggxxb9SxBqAv_r35BXg4rQuvrALa7N1_RqDSbwQUw=s64",
      "userId": "15176895267494237817"
     },
     "user_tz": -60
    },
    "id": "JncrtazKyf96",
    "outputId": "f1802b75-71f3-4d87-c44b-3e7f5701ad99"
   },
   "outputs": [
    {
     "data": {
      "image/png": "[encoded data removed]",
      "text/plain": [
       "<Figure size 720x576 with 2 Axes>"
      ]
     },
     "metadata": {},
     "output_type": "display_data"
    }
   ],
   "source": [
    "#OLS\n",
    "fig, ax = plt.subplots(2,1,sharex=True,figsize=(10,8))\n",
    "\n",
    "\n",
    "y_pos = np.arange(len(futures_names))\n",
    "hedge_ols = ols_model.coef_\n",
    "ax[0].barh(y=y_pos, width=hedge_ols*100, align='center', alpha=0.4)\n",
    "ax[0].set_yticks(y_pos)\n",
    "ax[0].set_yticklabels(futures_names)\n",
    "ax[0].set_title('Hedging Portfolio - OLS/ Gross Exposure: {d:0.2f} %'.format(d=100*np.sum(np.abs(hedge_ols))))\n",
    "\n",
    "\n",
    "#Ridge Regression\n",
    "hedge_ridge = ridge_model.coef_\n",
    "ax[1].barh(y=y_pos, width=hedge_ridge*100, align='center', alpha=0.4)\n",
    "ax[1].set_yticks(y_pos)\n",
    "ax[1].set_yticklabels(futures_names)\n",
    "ax[1].set_xlabel('Hedge Ratio (%)')\n",
    "ax[1].set_title('Hedging Portfolio Alpha - Ridge/Gross Exposure: {d:0.2f}'.format(d=100*np.sum(np.abs(hedge_ridge))));"
   ]
  },
  {
   "cell_type": "markdown",
   "metadata": {
    "id": "ITTvhoPiyf99"
   },
   "source": [
    "# Study the impact of the ridge regression on the weights"
   ]
  },
  {
   "cell_type": "markdown",
   "metadata": {
    "id": "iE1ENzLiyf-A"
   },
   "source": [
    "For different values of Alpha"
   ]
  },
  {
   "cell_type": "code",
   "execution_count": 10,
   "metadata": {
    "executionInfo": {
     "elapsed": 522,
     "status": "ok",
     "timestamp": 1608830777259,
     "user": {
      "displayName": "Jan De Spiegeleer",
      "photoUrl": "https://lh3.googleusercontent.com/a-/AOh14Ggxxb9SxBqAv_r35BXg4rQuvrALa7N1_RqDSbwQUw=s64",
      "userId": "15176895267494237817"
     },
     "user_tz": -60
    },
    "id": "4sRpnujfyf-D"
   },
   "outputs": [],
   "source": [
    "alpha = np.power(10,np.arange(-2,0,0.005))"
   ]
  },
  {
   "cell_type": "code",
   "execution_count": 11,
   "metadata": {
    "executionInfo": {
     "elapsed": 1821,
     "status": "ok",
     "timestamp": 1608830798155,
     "user": {
      "displayName": "Jan De Spiegeleer",
      "photoUrl": "https://lh3.googleusercontent.com/a-/AOh14Ggxxb9SxBqAv_r35BXg4rQuvrALa7N1_RqDSbwQUw=s64",
      "userId": "15176895267494237817"
     },
     "user_tz": -60
    },
    "id": "OM5N0fbZyf-H"
   },
   "outputs": [],
   "source": [
    "weights = np.zeros((len(alpha),len(futures_names)),dtype=float)"
   ]
  },
  {
   "cell_type": "code",
   "execution_count": 21,
   "metadata": {
    "executionInfo": {
     "elapsed": 519,
     "status": "ok",
     "timestamp": 1608830804366,
     "user": {
      "displayName": "Jan De Spiegeleer",
      "photoUrl": "https://lh3.googleusercontent.com/a-/AOh14Ggxxb9SxBqAv_r35BXg4rQuvrALa7N1_RqDSbwQUw=s64",
      "userId": "15176895267494237817"
     },
     "user_tz": -60
    },
    "id": "yvoY6Bfbyf-J"
   },
   "outputs": [],
   "source": [
    "for i in np.arange(0,len(alpha)):\n",
    "    ridge_model = linear_model.Ridge(fit_intercept=True, \n",
    "                                     alpha=alpha[i],\n",
    "                                     copy_X=True)\n",
    "    ridge_model.fit(X,y)\n",
    "    weights[i,:]= ridge_model.coef_\n",
    "    "
   ]
  },
  {
   "cell_type": "code",
   "execution_count": 22,
   "metadata": {
    "colab": {
     "base_uri": "https://localhost:8080/",
     "height": 346
    },
    "executionInfo": {
     "elapsed": 1440,
     "status": "ok",
     "timestamp": 1608830841624,
     "user": {
      "displayName": "Jan De Spiegeleer",
      "photoUrl": "https://lh3.googleusercontent.com/a-/AOh14Ggxxb9SxBqAv_r35BXg4rQuvrALa7N1_RqDSbwQUw=s64",
      "userId": "15176895267494237817"
     },
     "user_tz": -60
    },
    "id": "swLaqoypyf-L",
    "outputId": "e1e4f100-404d-4782-cfff-c2eb4dea23d4"
   },
   "outputs": [
    {
     "data": {
      "image/png": "[encoded data removed]",
      "text/plain": [
       "<Figure size 720x360 with 1 Axes>"
      ]
     },
     "metadata": {},
     "output_type": "display_data"
    }
   ],
   "source": [
    "plt.figure(figsize=(10,5))    \n",
    "for i in np.arange(0,len(futures_names)):\n",
    "    plt.semilogx(alpha[:],weights[:,i]*100,label=futures_names[i])\n",
    "\n",
    "plt.xlabel('log(alpha)')\n",
    "plt.ylabel('weight(%)')\n",
    "plt.legend(loc=\"upper right\");\n",
    "    "
   ]
  },
  {
   "cell_type": "markdown",
   "metadata": {
    "id": "ZUczL2RYyf-N"
   },
   "source": [
    "# Using cross validation to find the optimal value of the ridge factor."
   ]
  },
  {
   "cell_type": "code",
   "execution_count": 23,
   "metadata": {
    "colab": {
     "base_uri": "https://localhost:8080/"
    },
    "executionInfo": {
     "elapsed": 5066,
     "status": "ok",
     "timestamp": 1608830941526,
     "user": {
      "displayName": "Jan De Spiegeleer",
      "photoUrl": "https://lh3.googleusercontent.com/a-/AOh14Ggxxb9SxBqAv_r35BXg4rQuvrALa7N1_RqDSbwQUw=s64",
      "userId": "15176895267494237817"
     },
     "user_tz": -60
    },
    "id": "avJLrGl_yf-O",
    "outputId": "d1491752-d6c1-42fb-8f8d-bc59e575d75e"
   },
   "outputs": [
    {
     "name": "stdout",
     "output_type": "stream",
     "text": [
      "Optimal Value for Alpha:0.0100\n",
      "[0.06939093 0.15644274 0.10535921 0.08760943 0.11657861 0.03362317\n",
      " 0.10881933]\n"
     ]
    }
   ],
   "source": [
    "# use cross validation using 10 Fold cross validation\n",
    "Ridge=linear_model.RidgeCV(alphas=alpha,fit_intercept=True,cv=10)\n",
    "Ridge.fit(X,y)\n",
    "print('Optimal Value for Alpha:{v:0.4f}'.format(v=Ridge.alpha_))\n",
    "print(Ridge.coef_)"
   ]
  },
  {
   "cell_type": "code",
   "execution_count": 24,
   "metadata": {
    "colab": {
     "base_uri": "https://localhost:8080/"
    },
    "executionInfo": {
     "elapsed": 532,
     "status": "ok",
     "timestamp": 1608830943067,
     "user": {
      "displayName": "Jan De Spiegeleer",
      "photoUrl": "https://lh3.googleusercontent.com/a-/AOh14Ggxxb9SxBqAv_r35BXg4rQuvrALa7N1_RqDSbwQUw=s64",
      "userId": "15176895267494237817"
     },
     "user_tz": -60
    },
    "id": "vXaSTt6oyf-Q",
    "outputId": "8f81e337-1912-4d0d-8148-46c451dd4b44"
   },
   "outputs": [
    {
     "name": "stdout",
     "output_type": "stream",
     "text": [
      "Gross Exposure 67.78\n"
     ]
    }
   ],
   "source": [
    "print('Gross Exposure',np.round(100*np.sum(np.abs(Ridge.coef_)),2))"
   ]
  },
  {
   "cell_type": "code",
   "execution_count": null,
   "metadata": {
    "executionInfo": {
     "elapsed": 2212,
     "status": "aborted",
     "timestamp": 1608830232741,
     "user": {
      "displayName": "Jan De Spiegeleer",
      "photoUrl": "https://lh3.googleusercontent.com/a-/AOh14Ggxxb9SxBqAv_r35BXg4rQuvrALa7N1_RqDSbwQUw=s64",
      "userId": "15176895267494237817"
     },
     "user_tz": -60
    },
    "id": "AiebofLzyf-V"
   },
   "outputs": [],
   "source": []
  }
 ],
 "metadata": {
  "anaconda-cloud": {},
  "colab": {
   "collapsed_sections": [],
   "name": "LSExample-Ridge.ipynb",
   "provenance": []
  },
  "kernelspec": {
   "display_name": "Python 3 (ipykernel)",
   "language": "python",
   "name": "python3"
  },
  "language_info": {
   "codemirror_mode": {
    "name": "ipython",
    "version": 3
   },
   "file_extension": ".py",
   "mimetype": "text/x-python",
   "name": "python",
   "nbconvert_exporter": "python",
   "pygments_lexer": "ipython3",
   "version": "3.9.7"
  },
  "toc": {
   "base_numbering": 1,
   "nav_menu": {},
   "number_sections": true,
   "sideBar": true,
   "skip_h1_title": false,
   "title_cell": "Table of Contents",
   "title_sidebar": "Contents",
   "toc_cell": false,
   "toc_position": {},
   "toc_section_display": true,
   "toc_window_display": false
  },
  "varInspector": {
   "cols": {
    "lenName": 16,
    "lenType": 16,
    "lenVar": 40
   },
   "kernels_config": {
    "python": {
     "delete_cmd_postfix": "",
     "delete_cmd_prefix": "del ",
     "library": "var_list.py",
     "varRefreshCmd": "print(var_dic_list())"
    },
    "r": {
     "delete_cmd_postfix": ") ",
     "delete_cmd_prefix": "rm(",
     "library": "var_list.r",
     "varRefreshCmd": "cat(var_dic_list()) "
    }
   },
   "types_to_exclude": [
    "module",
    "function",
    "builtin_function_or_method",
    "instance",
    "_Feature"
   ],
   "window_display": false
  }
 },
 "nbformat": 4,
 "nbformat_minor": 1
}
